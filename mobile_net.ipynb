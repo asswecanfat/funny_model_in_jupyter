{
 "cells": [
  {
   "cell_type": "code",
   "execution_count": 7,
   "metadata": {
    "collapsed": true
   },
   "outputs": [],
   "source": [
    "import numpy as np\n",
    "\n",
    "from tensorflow.keras.layers import SeparableConv2D, Flatten, Dense, Input, Conv2D, ReLU, MaxPooling2D\n",
    "from tensorflow.keras.models import Model\n",
    "from tensorflow.keras.losses import SparseCategoricalCrossentropy\n",
    "from tensorflow.keras.optimizers import SGD\n",
    "from tensorflow.keras.backend import softmax\n",
    "from tensorflow.keras.datasets import cifar10"
   ]
  },
  {
   "cell_type": "code",
   "execution_count": 8,
   "outputs": [],
   "source": [
    "def mobile_net(input_size: tuple, classes: int):\n",
    "\n",
    "    x = Input(shape=input_size)\n",
    "    y = Conv2D(filters=16, kernel_size=(3, 3), padding=\"same\", activation=ReLU())(x)\n",
    "    y = SeparableConv2D(filters=32, kernel_size=(3, 3), padding=\"same\", activation=ReLU())(y)\n",
    "    y = MaxPooling2D(pool_size=(3, 3), padding=\"same\")(y)\n",
    "\n",
    "    y = SeparableConv2D(filters=64, kernel_size=(3, 3), padding=\"same\", activation=ReLU())(y)\n",
    "    y = SeparableConv2D(filters=128, kernel_size=(3, 3), padding=\"same\", activation=ReLU())(y)\n",
    "    y = MaxPooling2D(pool_size=(3, 3), padding=\"same\")(y)\n",
    "\n",
    "    y = Flatten()(y)\n",
    "    y = Dense(128)(y)\n",
    "    y = ReLU()(y)\n",
    "    y = Dense(classes, activation=softmax)(y)\n",
    "    _model = Model(x, y)\n",
    "    return _model"
   ],
   "metadata": {
    "collapsed": false,
    "pycharm": {
     "name": "#%%\n"
    }
   }
  },
  {
   "cell_type": "code",
   "execution_count": 9,
   "outputs": [
    {
     "name": "stdout",
     "output_type": "stream",
     "text": [
      "Model: \"model_1\"\n",
      "_________________________________________________________________\n",
      "Layer (type)                 Output Shape              Param #   \n",
      "=================================================================\n",
      "input_2 (InputLayer)         [(None, 32, 32, 3)]       0         \n",
      "_________________________________________________________________\n",
      "conv2d_1 (Conv2D)            (None, 32, 32, 16)        448       \n",
      "_________________________________________________________________\n",
      "separable_conv2d_3 (Separabl (None, 32, 32, 32)        688       \n",
      "_________________________________________________________________\n",
      "max_pooling2d_2 (MaxPooling2 (None, 11, 11, 32)        0         \n",
      "_________________________________________________________________\n",
      "separable_conv2d_4 (Separabl (None, 11, 11, 64)        2400      \n",
      "_________________________________________________________________\n",
      "separable_conv2d_5 (Separabl (None, 11, 11, 128)       8896      \n",
      "_________________________________________________________________\n",
      "max_pooling2d_3 (MaxPooling2 (None, 4, 4, 128)         0         \n",
      "_________________________________________________________________\n",
      "flatten_1 (Flatten)          (None, 2048)              0         \n",
      "_________________________________________________________________\n",
      "dense_2 (Dense)              (None, 128)               262272    \n",
      "_________________________________________________________________\n",
      "re_lu_9 (ReLU)               (None, 128)               0         \n",
      "_________________________________________________________________\n",
      "dense_3 (Dense)              (None, 10)                1290      \n",
      "=================================================================\n",
      "Total params: 275,994\n",
      "Trainable params: 275,994\n",
      "Non-trainable params: 0\n",
      "_________________________________________________________________\n"
     ]
    }
   ],
   "source": [
    "mn = mobile_net(input_size=(32, 32, 3), classes=10)\n",
    "mn.summary()"
   ],
   "metadata": {
    "collapsed": false,
    "pycharm": {
     "name": "#%%\n"
    }
   }
  },
  {
   "cell_type": "code",
   "execution_count": 10,
   "outputs": [],
   "source": [
    "sgd = SGD(learning_rate=0.01)\n",
    "\n",
    "(x_train, y_train), (x_test, y_test) = cifar10.load_data()\n",
    "x_train = x_train / 255.\n",
    "x_test = x_test / 255.\n",
    "# print(np.expand_dims(x_train, 3).shape)\n",
    "# print(np.expand_dims(x_test, 3).shape)"
   ],
   "metadata": {
    "collapsed": false,
    "pycharm": {
     "name": "#%%\n"
    }
   }
  },
  {
   "cell_type": "code",
   "execution_count": 11,
   "outputs": [],
   "source": [
    "mn.compile(optimizer=sgd, loss=SparseCategoricalCrossentropy(), metrics=['acc'])"
   ],
   "metadata": {
    "collapsed": false,
    "pycharm": {
     "name": "#%%\n"
    }
   }
  },
  {
   "cell_type": "code",
   "execution_count": 12,
   "outputs": [
    {
     "name": "stdout",
     "output_type": "stream",
     "text": [
      "Epoch 1/20\n",
      "1563/1563 [==============================] - 20s 7ms/step - loss: 2.3026 - acc: 0.1009 - val_loss: 2.3024 - val_acc: 0.1000\n",
      "Epoch 2/20\n",
      "1563/1563 [==============================] - 10s 7ms/step - loss: 2.3025 - acc: 0.1034 - val_loss: 2.3024 - val_acc: 0.1000\n",
      "Epoch 3/20\n",
      "1563/1563 [==============================] - 10s 7ms/step - loss: 2.3024 - acc: 0.1023 - val_loss: 2.3023 - val_acc: 0.1000\n",
      "Epoch 4/20\n",
      "1563/1563 [==============================] - 10s 7ms/step - loss: 2.3022 - acc: 0.1089 - val_loss: 2.3019 - val_acc: 0.1403\n",
      "Epoch 5/20\n",
      "1563/1563 [==============================] - 10s 6ms/step - loss: 2.3018 - acc: 0.1163 - val_loss: 2.3011 - val_acc: 0.1324\n",
      "Epoch 6/20\n",
      "1563/1563 [==============================] - 10s 6ms/step - loss: 2.2999 - acc: 0.1357 - val_loss: 2.2966 - val_acc: 0.1566\n",
      "Epoch 7/20\n",
      "1563/1563 [==============================] - 10s 6ms/step - loss: 2.2651 - acc: 0.1769 - val_loss: 2.1582 - val_acc: 0.1963\n",
      "Epoch 8/20\n",
      "1563/1563 [==============================] - 10s 7ms/step - loss: 2.0203 - acc: 0.2650 - val_loss: 1.9303 - val_acc: 0.3073\n",
      "Epoch 9/20\n",
      "1563/1563 [==============================] - 10s 7ms/step - loss: 1.9264 - acc: 0.2930 - val_loss: 1.8626 - val_acc: 0.3274\n",
      "Epoch 10/20\n",
      "1563/1563 [==============================] - 10s 6ms/step - loss: 1.8462 - acc: 0.3347 - val_loss: 1.8126 - val_acc: 0.3539\n",
      "Epoch 11/20\n",
      "1563/1563 [==============================] - 10s 6ms/step - loss: 1.7439 - acc: 0.3728 - val_loss: 1.7538 - val_acc: 0.3716\n",
      "Epoch 12/20\n",
      "1563/1563 [==============================] - 10s 6ms/step - loss: 1.6670 - acc: 0.4012 - val_loss: 1.6874 - val_acc: 0.3890\n",
      "Epoch 13/20\n",
      "1563/1563 [==============================] - 10s 6ms/step - loss: 1.6069 - acc: 0.4234 - val_loss: 1.7194 - val_acc: 0.3933\n",
      "Epoch 14/20\n",
      "1563/1563 [==============================] - 10s 7ms/step - loss: 1.5455 - acc: 0.4464 - val_loss: 1.5437 - val_acc: 0.4418\n",
      "Epoch 15/20\n",
      "1563/1563 [==============================] - 10s 6ms/step - loss: 1.4852 - acc: 0.4705 - val_loss: 1.4515 - val_acc: 0.4833\n",
      "Epoch 16/20\n",
      "1563/1563 [==============================] - 10s 7ms/step - loss: 1.4367 - acc: 0.4855 - val_loss: 1.4460 - val_acc: 0.4843\n",
      "Epoch 17/20\n",
      "1563/1563 [==============================] - 10s 6ms/step - loss: 1.3875 - acc: 0.5057 - val_loss: 1.3930 - val_acc: 0.5059\n",
      "Epoch 18/20\n",
      "1563/1563 [==============================] - 10s 6ms/step - loss: 1.3421 - acc: 0.5220 - val_loss: 1.3559 - val_acc: 0.5143\n",
      "Epoch 19/20\n",
      "1563/1563 [==============================] - 11s 7ms/step - loss: 1.2971 - acc: 0.5400 - val_loss: 1.4542 - val_acc: 0.4750\n",
      "Epoch 20/20\n",
      "1563/1563 [==============================] - 10s 7ms/step - loss: 1.2529 - acc: 0.5562 - val_loss: 1.2547 - val_acc: 0.5565\n"
     ]
    },
    {
     "data": {
      "text/plain": "<keras.callbacks.History at 0x1c90101c880>"
     },
     "execution_count": 12,
     "metadata": {},
     "output_type": "execute_result"
    }
   ],
   "source": [
    "mn.fit(x=x_train, y=y_train, validation_data=(x_test, y_test), epochs=20, verbose=1)"
   ],
   "metadata": {
    "collapsed": false,
    "pycharm": {
     "name": "#%%\n"
    }
   }
  }
 ],
 "metadata": {
  "kernelspec": {
   "display_name": "Python 3",
   "language": "python",
   "name": "python3"
  },
  "language_info": {
   "codemirror_mode": {
    "name": "ipython",
    "version": 2
   },
   "file_extension": ".py",
   "mimetype": "text/x-python",
   "name": "python",
   "nbconvert_exporter": "python",
   "pygments_lexer": "ipython2",
   "version": "2.7.6"
  }
 },
 "nbformat": 4,
 "nbformat_minor": 0
}