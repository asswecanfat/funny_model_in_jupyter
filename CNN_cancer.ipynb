{
 "cells": [
  {
   "cell_type": "code",
   "execution_count": 13,
   "metadata": {
    "collapsed": true
   },
   "outputs": [],
   "source": [
    "import tensorflow.keras.layers as tkl\n",
    "\n",
    "from tensorflow.keras.models import Sequential\n",
    "from tensorflow.keras.applications import InceptionV3"
   ]
  },
  {
   "cell_type": "code",
   "execution_count": 22,
   "outputs": [],
   "source": [
    "base_model = InceptionV3(include_top=False)\n",
    "base_model.trainable = False\n",
    "\n",
    "class Cancer_Model:\n",
    "    @staticmethod\n",
    "    def build():\n",
    "        m = Sequential([base_model,\n",
    "                        tkl.Dense(512),\n",
    "                        tkl.ReLU(),\n",
    "                        tkl.BatchNormalization(),\n",
    "                        tkl.Dense(2),\n",
    "                        tkl.Softmax()])\n",
    "        return m"
   ],
   "metadata": {
    "collapsed": false,
    "pycharm": {
     "name": "#%%\n"
    }
   }
  },
  {
   "cell_type": "code",
   "execution_count": 23,
   "outputs": [
    {
     "name": "stdout",
     "output_type": "stream",
     "text": [
      "Model: \"sequential_4\"\n",
      "_________________________________________________________________\n",
      "Layer (type)                 Output Shape              Param #   \n",
      "=================================================================\n",
      "inception_v3 (Functional)    (None, None, None, 2048)  21802784  \n",
      "_________________________________________________________________\n",
      "dense_12 (Dense)             (None, None, None, 512)   1049088   \n",
      "_________________________________________________________________\n",
      "re_lu_7 (ReLU)               (None, None, None, 512)   0         \n",
      "_________________________________________________________________\n",
      "batch_normalization_381 (Bat (None, None, None, 512)   2048      \n",
      "_________________________________________________________________\n",
      "dense_13 (Dense)             (None, None, None, 2)     1026      \n",
      "_________________________________________________________________\n",
      "softmax_7 (Softmax)          (None, None, None, 2)     0         \n",
      "=================================================================\n",
      "Total params: 22,854,946\n",
      "Trainable params: 1,051,138\n",
      "Non-trainable params: 21,803,808\n",
      "_________________________________________________________________\n"
     ]
    }
   ],
   "source": [
    "model = Cancer_Model.build()\n",
    "model.summary()"
   ],
   "metadata": {
    "collapsed": false,
    "pycharm": {
     "name": "#%%\n"
    }
   }
  }
 ],
 "metadata": {
  "kernelspec": {
   "display_name": "Python 3",
   "language": "python",
   "name": "python3"
  },
  "language_info": {
   "codemirror_mode": {
    "name": "ipython",
    "version": 2
   },
   "file_extension": ".py",
   "mimetype": "text/x-python",
   "name": "python",
   "nbconvert_exporter": "python",
   "pygments_lexer": "ipython2",
   "version": "2.7.6"
  }
 },
 "nbformat": 4,
 "nbformat_minor": 0
}