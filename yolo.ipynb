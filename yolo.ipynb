{
 "cells": [
  {
   "cell_type": "code",
   "execution_count": 40,
   "metadata": {
    "collapsed": true
   },
   "outputs": [],
   "source": [
    "\n",
    "\n",
    "from tensorflow.keras.layers import Conv2D, MaxPooling2D, Dense, Flatten, Dropout, Reshape, LeakyReLU, Activation, Input, Softmax\n",
    "from tensorflow.keras.models import Model, Sequential\n",
    "from tensorflow.keras.applications import resnet50"
   ]
  },
  {
   "cell_type": "code",
   "execution_count": 41,
   "outputs": [],
   "source": [
    "class Yolo(Model):\n",
    "    def get_config(self):\n",
    "        super(Yolo, self).get_config()\n",
    "\n",
    "    def __init__(self):\n",
    "        super(Yolo, self).__init__()\n",
    "        self._con1 = Conv2D(filters=64, kernel_size=(7, 7), strides=2, padding=\"same\")\n",
    "        self._a1 = LeakyReLU()\n",
    "        self._mp1 = MaxPooling2D(pool_size=(2, 2), strides=2, padding=\"same\")\n",
    "\n",
    "        self._con2 = Conv2D(filters=128, kernel_size=(1, 1), strides=1, padding=\"same\")\n",
    "        self._con3 = Conv2D(filters=512, kernel_size=(3, 3), strides=1, padding=\"same\")\n",
    "        self._a2 = LeakyReLU()\n",
    "        self._mp2 = MaxPooling2D(pool_size=(2, 2), strides=2, padding=\"same\")\n",
    "\n",
    "        self._con4 = Conv2D(filters=512, kernel_size=(1, 1), strides=1, padding=\"same\")\n",
    "        self._con5 = Conv2D(filters=1024, kernel_size=(3, 3), strides=2, padding=\"same\")\n",
    "        self._a3 = LeakyReLU()\n",
    "        self._mp3 = MaxPooling2D(pool_size=(2, 2), strides=2, padding=\"same\")\n",
    "\n",
    "        self._fl = Flatten()\n",
    "        self._fc1 = Dense(512)\n",
    "        self._fca1 = LeakyReLU()\n",
    "        self._dr = Dropout(0.2)\n",
    "        self._fc2 = Dense(7 * 7 * 15)\n",
    "        self._reshape = Reshape((7, 7, 15))\n",
    "\n",
    "\n",
    "    def call(self, inputs, training=None, mask=None):\n",
    "        output = self._con1(inputs)\n",
    "        output = self._a1(output)\n",
    "        output = self._mp1(output)\n",
    "\n",
    "        output = self._con2(output)\n",
    "        output = self._con3(output)\n",
    "        output = self._a2(output)\n",
    "        output = self._mp2(output)\n",
    "\n",
    "        output = self._con4(output)\n",
    "        output = self._con5(output)\n",
    "        output = self._a3(output)\n",
    "        output = self._mp3(output)\n",
    "\n",
    "        output = self._fl(output)\n",
    "        output = self._fc1(output)\n",
    "        output = self._fca1(output)\n",
    "        output = self._dr(output)\n",
    "        output = self._fc2(output)\n",
    "        output = self._reshape(output)\n",
    "        return output\n",
    "\n",
    "    @staticmethod\n",
    "    def yolo_loss(y_real, y_fake):\n",
    "        bounding_box = Activation(\"sigmoid\")(y_fake[:, :, :, :5])\n"
   ],
   "metadata": {
    "collapsed": false,
    "pycharm": {
     "name": "#%%\n"
    }
   }
  },
  {
   "cell_type": "code",
   "execution_count": 42,
   "outputs": [
    {
     "name": "stdout",
     "output_type": "stream",
     "text": [
      "Model: \"yolo_13\"\n",
      "_________________________________________________________________\n",
      "Layer (type)                 Output Shape              Param #   \n",
      "=================================================================\n",
      "conv2d_65 (Conv2D)           (None, 112, 112, 64)      9472      \n",
      "_________________________________________________________________\n",
      "leaky_re_lu_52 (LeakyReLU)   (None, 112, 112, 64)      0         \n",
      "_________________________________________________________________\n",
      "max_pooling2d_39 (MaxPooling (None, 56, 56, 64)        0         \n",
      "_________________________________________________________________\n",
      "conv2d_66 (Conv2D)           (None, 56, 56, 128)       8320      \n",
      "_________________________________________________________________\n",
      "conv2d_67 (Conv2D)           (None, 56, 56, 512)       590336    \n",
      "_________________________________________________________________\n",
      "leaky_re_lu_53 (LeakyReLU)   (None, 56, 56, 512)       0         \n",
      "_________________________________________________________________\n",
      "max_pooling2d_40 (MaxPooling (None, 28, 28, 512)       0         \n",
      "_________________________________________________________________\n",
      "conv2d_68 (Conv2D)           (None, 28, 28, 512)       262656    \n",
      "_________________________________________________________________\n",
      "conv2d_69 (Conv2D)           (None, 14, 14, 1024)      4719616   \n",
      "_________________________________________________________________\n",
      "leaky_re_lu_54 (LeakyReLU)   (None, 14, 14, 1024)      0         \n",
      "_________________________________________________________________\n",
      "max_pooling2d_41 (MaxPooling (None, 7, 7, 1024)        0         \n",
      "_________________________________________________________________\n",
      "flatten_13 (Flatten)         (None, 50176)             0         \n",
      "_________________________________________________________________\n",
      "dense_26 (Dense)             (None, 512)               25690624  \n",
      "_________________________________________________________________\n",
      "leaky_re_lu_55 (LeakyReLU)   (None, 512)               0         \n",
      "_________________________________________________________________\n",
      "dropout_13 (Dropout)         (None, 512)               0         \n",
      "_________________________________________________________________\n",
      "dense_27 (Dense)             (None, 1225)              628425    \n",
      "_________________________________________________________________\n",
      "reshape_13 (Reshape)         (None, 7, 7, 25)          0         \n",
      "=================================================================\n",
      "Total params: 31,909,449\n",
      "Trainable params: 31,909,449\n",
      "Non-trainable params: 0\n",
      "_________________________________________________________________\n"
     ]
    }
   ],
   "source": [
    "y = Yolo()\n",
    "y.build(input_shape=(None, 224, 224, 3))\n",
    "y.call(Input((224, 224, 3)))\n",
    "y.summary()"
   ],
   "metadata": {
    "collapsed": false,
    "pycharm": {
     "name": "#%%\n"
    }
   }
  }
 ],
 "metadata": {
  "kernelspec": {
   "display_name": "Python 3",
   "language": "python",
   "name": "python3"
  },
  "language_info": {
   "codemirror_mode": {
    "name": "ipython",
    "version": 2
   },
   "file_extension": ".py",
   "mimetype": "text/x-python",
   "name": "python",
   "nbconvert_exporter": "python",
   "pygments_lexer": "ipython2",
   "version": "2.7.6"
  }
 },
 "nbformat": 4,
 "nbformat_minor": 0
}