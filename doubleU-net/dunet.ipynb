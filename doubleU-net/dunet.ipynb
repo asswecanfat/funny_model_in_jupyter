{
 "cells": [
  {
   "cell_type": "code",
   "execution_count": 9,
   "metadata": {
    "collapsed": true
   },
   "outputs": [],
   "source": [
    "import numpy as np\n",
    "import cv2\n",
    "import matplotlib.pyplot as plt\n",
    "\n",
    "from pathlib import Path\n",
    "from typing import List, Tuple\n",
    "from tensorflow import Tensor, random, reduce_sum, constant, numpy_function, float32, data\n",
    "from tensorflow.keras.layers import Dense, Multiply, Conv2D, GlobalAveragePooling2D, BatchNormalization, UpSampling2D, Input, MaxPooling2D, AveragePooling2D, Flatten\n",
    "from tensorflow.keras.models import Model\n",
    "from tensorflow.keras.backend import relu, sigmoid, concatenate\n",
    "from tensorflow.keras.applications import VGG19\n",
    "from tensorflow.keras.optimizers import Nadam\n",
    "from tensorflow.keras.losses import BinaryCrossentropy\n",
    "from tensorflow.keras.callbacks import History\n",
    "from sklearn.utils import shuffle\n",
    "from tensorflow.keras.metrics import Metric, Recall, Precision, MeanIoU"
   ]
  },
  {
   "cell_type": "code",
   "execution_count": 10,
   "outputs": [],
   "source": [
    "def squeeze_excite_block(inputs: Tensor, ratio: int=8) -> Tensor:\n",
    "    \"\"\"\n",
    "    input默认为最后一个\n",
    "\n",
    "    :param inputs: 输入数据\n",
    "    :param ratio: 缩放系数，此处大于0使用除法\n",
    "    :return: 返回与输入数据相乘后的数据\n",
    "    \"\"\"\n",
    "    filters = inputs.shape[-1]\n",
    "    se = GlobalAveragePooling2D(keepdims=True)(inputs)\n",
    "    se = Dense(filters // ratio, kernel_initializer=\"he_normal\", use_bias=False)(se)\n",
    "    se = relu(se)\n",
    "    se = Dense(filters, kernel_initializer=\"he_normal\", use_bias=False)(se)\n",
    "    se = sigmoid(se)\n",
    "\n",
    "    return Multiply()([inputs, se])"
   ],
   "metadata": {
    "collapsed": false,
    "pycharm": {
     "name": "#%%\n"
    }
   }
  },
  {
   "cell_type": "code",
   "execution_count": 11,
   "outputs": [],
   "source": [
    "def conv_block(inputs: Tensor, filters: int) -> Tensor:\n",
    "    \"\"\"\n",
    "    混合se块的卷积块\n",
    "\n",
    "    :param inputs: 输入数据\n",
    "    :param filters: 需要的维度\n",
    "    :return: 数据\n",
    "    \"\"\"\n",
    "    x = Conv2D(filters=filters, kernel_size=(3, 3), padding=\"same\")(inputs)\n",
    "    x = BatchNormalization()(x)\n",
    "    x = relu(x)\n",
    "\n",
    "    x = Conv2D(filters=filters, kernel_size=(3, 3), padding=\"same\")(x)\n",
    "    x = BatchNormalization()(x)\n",
    "    x = relu(x)\n",
    "\n",
    "    return squeeze_excite_block(x)"
   ],
   "metadata": {
    "collapsed": false,
    "pycharm": {
     "name": "#%%\n"
    }
   }
  },
  {
   "cell_type": "code",
   "execution_count": 12,
   "outputs": [],
   "source": [
    "def encoder_1(inputs: Tensor) -> Tuple[Tensor, List[Tensor]]:\n",
    "    \"\"\"\n",
    "    第一个U-net的编码器\n",
    "\n",
    "    :param inputs: 输入数据\n",
    "    :return: vgg19各个层的输出\n",
    "    \"\"\"\n",
    "    skip_connections = []\n",
    "    vgg19_model = VGG19(include_top=False, input_tensor=inputs)  # weights为默认\n",
    "    vgg19_layers_name = [\"block1_conv2\",\n",
    "                         \"block2_conv2\",\n",
    "                         \"block3_conv4\",\n",
    "                         \"block4_conv4\"]\n",
    "    for layer_name in vgg19_layers_name:\n",
    "        skip_connections.append(vgg19_model.get_layer(layer_name).output)\n",
    "    final_outputs = vgg19_model.get_layer(\"block5_conv4\").output\n",
    "    return final_outputs, skip_connections"
   ],
   "metadata": {
    "collapsed": false,
    "pycharm": {
     "name": "#%%\n"
    }
   }
  },
  {
   "cell_type": "code",
   "execution_count": 13,
   "outputs": [],
   "source": [
    "def decoder_1(inputs: Tensor, skip_connections: List[Tensor]) -> Tensor:\n",
    "    \"\"\"\n",
    "    第一个U-net的解码器\n",
    "\n",
    "    :param inputs: 输入数据\n",
    "    :param skip_connections: 跳跃连接层\n",
    "    :return: 输出数据\n",
    "    \"\"\"\n",
    "    filters_num = [256, 128, 64, 32]\n",
    "    skip_connections.reverse()\n",
    "    x = inputs\n",
    "    for num, filters in enumerate(filters_num):\n",
    "        x = UpSampling2D(interpolation=\"bilinear\")(x)  # size为默认\n",
    "        x = concatenate((x, skip_connections[num]))\n",
    "        x = conv_block(x, filters)\n",
    "    return x"
   ],
   "metadata": {
    "collapsed": false,
    "pycharm": {
     "name": "#%%\n"
    }
   }
  },
  {
   "cell_type": "code",
   "execution_count": 14,
   "outputs": [],
   "source": [
    "def encoder_2(inputs: Tensor) -> Tuple[Tensor, List[Tensor]]:\n",
    "    \"\"\"\n",
    "    第二个U-net的编码器\n",
    "\n",
    "    :param inputs: 输入数据\n",
    "    :return: 各层输出数据\n",
    "    \"\"\"\n",
    "    filers_num = [32, 64, 128, 256]\n",
    "    skip_connection = []\n",
    "    x = inputs\n",
    "\n",
    "    for num, filters in enumerate(filers_num):\n",
    "        x = conv_block(x, filters)\n",
    "        skip_connection.append(x)\n",
    "        x = MaxPooling2D()(x)  # pool_size默认\n",
    "    return x, skip_connection"
   ],
   "metadata": {
    "collapsed": false,
    "pycharm": {
     "name": "#%%\n"
    }
   }
  },
  {
   "cell_type": "code",
   "execution_count": 15,
   "outputs": [],
   "source": [
    "def decoder_2(inputs: Tensor,\n",
    "              skip_connection_1: List[Tensor],\n",
    "              skip_connection_2: List[Tensor]) -> Tensor:\n",
    "    \"\"\"\n",
    "    第二个U-net的解码器\n",
    "\n",
    "    :param inputs: 输入数据\n",
    "    :param skip_connection_1: 第一个U-net的跳跃连接\n",
    "    :param skip_connection_2: 第二个U-net的跳跃连接\n",
    "    :return: 输出数据\n",
    "    \"\"\"\n",
    "    filters_num = [256, 128, 64, 32]\n",
    "    skip_connection_2.reverse()\n",
    "    x = inputs\n",
    "\n",
    "    for num, filters in enumerate(filters_num):\n",
    "        x = UpSampling2D(interpolation=\"bilinear\")(x)  # size为默认\n",
    "        x = concatenate((x, skip_connection_1[num], skip_connection_2[num]))\n",
    "        x = conv_block(x, filters)\n",
    "    return x"
   ],
   "metadata": {
    "collapsed": false,
    "pycharm": {
     "name": "#%%\n"
    }
   }
  },
  {
   "cell_type": "code",
   "execution_count": 16,
   "outputs": [],
   "source": [
    "def output_block(inputs: Tensor) -> Tensor:\n",
    "    \"\"\"\n",
    "    输出块\n",
    "\n",
    "    :param inputs: 输入数据\n",
    "    :return: 输出数据\n",
    "    \"\"\"\n",
    "    x  = Conv2D(filters=1, kernel_size=(1, 1), padding=\"same\")(inputs)\n",
    "    x = sigmoid(x)\n",
    "    return x"
   ],
   "metadata": {
    "collapsed": false,
    "pycharm": {
     "name": "#%%\n"
    }
   }
  },
  {
   "cell_type": "code",
   "execution_count": 17,
   "outputs": [],
   "source": [
    "def as_pp(inputs: Tensor, filters: int) -> Tensor:\n",
    "    \"\"\"\n",
    "    ASPP模块\n",
    "\n",
    "    :param inputs: 输入数据\n",
    "    :param filters: 核数量\n",
    "    :return: 输出数据\n",
    "    \"\"\"\n",
    "    y = []\n",
    "    input_shape = inputs.get_shape()\n",
    "\n",
    "    y1 = AveragePooling2D(pool_size=(input_shape[1], input_shape[2]))(inputs)\n",
    "    y1 = Conv2D(filters=filters, kernel_size=1, padding=\"same\")(y1)\n",
    "    y1 = BatchNormalization()(y1)\n",
    "    y1 = relu(y1)\n",
    "    y1 = UpSampling2D((input_shape[1], input_shape[2]), interpolation='bilinear')(y1)\n",
    "\n",
    "    y.append(y1)\n",
    "\n",
    "    for kernel_size, dilation_rate in zip([1, 3, 3, 3],\n",
    "                                          [1, 6, 12, 18]):\n",
    "        y_ = Conv2D(filters=filters, kernel_size=kernel_size,\n",
    "                    dilation_rate=dilation_rate, padding=\"same\",\n",
    "                    use_bias=False)(inputs)\n",
    "        y_ = BatchNormalization()(y_)\n",
    "        y_ = relu(y_)\n",
    "        y.append(y_)\n",
    "\n",
    "    y = concatenate(y)\n",
    "\n",
    "    y = Conv2D(filters=filters, kernel_size=1, dilation_rate=1,\n",
    "               padding=\"same\", use_bias=False)(y)\n",
    "    y = BatchNormalization()(y)\n",
    "    y = relu(y)\n",
    "    return y\n"
   ],
   "metadata": {
    "collapsed": false,
    "pycharm": {
     "name": "#%%\n"
    }
   }
  },
  {
   "cell_type": "code",
   "execution_count": 18,
   "outputs": [],
   "source": [
    "def doubleU_net(input_shape: Tuple[int, int, int]) -> Model:\n",
    "    \"\"\"\n",
    "    模型构建\n",
    "\n",
    "    :param input_shape: 输入数据形状\n",
    "    :return: 模型\n",
    "    \"\"\"\n",
    "    inputs = Input(shape=input_shape)\n",
    "    x, skip_c1 = encoder_1(inputs)  # x为原来的下采样16倍，skip_c1保存了下采样0倍，2，4， 8\n",
    "    x = as_pp(x, 64)\n",
    "    x = decoder_1(x, skip_c1)\n",
    "    outputs1 = output_block(x)\n",
    "\n",
    "    x = outputs1 * inputs\n",
    "\n",
    "    x, skip_c2 = encoder_2(x)\n",
    "    x = as_pp(x, 64)\n",
    "    x = decoder_2(x, skip_c1, skip_c2)\n",
    "    outputs2 = output_block(x)\n",
    "    outputs = concatenate((outputs1, outputs2))\n",
    "\n",
    "    return Model(inputs=inputs, outputs=outputs)"
   ],
   "metadata": {
    "collapsed": false,
    "pycharm": {
     "name": "#%%\n"
    }
   }
  },
  {
   "cell_type": "code",
   "execution_count": 19,
   "outputs": [],
   "source": [
    "model = doubleU_net((192, 256, 3))"
   ],
   "metadata": {
    "collapsed": false,
    "pycharm": {
     "name": "#%%\n"
    }
   }
  },
  {
   "cell_type": "code",
   "execution_count": 20,
   "outputs": [],
   "source": [
    "def dice_coef(y_true: Tensor, y_pred: Tensor) -> Tensor:\n",
    "    \"\"\"\n",
    "    dice系数计算\n",
    "\n",
    "    :param y_true:\n",
    "    :param y_pred:\n",
    "    :return:\n",
    "    \"\"\"\n",
    "    y_true = Flatten()(y_true)\n",
    "    y_pred = Flatten()(y_pred)\n",
    "    intersection = reduce_sum(y_true * y_pred)\n",
    "    smooth = 1e-5\n",
    "    return (2. * intersection + smooth) / (reduce_sum(y_true) + reduce_sum(y_pred) + smooth)"
   ],
   "metadata": {
    "collapsed": false,
    "pycharm": {
     "name": "#%%\n"
    }
   }
  },
  {
   "cell_type": "code",
   "execution_count": 21,
   "outputs": [],
   "source": [
    "def dice_loss(y_true: Tensor, y_pred: Tensor) -> Tensor:\n",
    "    \"\"\"\n",
    "    dice损失\n",
    "\n",
    "    :param y_true:\n",
    "    :param y_pred:\n",
    "    :return:\n",
    "    \"\"\"\n",
    "    return constant(1.) - dice_coef(y_true, y_pred)"
   ],
   "metadata": {
    "collapsed": false,
    "pycharm": {
     "name": "#%%\n"
    }
   }
  },
  {
   "cell_type": "code",
   "execution_count": 22,
   "outputs": [],
   "source": [
    "def iou(y_ture: Tensor, y_pred: Tensor):\n",
    "    \"\"\"\n",
    "    iou计算\n",
    "\n",
    "    :param y_ture:\n",
    "    :param y_pred:\n",
    "    :return:\n",
    "    \"\"\"\n",
    "    smooth = 1e-5\n",
    "    def temp_f(y_t: np.ndarray, y_p: np.ndarray):\n",
    "        intersection = (y_t * y_p).sum()\n",
    "        union = y_t.sum() + y_p.sum() - intersection\n",
    "        result = (intersection + smooth) / (union + smooth)\n",
    "        return result.astype(np.float32)\n",
    "    return numpy_function(temp_f, [y_ture, y_pred], float32)  # 相当于funtion"
   ],
   "metadata": {
    "collapsed": false,
    "pycharm": {
     "name": "#%%\n"
    }
   }
  },
  {
   "cell_type": "code",
   "execution_count": 23,
   "outputs": [],
   "source": [
    "def read_img(img_path: str) -> np.ndarray:\n",
    "    \"\"\"\n",
    "    读取图片\n",
    "\n",
    "    :param img_path:\n",
    "    :return:\n",
    "    \"\"\"\n",
    "    img_path = img_path.decode()\n",
    "    img = cv2.cvtColor(cv2.imread(img_path, cv2.IMREAD_COLOR), cv2.COLOR_BGR2RGB)\n",
    "    if img.shape != (256, 192, 3):\n",
    "        img = cv2.resize(img, (256, 192))\n",
    "    img = (img / 255.).astype(np.float32)\n",
    "    return img\n",
    "\n",
    "def read_mask(mask_path: str) -> np.ndarray:\n",
    "    \"\"\"\n",
    "    读取掩码图片\n",
    "\n",
    "    :param mask_path:\n",
    "    :return:\n",
    "    \"\"\"\n",
    "    mask_path = mask_path.decode()\n",
    "    mask = cv2.imread(mask_path, cv2.IMREAD_GRAYSCALE)\n",
    "    if mask.shape != (256, 192):\n",
    "        mask = cv2.resize(mask, (256, 192))\n",
    "    mask = (mask / 255.).astype(np.float32)\n",
    "    mask = np.expand_dims(mask, axis=-1)\n",
    "    return mask\n",
    "\n",
    "def deal_img_mask(img_path: str, mask_path: str) -> Tuple[Tensor, Tensor]:\n",
    "    def _deal(i: str, m: str):\n",
    "        i = read_img(i)\n",
    "        m = read_mask(m)\n",
    "        m = np.concatenate([m, m], axis=-1)\n",
    "        return i, m\n",
    "    img, mask = numpy_function(_deal, [img_path, mask_path], [float32, float32])\n",
    "    img.set_shape([192, 256, 3])\n",
    "    mask.set_shape([192, 256, 2])\n",
    "    return img, mask\n",
    "\n",
    "def get_dataset(img_list: List[str], mask_list: List[str], batch: int=8):\n",
    "    dataset = data.Dataset.from_tensor_slices((img_list, mask_list))\n",
    "    dataset = dataset.shuffle(buffer_size=32)\n",
    "    dataset = dataset.map(map_func=deal_img_mask, num_parallel_calls=2)\n",
    "    dataset = dataset.repeat()\n",
    "    dataset = dataset.batch(batch)\n",
    "    return dataset\n"
   ],
   "metadata": {
    "collapsed": false,
    "pycharm": {
     "name": "#%%\n"
    }
   }
  },
  {
   "cell_type": "code",
   "execution_count": 24,
   "outputs": [],
   "source": [
    "def get_path_list(img_path: str, mask_path: str):\n",
    "    def _get_path_list(path: str):\n",
    "        temp = Path(path)\n",
    "        temp = [i for i in temp.glob('*.*')]\n",
    "        temp.sort(key=lambda x: x.stem)\n",
    "        return [str(i) for i in temp]\n",
    "    return shuffle(_get_path_list(img_path), _get_path_list(mask_path), random_state=42)\n",
    "\n",
    "# a, b = get_path_list('data/test/x', \"data/test/y\")\n",
    "# print(a, b)"
   ],
   "metadata": {
    "collapsed": false,
    "pycharm": {
     "name": "#%%\n"
    }
   }
  },
  {
   "cell_type": "code",
   "execution_count": 25,
   "outputs": [],
   "source": [
    "# a = cv2.cvtColor(cv2.imread(\"PNG/Original/1.png\", cv2.IMREAD_COLOR), cv2.COLOR_BGR2RGB)\n",
    "# print(a.shape)\n",
    "# b = cv2.imread(\"PNG/Ground Truth/1.png\", cv2.IMREAD_GRAYSCALE)\n",
    "# print(b.shape)\n",
    "# _ = plt.figure()\n",
    "# plt.subplot(2, 1, 1)\n",
    "# plt.imshow(a)\n",
    "# plt.subplot(2, 1, 2)\n",
    "# plt.imshow(b)\n",
    "# plt.show()"
   ],
   "metadata": {
    "collapsed": false,
    "pycharm": {
     "name": "#%%\n"
    }
   }
  },
  {
   "cell_type": "code",
   "execution_count": 26,
   "outputs": [],
   "source": [
    "batch_size = 4\n",
    "epochs = 300\n",
    "lr = 1e-5\n",
    "metrics = [dice_coef,\n",
    "           iou,\n",
    "           MeanIoU(num_classes=2),\n",
    "           Recall(),\n",
    "           Precision()]"
   ],
   "metadata": {
    "collapsed": false,
    "pycharm": {
     "name": "#%%\n"
    }
   }
  },
  {
   "cell_type": "code",
   "execution_count": 27,
   "outputs": [],
   "source": [
    "train_x, train_y = get_path_list(\"data/train/x\", \"data/train/y\")\n",
    "valid_x, valid_y = get_path_list(\"data/valid/x\", \"data/valid/y\")\n",
    "train_dataset = get_dataset(train_x, train_y, batch=batch_size)\n",
    "valid_dataset = get_dataset(valid_x, valid_y, batch=batch_size)"
   ],
   "metadata": {
    "collapsed": false,
    "pycharm": {
     "name": "#%%\n"
    }
   }
  },
  {
   "cell_type": "code",
   "execution_count": 28,
   "outputs": [],
   "source": [
    "model.compile(loss=BinaryCrossentropy(), optimizer=Nadam(learning_rate=lr), metrics=metrics)"
   ],
   "metadata": {
    "collapsed": false,
    "pycharm": {
     "name": "#%%\n"
    }
   }
  },
  {
   "cell_type": "code",
   "execution_count": 29,
   "outputs": [],
   "source": [
    "train_steps = (len(train_x) // batch_size)\n",
    "valid_steps = (len(valid_x) // batch_size)"
   ],
   "metadata": {
    "collapsed": false,
    "pycharm": {
     "name": "#%%\n"
    }
   }
  },
  {
   "cell_type": "code",
   "execution_count": 30,
   "outputs": [],
   "source": [
    "if len(train_x) % batch_size != 0:\n",
    "    train_steps += 1\n",
    "\n",
    "if len(valid_x) % batch_size != 0:\n",
    "    valid_steps += 1"
   ],
   "metadata": {
    "collapsed": false,
    "pycharm": {
     "name": "#%%\n"
    }
   }
  },
  {
   "cell_type": "code",
   "execution_count": 31,
   "outputs": [
    {
     "name": "stdout",
     "output_type": "stream",
     "text": [
      "Epoch 1/300\n",
      "  18/3300 [..............................] - ETA: 28:33 - loss: 0.7208 - dice_coef: 0.1391 - iou: 0.0752 - mean_io_u: 0.4593 - recall: 0.5064 - precision: 0.0853"
     ]
    },
    {
     "ename": "KeyboardInterrupt",
     "evalue": "",
     "output_type": "error",
     "traceback": [
      "\u001B[1;31m---------------------------------------------------------------------------\u001B[0m",
      "\u001B[1;31mKeyboardInterrupt\u001B[0m                         Traceback (most recent call last)",
      "\u001B[1;32m~\\AppData\\Local\\Temp/ipykernel_10548/3795444861.py\u001B[0m in \u001B[0;36m<module>\u001B[1;34m\u001B[0m\n\u001B[1;32m----> 1\u001B[1;33m history = model.fit(train_dataset,\n\u001B[0m\u001B[0;32m      2\u001B[0m                     \u001B[0mepochs\u001B[0m\u001B[1;33m=\u001B[0m\u001B[0mepochs\u001B[0m\u001B[1;33m,\u001B[0m\u001B[1;33m\u001B[0m\u001B[1;33m\u001B[0m\u001B[0m\n\u001B[0;32m      3\u001B[0m                     \u001B[0mvalidation_data\u001B[0m\u001B[1;33m=\u001B[0m\u001B[0mvalid_dataset\u001B[0m\u001B[1;33m,\u001B[0m\u001B[1;33m\u001B[0m\u001B[1;33m\u001B[0m\u001B[0m\n\u001B[0;32m      4\u001B[0m                     \u001B[0msteps_per_epoch\u001B[0m\u001B[1;33m=\u001B[0m\u001B[0mtrain_steps\u001B[0m\u001B[1;33m,\u001B[0m\u001B[1;33m\u001B[0m\u001B[1;33m\u001B[0m\u001B[0m\n\u001B[0;32m      5\u001B[0m                     \u001B[0mvalidation_steps\u001B[0m\u001B[1;33m=\u001B[0m\u001B[0mvalid_steps\u001B[0m\u001B[1;33m,\u001B[0m\u001B[1;33m\u001B[0m\u001B[1;33m\u001B[0m\u001B[0m\n",
      "\u001B[1;32md:\\vnv\\lib\\site-packages\\keras\\engine\\training.py\u001B[0m in \u001B[0;36mfit\u001B[1;34m(self, x, y, batch_size, epochs, verbose, callbacks, validation_split, validation_data, shuffle, class_weight, sample_weight, initial_epoch, steps_per_epoch, validation_steps, validation_batch_size, validation_freq, max_queue_size, workers, use_multiprocessing)\u001B[0m\n\u001B[0;32m   1182\u001B[0m                 _r=1):\n\u001B[0;32m   1183\u001B[0m               \u001B[0mcallbacks\u001B[0m\u001B[1;33m.\u001B[0m\u001B[0mon_train_batch_begin\u001B[0m\u001B[1;33m(\u001B[0m\u001B[0mstep\u001B[0m\u001B[1;33m)\u001B[0m\u001B[1;33m\u001B[0m\u001B[1;33m\u001B[0m\u001B[0m\n\u001B[1;32m-> 1184\u001B[1;33m               \u001B[0mtmp_logs\u001B[0m \u001B[1;33m=\u001B[0m \u001B[0mself\u001B[0m\u001B[1;33m.\u001B[0m\u001B[0mtrain_function\u001B[0m\u001B[1;33m(\u001B[0m\u001B[0miterator\u001B[0m\u001B[1;33m)\u001B[0m\u001B[1;33m\u001B[0m\u001B[1;33m\u001B[0m\u001B[0m\n\u001B[0m\u001B[0;32m   1185\u001B[0m               \u001B[1;32mif\u001B[0m \u001B[0mdata_handler\u001B[0m\u001B[1;33m.\u001B[0m\u001B[0mshould_sync\u001B[0m\u001B[1;33m:\u001B[0m\u001B[1;33m\u001B[0m\u001B[1;33m\u001B[0m\u001B[0m\n\u001B[0;32m   1186\u001B[0m                 \u001B[0mcontext\u001B[0m\u001B[1;33m.\u001B[0m\u001B[0masync_wait\u001B[0m\u001B[1;33m(\u001B[0m\u001B[1;33m)\u001B[0m\u001B[1;33m\u001B[0m\u001B[1;33m\u001B[0m\u001B[0m\n",
      "\u001B[1;32md:\\vnv\\lib\\site-packages\\tensorflow\\python\\eager\\def_function.py\u001B[0m in \u001B[0;36m__call__\u001B[1;34m(self, *args, **kwds)\u001B[0m\n\u001B[0;32m    883\u001B[0m \u001B[1;33m\u001B[0m\u001B[0m\n\u001B[0;32m    884\u001B[0m       \u001B[1;32mwith\u001B[0m \u001B[0mOptionalXlaContext\u001B[0m\u001B[1;33m(\u001B[0m\u001B[0mself\u001B[0m\u001B[1;33m.\u001B[0m\u001B[0m_jit_compile\u001B[0m\u001B[1;33m)\u001B[0m\u001B[1;33m:\u001B[0m\u001B[1;33m\u001B[0m\u001B[1;33m\u001B[0m\u001B[0m\n\u001B[1;32m--> 885\u001B[1;33m         \u001B[0mresult\u001B[0m \u001B[1;33m=\u001B[0m \u001B[0mself\u001B[0m\u001B[1;33m.\u001B[0m\u001B[0m_call\u001B[0m\u001B[1;33m(\u001B[0m\u001B[1;33m*\u001B[0m\u001B[0margs\u001B[0m\u001B[1;33m,\u001B[0m \u001B[1;33m**\u001B[0m\u001B[0mkwds\u001B[0m\u001B[1;33m)\u001B[0m\u001B[1;33m\u001B[0m\u001B[1;33m\u001B[0m\u001B[0m\n\u001B[0m\u001B[0;32m    886\u001B[0m \u001B[1;33m\u001B[0m\u001B[0m\n\u001B[0;32m    887\u001B[0m       \u001B[0mnew_tracing_count\u001B[0m \u001B[1;33m=\u001B[0m \u001B[0mself\u001B[0m\u001B[1;33m.\u001B[0m\u001B[0mexperimental_get_tracing_count\u001B[0m\u001B[1;33m(\u001B[0m\u001B[1;33m)\u001B[0m\u001B[1;33m\u001B[0m\u001B[1;33m\u001B[0m\u001B[0m\n",
      "\u001B[1;32md:\\vnv\\lib\\site-packages\\tensorflow\\python\\eager\\def_function.py\u001B[0m in \u001B[0;36m_call\u001B[1;34m(self, *args, **kwds)\u001B[0m\n\u001B[0;32m    915\u001B[0m       \u001B[1;31m# In this case we have created variables on the first call, so we run the\u001B[0m\u001B[1;33m\u001B[0m\u001B[1;33m\u001B[0m\u001B[0m\n\u001B[0;32m    916\u001B[0m       \u001B[1;31m# defunned version which is guaranteed to never create variables.\u001B[0m\u001B[1;33m\u001B[0m\u001B[1;33m\u001B[0m\u001B[0m\n\u001B[1;32m--> 917\u001B[1;33m       \u001B[1;32mreturn\u001B[0m \u001B[0mself\u001B[0m\u001B[1;33m.\u001B[0m\u001B[0m_stateless_fn\u001B[0m\u001B[1;33m(\u001B[0m\u001B[1;33m*\u001B[0m\u001B[0margs\u001B[0m\u001B[1;33m,\u001B[0m \u001B[1;33m**\u001B[0m\u001B[0mkwds\u001B[0m\u001B[1;33m)\u001B[0m  \u001B[1;31m# pylint: disable=not-callable\u001B[0m\u001B[1;33m\u001B[0m\u001B[1;33m\u001B[0m\u001B[0m\n\u001B[0m\u001B[0;32m    918\u001B[0m     \u001B[1;32melif\u001B[0m \u001B[0mself\u001B[0m\u001B[1;33m.\u001B[0m\u001B[0m_stateful_fn\u001B[0m \u001B[1;32mis\u001B[0m \u001B[1;32mnot\u001B[0m \u001B[1;32mNone\u001B[0m\u001B[1;33m:\u001B[0m\u001B[1;33m\u001B[0m\u001B[1;33m\u001B[0m\u001B[0m\n\u001B[0;32m    919\u001B[0m       \u001B[1;31m# Release the lock early so that multiple threads can perform the call\u001B[0m\u001B[1;33m\u001B[0m\u001B[1;33m\u001B[0m\u001B[0m\n",
      "\u001B[1;32md:\\vnv\\lib\\site-packages\\tensorflow\\python\\eager\\function.py\u001B[0m in \u001B[0;36m__call__\u001B[1;34m(self, *args, **kwargs)\u001B[0m\n\u001B[0;32m   3037\u001B[0m       (graph_function,\n\u001B[0;32m   3038\u001B[0m        filtered_flat_args) = self._maybe_define_function(args, kwargs)\n\u001B[1;32m-> 3039\u001B[1;33m     return graph_function._call_flat(\n\u001B[0m\u001B[0;32m   3040\u001B[0m         filtered_flat_args, captured_inputs=graph_function.captured_inputs)  # pylint: disable=protected-access\n\u001B[0;32m   3041\u001B[0m \u001B[1;33m\u001B[0m\u001B[0m\n",
      "\u001B[1;32md:\\vnv\\lib\\site-packages\\tensorflow\\python\\eager\\function.py\u001B[0m in \u001B[0;36m_call_flat\u001B[1;34m(self, args, captured_inputs, cancellation_manager)\u001B[0m\n\u001B[0;32m   1961\u001B[0m         and executing_eagerly):\n\u001B[0;32m   1962\u001B[0m       \u001B[1;31m# No tape is watching; skip to running the function.\u001B[0m\u001B[1;33m\u001B[0m\u001B[1;33m\u001B[0m\u001B[0m\n\u001B[1;32m-> 1963\u001B[1;33m       return self._build_call_outputs(self._inference_function.call(\n\u001B[0m\u001B[0;32m   1964\u001B[0m           ctx, args, cancellation_manager=cancellation_manager))\n\u001B[0;32m   1965\u001B[0m     forward_backward = self._select_forward_and_backward_functions(\n",
      "\u001B[1;32md:\\vnv\\lib\\site-packages\\tensorflow\\python\\eager\\function.py\u001B[0m in \u001B[0;36mcall\u001B[1;34m(self, ctx, args, cancellation_manager)\u001B[0m\n\u001B[0;32m    589\u001B[0m       \u001B[1;32mwith\u001B[0m \u001B[0m_InterpolateFunctionError\u001B[0m\u001B[1;33m(\u001B[0m\u001B[0mself\u001B[0m\u001B[1;33m)\u001B[0m\u001B[1;33m:\u001B[0m\u001B[1;33m\u001B[0m\u001B[1;33m\u001B[0m\u001B[0m\n\u001B[0;32m    590\u001B[0m         \u001B[1;32mif\u001B[0m \u001B[0mcancellation_manager\u001B[0m \u001B[1;32mis\u001B[0m \u001B[1;32mNone\u001B[0m\u001B[1;33m:\u001B[0m\u001B[1;33m\u001B[0m\u001B[1;33m\u001B[0m\u001B[0m\n\u001B[1;32m--> 591\u001B[1;33m           outputs = execute.execute(\n\u001B[0m\u001B[0;32m    592\u001B[0m               \u001B[0mstr\u001B[0m\u001B[1;33m(\u001B[0m\u001B[0mself\u001B[0m\u001B[1;33m.\u001B[0m\u001B[0msignature\u001B[0m\u001B[1;33m.\u001B[0m\u001B[0mname\u001B[0m\u001B[1;33m)\u001B[0m\u001B[1;33m,\u001B[0m\u001B[1;33m\u001B[0m\u001B[1;33m\u001B[0m\u001B[0m\n\u001B[0;32m    593\u001B[0m               \u001B[0mnum_outputs\u001B[0m\u001B[1;33m=\u001B[0m\u001B[0mself\u001B[0m\u001B[1;33m.\u001B[0m\u001B[0m_num_outputs\u001B[0m\u001B[1;33m,\u001B[0m\u001B[1;33m\u001B[0m\u001B[1;33m\u001B[0m\u001B[0m\n",
      "\u001B[1;32md:\\vnv\\lib\\site-packages\\tensorflow\\python\\eager\\execute.py\u001B[0m in \u001B[0;36mquick_execute\u001B[1;34m(op_name, num_outputs, inputs, attrs, ctx, name)\u001B[0m\n\u001B[0;32m     57\u001B[0m   \u001B[1;32mtry\u001B[0m\u001B[1;33m:\u001B[0m\u001B[1;33m\u001B[0m\u001B[1;33m\u001B[0m\u001B[0m\n\u001B[0;32m     58\u001B[0m     \u001B[0mctx\u001B[0m\u001B[1;33m.\u001B[0m\u001B[0mensure_initialized\u001B[0m\u001B[1;33m(\u001B[0m\u001B[1;33m)\u001B[0m\u001B[1;33m\u001B[0m\u001B[1;33m\u001B[0m\u001B[0m\n\u001B[1;32m---> 59\u001B[1;33m     tensors = pywrap_tfe.TFE_Py_Execute(ctx._handle, device_name, op_name,\n\u001B[0m\u001B[0;32m     60\u001B[0m                                         inputs, attrs, num_outputs)\n\u001B[0;32m     61\u001B[0m   \u001B[1;32mexcept\u001B[0m \u001B[0mcore\u001B[0m\u001B[1;33m.\u001B[0m\u001B[0m_NotOkStatusException\u001B[0m \u001B[1;32mas\u001B[0m \u001B[0me\u001B[0m\u001B[1;33m:\u001B[0m\u001B[1;33m\u001B[0m\u001B[1;33m\u001B[0m\u001B[0m\n",
      "\u001B[1;31mKeyboardInterrupt\u001B[0m: "
     ]
    }
   ],
   "source": [
    "history = model.fit(train_dataset,\n",
    "                    epochs=epochs,\n",
    "                    validation_data=valid_dataset,\n",
    "                    steps_per_epoch=train_steps,\n",
    "                    validation_steps=valid_steps,\n",
    "                    shuffle=False)\n"
   ],
   "metadata": {
    "collapsed": false,
    "pycharm": {
     "name": "#%%\n"
    }
   }
  },
  {
   "cell_type": "code",
   "execution_count": null,
   "outputs": [],
   "source": [
    "def show_history(model_history: History, save_pic: str=None):\n",
    "    plt.style.use(\"ggplot\")\n",
    "    plt.rcParams[\"figure.figsize\"] = (14.0, 14.0)\n",
    "    _ = plt.figure()\n",
    "    for i in model_history.history.keys():\n",
    "        plt.plot(np.arange(0, 300), model_history.history[i], label=i)\n",
    "    plt.title(\"loss|miou|iou|recall|precision\")\n",
    "    plt.xlabel(\"Epoch #\")\n",
    "    plt.ylabel(\"Loss/Miou/Iou/Recall/Precision\")\n",
    "    plt.legend()\n",
    "\n",
    "    if save_pic:\n",
    "        plt.savefig(save_pic)\n",
    "    plt.show()"
   ],
   "metadata": {
    "collapsed": false,
    "pycharm": {
     "name": "#%%\n"
    }
   }
  },
  {
   "cell_type": "code",
   "execution_count": null,
   "outputs": [],
   "source": [
    "show_history(model_history=history, save_pic='test.jpg')"
   ],
   "metadata": {
    "collapsed": false,
    "pycharm": {
     "name": "#%%\n"
    }
   }
  },
  {
   "cell_type": "code",
   "execution_count": null,
   "outputs": [],
   "source": [
    "a = cv2.cvtColor(cv2.imread('test/Original/1.tif'), cv2.COLOR_BGR2RGB)\n",
    "plt.figure()\n",
    "plt.axis(\"off\")\n",
    "plt.imshow(a)\n",
    "plt.show()"
   ],
   "metadata": {
    "collapsed": false,
    "pycharm": {
     "name": "#%%\n"
    }
   }
  },
  {
   "cell_type": "code",
   "execution_count": null,
   "outputs": [],
   "source": [
    "# def change_file_name(file_path: str):\n",
    "#     def change(name: Path):\n",
    "#         temp_parent = name.parent\n",
    "#         temp_suffix = name.suffix\n",
    "#         temp_name = name.stem.replace(\"p\", '')\n",
    "#         name.rename(rf\"{temp_parent}\\{temp_name}{temp_suffix}\")\n",
    "#     return map(change, Path(file_path).glob('*.*'))\n",
    "#\n",
    "# _ = [i for i in change_file_name(\"test/Ground Truth\")]\n",
    "\n",
    "test_x, test_y = get_path_list(\"test/Original\", \"test/Ground Truth\")\n",
    "test_dataset = get_dataset(test_x, test_y, batch=batch_size)"
   ],
   "metadata": {
    "collapsed": false,
    "pycharm": {
     "name": "#%%\n"
    }
   }
  },
  {
   "cell_type": "code",
   "execution_count": null,
   "outputs": [],
   "source": [
    "test_steps = (len(test_x) // batch_size)\n",
    "\n",
    "if len(test_x) % batch_size != 0:\n",
    "    test_steps += 1\n",
    "\n",
    "h = model.evaluate(test_dataset, steps=test_steps)"
   ],
   "metadata": {
    "collapsed": false,
    "pycharm": {
     "name": "#%%\n"
    }
   }
  },
  {
   "cell_type": "code",
   "execution_count": null,
   "outputs": [],
   "source": [
    "print(h)"
   ],
   "metadata": {
    "collapsed": false,
    "pycharm": {
     "name": "#%%\n"
    }
   }
  }
 ],
 "metadata": {
  "kernelspec": {
   "display_name": "Python 3",
   "language": "python",
   "name": "python3"
  },
  "language_info": {
   "codemirror_mode": {
    "name": "ipython",
    "version": 2
   },
   "file_extension": ".py",
   "mimetype": "text/x-python",
   "name": "python",
   "nbconvert_exporter": "python",
   "pygments_lexer": "ipython2",
   "version": "2.7.6"
  }
 },
 "nbformat": 4,
 "nbformat_minor": 0
}