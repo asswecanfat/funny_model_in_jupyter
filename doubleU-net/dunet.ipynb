{
 "cells": [
  {
   "cell_type": "code",
   "execution_count": 164,
   "metadata": {
    "collapsed": true
   },
   "outputs": [],
   "source": [
    "import numpy as np\n",
    "import cv2\n",
    "import matplotlib.pyplot as plt\n",
    "\n",
    "from pathlib import Path\n",
    "from typing import List, Tuple\n",
    "from tensorflow import Tensor, random, reduce_sum, constant, numpy_function, float32, data, Variable, transpose\n",
    "from tensorflow.keras.layers import Dense, Multiply, Conv2D, GlobalAveragePooling2D, BatchNormalization, UpSampling2D, Input, MaxPooling2D, AveragePooling2D, Flatten, Layer, Conv1D, LayerNormalization, DepthwiseConv2D\n",
    "from tensorflow.keras.models import Model, load_model\n",
    "from tensorflow.keras.backend import relu, sigmoid, concatenate, reshape\n",
    "from tensorflow.keras.applications import VGG19\n",
    "from tensorflow.keras.optimizers import Nadam\n",
    "from tensorflow.keras.losses import BinaryCrossentropy\n",
    "from tensorflow.keras.callbacks import History\n",
    "from sklearn.utils import shuffle\n",
    "from tensorflow.keras.metrics import Recall, Precision\n",
    "from tensorflow.keras.callbacks import ModelCheckpoint, ReduceLROnPlateau, EarlyStopping, CSVLogger\n",
    "from math import log"
   ]
  },
  {
   "cell_type": "code",
   "execution_count": 165,
   "outputs": [],
   "source": [
    "class Select_Layer(Layer):\n",
    "    def __init__(self):\n",
    "        super(Select_Layer, self).__init__()\n",
    "        self.weight = Variable(random.uniform([1], 0, 1), trainable=True, name=\"se-W\")\n",
    "\n",
    "    def call(self, inputs, *args, **kwargs):\n",
    "        return inputs[0] * self.weight + (1. - self.weight) * inputs[1]\n",
    "\n",
    "def channel_shuffle(input_tensor: Tensor, group_num: int = 2) -> Tensor:\n",
    "    \"\"\"\n",
    "    参考：https://blog.csdn.net/baidu_23388287/article/details/94456951\n",
    "         https://blog.csdn.net/qq_36758914/article/details/106967780\n",
    "\n",
    "    :param input_tensor: 输入特征图数据\n",
    "    :param group_num: 分组\n",
    "    :return:\n",
    "    \"\"\"\n",
    "    _, high, width, channel = input_tensor.get_shape()\n",
    "    # 注意下面的//一定要整除\n",
    "    input_reshaped = reshape(input_tensor, [-1, high, width, group_num, channel // group_num])\n",
    "    input_transpose = transpose(input_reshaped, [0, 1, 2, 4, 3])\n",
    "    return reshape(input_transpose, [-1, high, width, channel])\n",
    "\n",
    "\n",
    "def sECA_block(inputs: Tensor, gamma: int=2, b: int = 1) -> Tensor:\n",
    "    _, _, _, c = inputs.get_shape()\n",
    "    temp_k = int(abs((log(c, 2) + b) / gamma))\n",
    "    kernel_size = temp_k if temp_k % 2 else temp_k + 1\n",
    "    y1 = GlobalAveragePooling2D(keepdims=True)(inputs)\n",
    "    y1 = channel_shuffle(y1)\n",
    "    y1 = Conv1D(filters=y1.shape[-1], kernel_size=kernel_size, padding=\"same\")(y1)\n",
    "    y1 = sigmoid(y1)\n",
    "\n",
    "    y2 = GlobalAveragePooling2D(keepdims=True)(inputs)\n",
    "    y2 = Conv1D(filters=y2.shape[-1], kernel_size=kernel_size, padding=\"same\")(y2)\n",
    "    y2 = sigmoid(y2)\n",
    "    # se = y2\n",
    "    se = Select_Layer()((y1, y2))\n",
    "    return Multiply()([inputs, se])\n",
    "\n",
    "def squeeze_excite_block(inputs: Tensor, ratio: int=8) -> Tensor:\n",
    "    \"\"\"\n",
    "    input默认为最后一个\n",
    "\n",
    "    :param inputs: 输入数据\n",
    "    :param ratio: 缩放系数，此处大于0使用除法\n",
    "    :return: 返回与输入数据相乘后的数据\n",
    "    \"\"\"\n",
    "    filters = inputs.shape[-1]\n",
    "    se = GlobalAveragePooling2D(keepdims=True)(inputs)\n",
    "    se = Dense(filters // ratio, kernel_initializer=\"he_normal\", use_bias=False)(se)\n",
    "    se = relu(se)\n",
    "    se = Dense(filters, kernel_initializer=\"he_normal\", use_bias=False)(se)\n",
    "    se = sigmoid(se)\n",
    "\n",
    "    return Multiply()([inputs, se])"
   ],
   "metadata": {
    "collapsed": false,
    "pycharm": {
     "name": "#%%\n"
    }
   }
  },
  {
   "cell_type": "code",
   "execution_count": 166,
   "outputs": [],
   "source": [
    "def conv_block(inputs: Tensor, filters: int) -> Tensor:\n",
    "    \"\"\"\n",
    "    混合se块的卷积块\n",
    "\n",
    "    :param inputs: 输入数据\n",
    "    :param filters: 需要的维度\n",
    "    :return: 数据\n",
    "    \"\"\"\n",
    "    # x = Conv2D(filters=filters, kernel_size=(3, 3), padding=\"same\")(inputs)\n",
    "    # x = BatchNormalization()(x)\n",
    "    # x = relu(x)\n",
    "    #\n",
    "    # x = Conv2D(filters=filters, kernel_size=(3, 3), padding=\"same\")(x)\n",
    "    # x = BatchNormalization()(x)\n",
    "    # x = relu(x)\n",
    "    x = Conv2D(filters=filters, kernel_size=(1, 1), padding=\"same\")(inputs)\n",
    "    x = DepthwiseConv2D(kernel_size=(7, 7), padding=\"same\")(x)\n",
    "    x = LayerNormalization()(x)\n",
    "    x = Conv2D(filters=4 * filters, kernel_size=(1, 1), padding=\"same\")(x)\n",
    "    x = relu(x)\n",
    "\n",
    "    x = Conv2D(filters=filters, kernel_size=(1, 1), padding=\"same\")(x)\n",
    "\n",
    "    return  sECA_block(x)  # squeeze_excite_block(x)"
   ],
   "metadata": {
    "collapsed": false,
    "pycharm": {
     "name": "#%%\n"
    }
   }
  },
  {
   "cell_type": "code",
   "execution_count": 167,
   "outputs": [],
   "source": [
    "def encoder_1(inputs: Tensor) -> Tuple[Tensor, List[Tensor]]:\n",
    "    \"\"\"\n",
    "    第一个U-net的编码器\n",
    "\n",
    "    :param inputs: 输入数据\n",
    "    :return: vgg19各个层的输出\n",
    "    \"\"\"\n",
    "    skip_connections = []\n",
    "    vgg19_model = VGG19(include_top=False, input_tensor=inputs)  # weights为默认\n",
    "    vgg19_layers_name = [\"block1_conv2\",\n",
    "                         \"block2_conv2\",\n",
    "                         \"block3_conv4\",\n",
    "                         \"block4_conv4\"]\n",
    "    for layer_name in vgg19_layers_name:\n",
    "        skip_connections.append(vgg19_model.get_layer(layer_name).output)\n",
    "    final_outputs = vgg19_model.get_layer(\"block5_conv4\").output\n",
    "    return final_outputs, skip_connections"
   ],
   "metadata": {
    "collapsed": false,
    "pycharm": {
     "name": "#%%\n"
    }
   }
  },
  {
   "cell_type": "code",
   "execution_count": 168,
   "outputs": [],
   "source": [
    "def decoder_1(inputs: Tensor, skip_connections: List[Tensor]) -> Tensor:\n",
    "    \"\"\"\n",
    "    第一个U-net的解码器\n",
    "\n",
    "    :param inputs: 输入数据\n",
    "    :param skip_connections: 跳跃连接层\n",
    "    :return: 输出数据\n",
    "    \"\"\"\n",
    "    filters_num = [256, 128, 64, 32]\n",
    "    skip_connections.reverse()\n",
    "    x = inputs\n",
    "    for num, filters in enumerate(filters_num):\n",
    "        x = UpSampling2D(interpolation=\"bilinear\")(x)  # size为默认\n",
    "        x = concatenate((x, skip_connections[num]))\n",
    "        x = conv_block(x, filters)\n",
    "    return x"
   ],
   "metadata": {
    "collapsed": false,
    "pycharm": {
     "name": "#%%\n"
    }
   }
  },
  {
   "cell_type": "code",
   "execution_count": 169,
   "outputs": [],
   "source": [
    "def encoder_2(inputs: Tensor) -> Tuple[Tensor, List[Tensor]]:\n",
    "    \"\"\"\n",
    "    第二个U-net的编码器\n",
    "\n",
    "    :param inputs: 输入数据\n",
    "    :return: 各层输出数据\n",
    "    \"\"\"\n",
    "    filers_num = [32, 64, 128, 256]\n",
    "    skip_connection = []\n",
    "    x = inputs\n",
    "\n",
    "    for num, filters in enumerate(filers_num):\n",
    "        x = conv_block(x, filters)\n",
    "        skip_connection.append(x)\n",
    "        x = MaxPooling2D()(x)  # pool_size默认\n",
    "    return x, skip_connection"
   ],
   "metadata": {
    "collapsed": false,
    "pycharm": {
     "name": "#%%\n"
    }
   }
  },
  {
   "cell_type": "code",
   "execution_count": 170,
   "outputs": [],
   "source": [
    "def decoder_2(inputs: Tensor,\n",
    "              skip_connection_1: List[Tensor],\n",
    "              skip_connection_2: List[Tensor]) -> Tensor:\n",
    "    \"\"\"\n",
    "    第二个U-net的解码器\n",
    "\n",
    "    :param inputs: 输入数据\n",
    "    :param skip_connection_1: 第一个U-net的跳跃连接\n",
    "    :param skip_connection_2: 第二个U-net的跳跃连接\n",
    "    :return: 输出数据\n",
    "    \"\"\"\n",
    "    filters_num = [256, 128, 64, 32]\n",
    "    skip_connection_2.reverse()\n",
    "    x = inputs\n",
    "\n",
    "    for num, filters in enumerate(filters_num):\n",
    "        x = UpSampling2D(interpolation=\"bilinear\")(x)  # size为默认\n",
    "        x = concatenate((x, skip_connection_1[num], skip_connection_2[num]))\n",
    "        x = conv_block(x, filters)\n",
    "    return x"
   ],
   "metadata": {
    "collapsed": false,
    "pycharm": {
     "name": "#%%\n"
    }
   }
  },
  {
   "cell_type": "code",
   "execution_count": 171,
   "outputs": [],
   "source": [
    "def output_block(inputs: Tensor) -> Tensor:\n",
    "    \"\"\"\n",
    "    输出块\n",
    "\n",
    "    :param inputs: 输入数据\n",
    "    :return: 输出数据\n",
    "    \"\"\"\n",
    "    x  = Conv2D(filters=1, kernel_size=(1, 1), padding=\"same\")(inputs)\n",
    "    x = sigmoid(x)\n",
    "    return x"
   ],
   "metadata": {
    "collapsed": false,
    "pycharm": {
     "name": "#%%\n"
    }
   }
  },
  {
   "cell_type": "code",
   "execution_count": 172,
   "outputs": [],
   "source": [
    "def as_pp(inputs: Tensor, filters: int) -> Tensor:\n",
    "    \"\"\"\n",
    "    ASPP模块\n",
    "\n",
    "    :param inputs: 输入数据\n",
    "    :param filters: 核数量\n",
    "    :return: 输出数据\n",
    "    \"\"\"\n",
    "    y = []\n",
    "    input_shape = inputs.get_shape()\n",
    "\n",
    "    y1 = AveragePooling2D(pool_size=(input_shape[1], input_shape[2]))(inputs)\n",
    "    y1 = Conv2D(filters=filters, kernel_size=1, padding=\"same\")(y1)\n",
    "    y1 = BatchNormalization()(y1)\n",
    "    y1 = relu(y1)\n",
    "    y1 = UpSampling2D((input_shape[1], input_shape[2]), interpolation='bilinear')(y1)\n",
    "\n",
    "    y.append(y1)\n",
    "\n",
    "    for kernel_size, dilation_rate in zip([1, 3, 3, 3],\n",
    "                                          [1, 6, 12, 18]):\n",
    "        y_ = Conv2D(filters=filters, kernel_size=kernel_size,\n",
    "                    dilation_rate=dilation_rate, padding=\"same\",\n",
    "                    use_bias=False)(inputs)\n",
    "        y_ = BatchNormalization()(y_)\n",
    "        y_ = relu(y_)\n",
    "        y.append(y_)\n",
    "\n",
    "    y = concatenate(y)\n",
    "\n",
    "    y = Conv2D(filters=filters, kernel_size=1, dilation_rate=1,\n",
    "               padding=\"same\", use_bias=False)(y)\n",
    "    y = BatchNormalization()(y)\n",
    "    y = relu(y)\n",
    "    return y\n"
   ],
   "metadata": {
    "collapsed": false,
    "pycharm": {
     "name": "#%%\n"
    }
   }
  },
  {
   "cell_type": "code",
   "execution_count": 173,
   "outputs": [],
   "source": [
    "def doubleU_net(input_shape: Tuple[int, int, int]) -> Model:\n",
    "    \"\"\"\n",
    "    模型构建\n",
    "\n",
    "    :param input_shape: 输入数据形状\n",
    "    :return: 模型\n",
    "    \"\"\"\n",
    "    inputs = Input(shape=input_shape)\n",
    "    x, skip_c1 = encoder_1(inputs)  # x为原来的下采样16倍，skip_c1保存了下采样0倍，2，4， 8\n",
    "    x = as_pp(x, 64)\n",
    "    x = decoder_1(x, skip_c1)\n",
    "    outputs1 = output_block(x)\n",
    "\n",
    "    x = outputs1 * inputs\n",
    "\n",
    "    x, skip_c2 = encoder_2(x)\n",
    "    x = as_pp(x, 64)\n",
    "    x = decoder_2(x, skip_c1, skip_c2)\n",
    "    outputs2 = output_block(x)\n",
    "    outputs = concatenate((outputs1, outputs2))\n",
    "\n",
    "    return Model(inputs=inputs, outputs=outputs)"
   ],
   "metadata": {
    "collapsed": false,
    "pycharm": {
     "name": "#%%\n"
    }
   }
  },
  {
   "cell_type": "code",
   "execution_count": 174,
   "outputs": [
    {
     "name": "stdout",
     "output_type": "stream",
     "text": [
      "Model: \"model_6\"\n",
      "__________________________________________________________________________________________________\n",
      "Layer (type)                    Output Shape         Param #     Connected to                     \n",
      "==================================================================================================\n",
      "input_8 (InputLayer)            [(None, 288, 384, 3) 0                                            \n",
      "__________________________________________________________________________________________________\n",
      "block1_conv1 (Conv2D)           (None, 288, 384, 64) 1792        input_8[0][0]                    \n",
      "__________________________________________________________________________________________________\n",
      "block1_conv2 (Conv2D)           (None, 288, 384, 64) 36928       block1_conv1[0][0]               \n",
      "__________________________________________________________________________________________________\n",
      "block1_pool (MaxPooling2D)      (None, 144, 192, 64) 0           block1_conv2[0][0]               \n",
      "__________________________________________________________________________________________________\n",
      "block2_conv1 (Conv2D)           (None, 144, 192, 128 73856       block1_pool[0][0]                \n",
      "__________________________________________________________________________________________________\n",
      "block2_conv2 (Conv2D)           (None, 144, 192, 128 147584      block2_conv1[0][0]               \n",
      "__________________________________________________________________________________________________\n",
      "block2_pool (MaxPooling2D)      (None, 72, 96, 128)  0           block2_conv2[0][0]               \n",
      "__________________________________________________________________________________________________\n",
      "block3_conv1 (Conv2D)           (None, 72, 96, 256)  295168      block2_pool[0][0]                \n",
      "__________________________________________________________________________________________________\n",
      "block3_conv2 (Conv2D)           (None, 72, 96, 256)  590080      block3_conv1[0][0]               \n",
      "__________________________________________________________________________________________________\n",
      "block3_conv3 (Conv2D)           (None, 72, 96, 256)  590080      block3_conv2[0][0]               \n",
      "__________________________________________________________________________________________________\n",
      "block3_conv4 (Conv2D)           (None, 72, 96, 256)  590080      block3_conv3[0][0]               \n",
      "__________________________________________________________________________________________________\n",
      "block3_pool (MaxPooling2D)      (None, 36, 48, 256)  0           block3_conv4[0][0]               \n",
      "__________________________________________________________________________________________________\n",
      "block4_conv1 (Conv2D)           (None, 36, 48, 512)  1180160     block3_pool[0][0]                \n",
      "__________________________________________________________________________________________________\n",
      "block4_conv2 (Conv2D)           (None, 36, 48, 512)  2359808     block4_conv1[0][0]               \n",
      "__________________________________________________________________________________________________\n",
      "block4_conv3 (Conv2D)           (None, 36, 48, 512)  2359808     block4_conv2[0][0]               \n",
      "__________________________________________________________________________________________________\n",
      "block4_conv4 (Conv2D)           (None, 36, 48, 512)  2359808     block4_conv3[0][0]               \n",
      "__________________________________________________________________________________________________\n",
      "block4_pool (MaxPooling2D)      (None, 18, 24, 512)  0           block4_conv4[0][0]               \n",
      "__________________________________________________________________________________________________\n",
      "block5_conv1 (Conv2D)           (None, 18, 24, 512)  2359808     block4_pool[0][0]                \n",
      "__________________________________________________________________________________________________\n",
      "block5_conv2 (Conv2D)           (None, 18, 24, 512)  2359808     block5_conv1[0][0]               \n",
      "__________________________________________________________________________________________________\n",
      "block5_conv3 (Conv2D)           (None, 18, 24, 512)  2359808     block5_conv2[0][0]               \n",
      "__________________________________________________________________________________________________\n",
      "block5_conv4 (Conv2D)           (None, 18, 24, 512)  2359808     block5_conv3[0][0]               \n",
      "__________________________________________________________________________________________________\n",
      "average_pooling2d_13 (AveragePo (None, 1, 1, 512)    0           block5_conv4[0][0]               \n",
      "__________________________________________________________________________________________________\n",
      "conv2d_307 (Conv2D)             (None, 1, 1, 64)     32832       average_pooling2d_13[0][0]       \n",
      "__________________________________________________________________________________________________\n",
      "batch_normalization_114 (BatchN (None, 1, 1, 64)     256         conv2d_307[0][0]                 \n",
      "__________________________________________________________________________________________________\n",
      "conv2d_308 (Conv2D)             (None, 18, 24, 64)   32768       block5_conv4[0][0]               \n",
      "__________________________________________________________________________________________________\n",
      "conv2d_309 (Conv2D)             (None, 18, 24, 64)   294912      block5_conv4[0][0]               \n",
      "__________________________________________________________________________________________________\n",
      "conv2d_310 (Conv2D)             (None, 18, 24, 64)   294912      block5_conv4[0][0]               \n",
      "__________________________________________________________________________________________________\n",
      "conv2d_311 (Conv2D)             (None, 18, 24, 64)   294912      block5_conv4[0][0]               \n",
      "__________________________________________________________________________________________________\n",
      "tf.nn.relu_150 (TFOpLambda)     (None, 1, 1, 64)     0           batch_normalization_114[0][0]    \n",
      "__________________________________________________________________________________________________\n",
      "batch_normalization_115 (BatchN (None, 18, 24, 64)   256         conv2d_308[0][0]                 \n",
      "__________________________________________________________________________________________________\n",
      "batch_normalization_116 (BatchN (None, 18, 24, 64)   256         conv2d_309[0][0]                 \n",
      "__________________________________________________________________________________________________\n",
      "batch_normalization_117 (BatchN (None, 18, 24, 64)   256         conv2d_310[0][0]                 \n",
      "__________________________________________________________________________________________________\n",
      "batch_normalization_118 (BatchN (None, 18, 24, 64)   256         conv2d_311[0][0]                 \n",
      "__________________________________________________________________________________________________\n",
      "up_sampling2d_62 (UpSampling2D) (None, 18, 24, 64)   0           tf.nn.relu_150[0][0]             \n",
      "__________________________________________________________________________________________________\n",
      "tf.nn.relu_151 (TFOpLambda)     (None, 18, 24, 64)   0           batch_normalization_115[0][0]    \n",
      "__________________________________________________________________________________________________\n",
      "tf.nn.relu_152 (TFOpLambda)     (None, 18, 24, 64)   0           batch_normalization_116[0][0]    \n",
      "__________________________________________________________________________________________________\n",
      "tf.nn.relu_153 (TFOpLambda)     (None, 18, 24, 64)   0           batch_normalization_117[0][0]    \n",
      "__________________________________________________________________________________________________\n",
      "tf.nn.relu_154 (TFOpLambda)     (None, 18, 24, 64)   0           batch_normalization_118[0][0]    \n",
      "__________________________________________________________________________________________________\n",
      "tf.concat_68 (TFOpLambda)       (None, 18, 24, 320)  0           up_sampling2d_62[0][0]           \n",
      "                                                                 tf.nn.relu_151[0][0]             \n",
      "                                                                 tf.nn.relu_152[0][0]             \n",
      "                                                                 tf.nn.relu_153[0][0]             \n",
      "                                                                 tf.nn.relu_154[0][0]             \n",
      "__________________________________________________________________________________________________\n",
      "conv2d_312 (Conv2D)             (None, 18, 24, 64)   20480       tf.concat_68[0][0]               \n",
      "__________________________________________________________________________________________________\n",
      "batch_normalization_119 (BatchN (None, 18, 24, 64)   256         conv2d_312[0][0]                 \n",
      "__________________________________________________________________________________________________\n",
      "tf.nn.relu_155 (TFOpLambda)     (None, 18, 24, 64)   0           batch_normalization_119[0][0]    \n",
      "__________________________________________________________________________________________________\n",
      "up_sampling2d_63 (UpSampling2D) (None, 36, 48, 64)   0           tf.nn.relu_155[0][0]             \n",
      "__________________________________________________________________________________________________\n",
      "tf.concat_69 (TFOpLambda)       (None, 36, 48, 576)  0           up_sampling2d_63[0][0]           \n",
      "                                                                 block4_conv4[0][0]               \n",
      "__________________________________________________________________________________________________\n",
      "conv2d_313 (Conv2D)             (None, 36, 48, 256)  1327360     tf.concat_69[0][0]               \n",
      "__________________________________________________________________________________________________\n",
      "batch_normalization_120 (BatchN (None, 36, 48, 256)  1024        conv2d_313[0][0]                 \n",
      "__________________________________________________________________________________________________\n",
      "tf.nn.relu_156 (TFOpLambda)     (None, 36, 48, 256)  0           batch_normalization_120[0][0]    \n",
      "__________________________________________________________________________________________________\n",
      "conv2d_314 (Conv2D)             (None, 36, 48, 256)  590080      tf.nn.relu_156[0][0]             \n",
      "__________________________________________________________________________________________________\n",
      "batch_normalization_121 (BatchN (None, 36, 48, 256)  1024        conv2d_314[0][0]                 \n",
      "__________________________________________________________________________________________________\n",
      "tf.nn.relu_157 (TFOpLambda)     (None, 36, 48, 256)  0           batch_normalization_121[0][0]    \n",
      "__________________________________________________________________________________________________\n",
      "global_average_pooling2d_108 (G (None, 1, 1, 256)    0           tf.nn.relu_157[0][0]             \n",
      "__________________________________________________________________________________________________\n",
      "dense (Dense)                   (None, 1, 1, 32)     8192        global_average_pooling2d_108[0][0\n",
      "__________________________________________________________________________________________________\n",
      "tf.nn.relu_158 (TFOpLambda)     (None, 1, 1, 32)     0           dense[0][0]                      \n",
      "__________________________________________________________________________________________________\n",
      "dense_1 (Dense)                 (None, 1, 1, 256)    8192        tf.nn.relu_158[0][0]             \n",
      "__________________________________________________________________________________________________\n",
      "tf.math.sigmoid_120 (TFOpLambda (None, 1, 1, 256)    0           dense_1[0][0]                    \n",
      "__________________________________________________________________________________________________\n",
      "multiply_72 (Multiply)          (None, 36, 48, 256)  0           tf.nn.relu_157[0][0]             \n",
      "                                                                 tf.math.sigmoid_120[0][0]        \n",
      "__________________________________________________________________________________________________\n",
      "up_sampling2d_64 (UpSampling2D) (None, 72, 96, 256)  0           multiply_72[0][0]                \n",
      "__________________________________________________________________________________________________\n",
      "tf.concat_70 (TFOpLambda)       (None, 72, 96, 512)  0           up_sampling2d_64[0][0]           \n",
      "                                                                 block3_conv4[0][0]               \n",
      "__________________________________________________________________________________________________\n",
      "conv2d_315 (Conv2D)             (None, 72, 96, 128)  589952      tf.concat_70[0][0]               \n",
      "__________________________________________________________________________________________________\n",
      "batch_normalization_122 (BatchN (None, 72, 96, 128)  512         conv2d_315[0][0]                 \n",
      "__________________________________________________________________________________________________\n",
      "tf.nn.relu_159 (TFOpLambda)     (None, 72, 96, 128)  0           batch_normalization_122[0][0]    \n",
      "__________________________________________________________________________________________________\n",
      "conv2d_316 (Conv2D)             (None, 72, 96, 128)  147584      tf.nn.relu_159[0][0]             \n",
      "__________________________________________________________________________________________________\n",
      "batch_normalization_123 (BatchN (None, 72, 96, 128)  512         conv2d_316[0][0]                 \n",
      "__________________________________________________________________________________________________\n",
      "tf.nn.relu_160 (TFOpLambda)     (None, 72, 96, 128)  0           batch_normalization_123[0][0]    \n",
      "__________________________________________________________________________________________________\n",
      "global_average_pooling2d_109 (G (None, 1, 1, 128)    0           tf.nn.relu_160[0][0]             \n",
      "__________________________________________________________________________________________________\n",
      "dense_2 (Dense)                 (None, 1, 1, 16)     2048        global_average_pooling2d_109[0][0\n",
      "__________________________________________________________________________________________________\n",
      "tf.nn.relu_161 (TFOpLambda)     (None, 1, 1, 16)     0           dense_2[0][0]                    \n",
      "__________________________________________________________________________________________________\n",
      "dense_3 (Dense)                 (None, 1, 1, 128)    2048        tf.nn.relu_161[0][0]             \n",
      "__________________________________________________________________________________________________\n",
      "tf.math.sigmoid_121 (TFOpLambda (None, 1, 1, 128)    0           dense_3[0][0]                    \n",
      "__________________________________________________________________________________________________\n",
      "multiply_73 (Multiply)          (None, 72, 96, 128)  0           tf.nn.relu_160[0][0]             \n",
      "                                                                 tf.math.sigmoid_121[0][0]        \n",
      "__________________________________________________________________________________________________\n",
      "up_sampling2d_65 (UpSampling2D) (None, 144, 192, 128 0           multiply_73[0][0]                \n",
      "__________________________________________________________________________________________________\n",
      "tf.concat_71 (TFOpLambda)       (None, 144, 192, 256 0           up_sampling2d_65[0][0]           \n",
      "                                                                 block2_conv2[0][0]               \n",
      "__________________________________________________________________________________________________\n",
      "conv2d_317 (Conv2D)             (None, 144, 192, 64) 147520      tf.concat_71[0][0]               \n",
      "__________________________________________________________________________________________________\n",
      "batch_normalization_124 (BatchN (None, 144, 192, 64) 256         conv2d_317[0][0]                 \n",
      "__________________________________________________________________________________________________\n",
      "tf.nn.relu_162 (TFOpLambda)     (None, 144, 192, 64) 0           batch_normalization_124[0][0]    \n",
      "__________________________________________________________________________________________________\n",
      "conv2d_318 (Conv2D)             (None, 144, 192, 64) 36928       tf.nn.relu_162[0][0]             \n",
      "__________________________________________________________________________________________________\n",
      "batch_normalization_125 (BatchN (None, 144, 192, 64) 256         conv2d_318[0][0]                 \n",
      "__________________________________________________________________________________________________\n",
      "tf.nn.relu_163 (TFOpLambda)     (None, 144, 192, 64) 0           batch_normalization_125[0][0]    \n",
      "__________________________________________________________________________________________________\n",
      "global_average_pooling2d_110 (G (None, 1, 1, 64)     0           tf.nn.relu_163[0][0]             \n",
      "__________________________________________________________________________________________________\n",
      "dense_4 (Dense)                 (None, 1, 1, 8)      512         global_average_pooling2d_110[0][0\n",
      "__________________________________________________________________________________________________\n",
      "tf.nn.relu_164 (TFOpLambda)     (None, 1, 1, 8)      0           dense_4[0][0]                    \n",
      "__________________________________________________________________________________________________\n",
      "dense_5 (Dense)                 (None, 1, 1, 64)     512         tf.nn.relu_164[0][0]             \n",
      "__________________________________________________________________________________________________\n",
      "tf.math.sigmoid_122 (TFOpLambda (None, 1, 1, 64)     0           dense_5[0][0]                    \n",
      "__________________________________________________________________________________________________\n",
      "multiply_74 (Multiply)          (None, 144, 192, 64) 0           tf.nn.relu_163[0][0]             \n",
      "                                                                 tf.math.sigmoid_122[0][0]        \n",
      "__________________________________________________________________________________________________\n",
      "up_sampling2d_66 (UpSampling2D) (None, 288, 384, 64) 0           multiply_74[0][0]                \n",
      "__________________________________________________________________________________________________\n",
      "tf.concat_72 (TFOpLambda)       (None, 288, 384, 128 0           up_sampling2d_66[0][0]           \n",
      "                                                                 block1_conv2[0][0]               \n",
      "__________________________________________________________________________________________________\n",
      "conv2d_319 (Conv2D)             (None, 288, 384, 32) 36896       tf.concat_72[0][0]               \n",
      "__________________________________________________________________________________________________\n",
      "batch_normalization_126 (BatchN (None, 288, 384, 32) 128         conv2d_319[0][0]                 \n",
      "__________________________________________________________________________________________________\n",
      "tf.nn.relu_165 (TFOpLambda)     (None, 288, 384, 32) 0           batch_normalization_126[0][0]    \n",
      "__________________________________________________________________________________________________\n",
      "conv2d_320 (Conv2D)             (None, 288, 384, 32) 9248        tf.nn.relu_165[0][0]             \n",
      "__________________________________________________________________________________________________\n",
      "batch_normalization_127 (BatchN (None, 288, 384, 32) 128         conv2d_320[0][0]                 \n",
      "__________________________________________________________________________________________________\n",
      "tf.nn.relu_166 (TFOpLambda)     (None, 288, 384, 32) 0           batch_normalization_127[0][0]    \n",
      "__________________________________________________________________________________________________\n",
      "global_average_pooling2d_111 (G (None, 1, 1, 32)     0           tf.nn.relu_166[0][0]             \n",
      "__________________________________________________________________________________________________\n",
      "dense_6 (Dense)                 (None, 1, 1, 4)      128         global_average_pooling2d_111[0][0\n",
      "__________________________________________________________________________________________________\n",
      "tf.nn.relu_167 (TFOpLambda)     (None, 1, 1, 4)      0           dense_6[0][0]                    \n",
      "__________________________________________________________________________________________________\n",
      "dense_7 (Dense)                 (None, 1, 1, 32)     128         tf.nn.relu_167[0][0]             \n",
      "__________________________________________________________________________________________________\n",
      "tf.math.sigmoid_123 (TFOpLambda (None, 1, 1, 32)     0           dense_7[0][0]                    \n",
      "__________________________________________________________________________________________________\n",
      "multiply_75 (Multiply)          (None, 288, 384, 32) 0           tf.nn.relu_166[0][0]             \n",
      "                                                                 tf.math.sigmoid_123[0][0]        \n",
      "__________________________________________________________________________________________________\n",
      "conv2d_321 (Conv2D)             (None, 288, 384, 1)  33          multiply_75[0][0]                \n",
      "__________________________________________________________________________________________________\n",
      "tf.math.sigmoid_124 (TFOpLambda (None, 288, 384, 1)  0           conv2d_321[0][0]                 \n",
      "__________________________________________________________________________________________________\n",
      "tf.math.multiply_6 (TFOpLambda) (None, 288, 384, 3)  0           tf.math.sigmoid_124[0][0]        \n",
      "                                                                 input_8[0][0]                    \n",
      "__________________________________________________________________________________________________\n",
      "conv2d_322 (Conv2D)             (None, 288, 384, 32) 896         tf.math.multiply_6[0][0]         \n",
      "__________________________________________________________________________________________________\n",
      "batch_normalization_128 (BatchN (None, 288, 384, 32) 128         conv2d_322[0][0]                 \n",
      "__________________________________________________________________________________________________\n",
      "tf.nn.relu_168 (TFOpLambda)     (None, 288, 384, 32) 0           batch_normalization_128[0][0]    \n",
      "__________________________________________________________________________________________________\n",
      "conv2d_323 (Conv2D)             (None, 288, 384, 32) 9248        tf.nn.relu_168[0][0]             \n",
      "__________________________________________________________________________________________________\n",
      "batch_normalization_129 (BatchN (None, 288, 384, 32) 128         conv2d_323[0][0]                 \n",
      "__________________________________________________________________________________________________\n",
      "tf.nn.relu_169 (TFOpLambda)     (None, 288, 384, 32) 0           batch_normalization_129[0][0]    \n",
      "__________________________________________________________________________________________________\n",
      "global_average_pooling2d_112 (G (None, 1, 1, 32)     0           tf.nn.relu_169[0][0]             \n",
      "__________________________________________________________________________________________________\n",
      "dense_8 (Dense)                 (None, 1, 1, 4)      128         global_average_pooling2d_112[0][0\n",
      "__________________________________________________________________________________________________\n",
      "tf.nn.relu_170 (TFOpLambda)     (None, 1, 1, 4)      0           dense_8[0][0]                    \n",
      "__________________________________________________________________________________________________\n",
      "dense_9 (Dense)                 (None, 1, 1, 32)     128         tf.nn.relu_170[0][0]             \n",
      "__________________________________________________________________________________________________\n",
      "tf.math.sigmoid_125 (TFOpLambda (None, 1, 1, 32)     0           dense_9[0][0]                    \n",
      "__________________________________________________________________________________________________\n",
      "multiply_76 (Multiply)          (None, 288, 384, 32) 0           tf.nn.relu_169[0][0]             \n",
      "                                                                 tf.math.sigmoid_125[0][0]        \n",
      "__________________________________________________________________________________________________\n",
      "max_pooling2d_24 (MaxPooling2D) (None, 144, 192, 32) 0           multiply_76[0][0]                \n",
      "__________________________________________________________________________________________________\n",
      "conv2d_324 (Conv2D)             (None, 144, 192, 64) 18496       max_pooling2d_24[0][0]           \n",
      "__________________________________________________________________________________________________\n",
      "batch_normalization_130 (BatchN (None, 144, 192, 64) 256         conv2d_324[0][0]                 \n",
      "__________________________________________________________________________________________________\n",
      "tf.nn.relu_171 (TFOpLambda)     (None, 144, 192, 64) 0           batch_normalization_130[0][0]    \n",
      "__________________________________________________________________________________________________\n",
      "conv2d_325 (Conv2D)             (None, 144, 192, 64) 36928       tf.nn.relu_171[0][0]             \n",
      "__________________________________________________________________________________________________\n",
      "batch_normalization_131 (BatchN (None, 144, 192, 64) 256         conv2d_325[0][0]                 \n",
      "__________________________________________________________________________________________________\n",
      "tf.nn.relu_172 (TFOpLambda)     (None, 144, 192, 64) 0           batch_normalization_131[0][0]    \n",
      "__________________________________________________________________________________________________\n",
      "global_average_pooling2d_113 (G (None, 1, 1, 64)     0           tf.nn.relu_172[0][0]             \n",
      "__________________________________________________________________________________________________\n",
      "dense_10 (Dense)                (None, 1, 1, 8)      512         global_average_pooling2d_113[0][0\n",
      "__________________________________________________________________________________________________\n",
      "tf.nn.relu_173 (TFOpLambda)     (None, 1, 1, 8)      0           dense_10[0][0]                   \n",
      "__________________________________________________________________________________________________\n",
      "dense_11 (Dense)                (None, 1, 1, 64)     512         tf.nn.relu_173[0][0]             \n",
      "__________________________________________________________________________________________________\n",
      "tf.math.sigmoid_126 (TFOpLambda (None, 1, 1, 64)     0           dense_11[0][0]                   \n",
      "__________________________________________________________________________________________________\n",
      "multiply_77 (Multiply)          (None, 144, 192, 64) 0           tf.nn.relu_172[0][0]             \n",
      "                                                                 tf.math.sigmoid_126[0][0]        \n",
      "__________________________________________________________________________________________________\n",
      "max_pooling2d_25 (MaxPooling2D) (None, 72, 96, 64)   0           multiply_77[0][0]                \n",
      "__________________________________________________________________________________________________\n",
      "conv2d_326 (Conv2D)             (None, 72, 96, 128)  73856       max_pooling2d_25[0][0]           \n",
      "__________________________________________________________________________________________________\n",
      "batch_normalization_132 (BatchN (None, 72, 96, 128)  512         conv2d_326[0][0]                 \n",
      "__________________________________________________________________________________________________\n",
      "tf.nn.relu_174 (TFOpLambda)     (None, 72, 96, 128)  0           batch_normalization_132[0][0]    \n",
      "__________________________________________________________________________________________________\n",
      "conv2d_327 (Conv2D)             (None, 72, 96, 128)  147584      tf.nn.relu_174[0][0]             \n",
      "__________________________________________________________________________________________________\n",
      "batch_normalization_133 (BatchN (None, 72, 96, 128)  512         conv2d_327[0][0]                 \n",
      "__________________________________________________________________________________________________\n",
      "tf.nn.relu_175 (TFOpLambda)     (None, 72, 96, 128)  0           batch_normalization_133[0][0]    \n",
      "__________________________________________________________________________________________________\n",
      "global_average_pooling2d_114 (G (None, 1, 1, 128)    0           tf.nn.relu_175[0][0]             \n",
      "__________________________________________________________________________________________________\n",
      "dense_12 (Dense)                (None, 1, 1, 16)     2048        global_average_pooling2d_114[0][0\n",
      "__________________________________________________________________________________________________\n",
      "tf.nn.relu_176 (TFOpLambda)     (None, 1, 1, 16)     0           dense_12[0][0]                   \n",
      "__________________________________________________________________________________________________\n",
      "dense_13 (Dense)                (None, 1, 1, 128)    2048        tf.nn.relu_176[0][0]             \n",
      "__________________________________________________________________________________________________\n",
      "tf.math.sigmoid_127 (TFOpLambda (None, 1, 1, 128)    0           dense_13[0][0]                   \n",
      "__________________________________________________________________________________________________\n",
      "multiply_78 (Multiply)          (None, 72, 96, 128)  0           tf.nn.relu_175[0][0]             \n",
      "                                                                 tf.math.sigmoid_127[0][0]        \n",
      "__________________________________________________________________________________________________\n",
      "max_pooling2d_26 (MaxPooling2D) (None, 36, 48, 128)  0           multiply_78[0][0]                \n",
      "__________________________________________________________________________________________________\n",
      "conv2d_328 (Conv2D)             (None, 36, 48, 256)  295168      max_pooling2d_26[0][0]           \n",
      "__________________________________________________________________________________________________\n",
      "batch_normalization_134 (BatchN (None, 36, 48, 256)  1024        conv2d_328[0][0]                 \n",
      "__________________________________________________________________________________________________\n",
      "tf.nn.relu_177 (TFOpLambda)     (None, 36, 48, 256)  0           batch_normalization_134[0][0]    \n",
      "__________________________________________________________________________________________________\n",
      "conv2d_329 (Conv2D)             (None, 36, 48, 256)  590080      tf.nn.relu_177[0][0]             \n",
      "__________________________________________________________________________________________________\n",
      "batch_normalization_135 (BatchN (None, 36, 48, 256)  1024        conv2d_329[0][0]                 \n",
      "__________________________________________________________________________________________________\n",
      "tf.nn.relu_178 (TFOpLambda)     (None, 36, 48, 256)  0           batch_normalization_135[0][0]    \n",
      "__________________________________________________________________________________________________\n",
      "global_average_pooling2d_115 (G (None, 1, 1, 256)    0           tf.nn.relu_178[0][0]             \n",
      "__________________________________________________________________________________________________\n",
      "dense_14 (Dense)                (None, 1, 1, 32)     8192        global_average_pooling2d_115[0][0\n",
      "__________________________________________________________________________________________________\n",
      "tf.nn.relu_179 (TFOpLambda)     (None, 1, 1, 32)     0           dense_14[0][0]                   \n",
      "__________________________________________________________________________________________________\n",
      "dense_15 (Dense)                (None, 1, 1, 256)    8192        tf.nn.relu_179[0][0]             \n",
      "__________________________________________________________________________________________________\n",
      "tf.math.sigmoid_128 (TFOpLambda (None, 1, 1, 256)    0           dense_15[0][0]                   \n",
      "__________________________________________________________________________________________________\n",
      "multiply_79 (Multiply)          (None, 36, 48, 256)  0           tf.nn.relu_178[0][0]             \n",
      "                                                                 tf.math.sigmoid_128[0][0]        \n",
      "__________________________________________________________________________________________________\n",
      "max_pooling2d_27 (MaxPooling2D) (None, 18, 24, 256)  0           multiply_79[0][0]                \n",
      "__________________________________________________________________________________________________\n",
      "average_pooling2d_14 (AveragePo (None, 1, 1, 256)    0           max_pooling2d_27[0][0]           \n",
      "__________________________________________________________________________________________________\n",
      "conv2d_330 (Conv2D)             (None, 1, 1, 64)     16448       average_pooling2d_14[0][0]       \n",
      "__________________________________________________________________________________________________\n",
      "batch_normalization_136 (BatchN (None, 1, 1, 64)     256         conv2d_330[0][0]                 \n",
      "__________________________________________________________________________________________________\n",
      "conv2d_331 (Conv2D)             (None, 18, 24, 64)   16384       max_pooling2d_27[0][0]           \n",
      "__________________________________________________________________________________________________\n",
      "conv2d_332 (Conv2D)             (None, 18, 24, 64)   147456      max_pooling2d_27[0][0]           \n",
      "__________________________________________________________________________________________________\n",
      "conv2d_333 (Conv2D)             (None, 18, 24, 64)   147456      max_pooling2d_27[0][0]           \n",
      "__________________________________________________________________________________________________\n",
      "conv2d_334 (Conv2D)             (None, 18, 24, 64)   147456      max_pooling2d_27[0][0]           \n",
      "__________________________________________________________________________________________________\n",
      "tf.nn.relu_180 (TFOpLambda)     (None, 1, 1, 64)     0           batch_normalization_136[0][0]    \n",
      "__________________________________________________________________________________________________\n",
      "batch_normalization_137 (BatchN (None, 18, 24, 64)   256         conv2d_331[0][0]                 \n",
      "__________________________________________________________________________________________________\n",
      "batch_normalization_138 (BatchN (None, 18, 24, 64)   256         conv2d_332[0][0]                 \n",
      "__________________________________________________________________________________________________\n",
      "batch_normalization_139 (BatchN (None, 18, 24, 64)   256         conv2d_333[0][0]                 \n",
      "__________________________________________________________________________________________________\n",
      "batch_normalization_140 (BatchN (None, 18, 24, 64)   256         conv2d_334[0][0]                 \n",
      "__________________________________________________________________________________________________\n",
      "up_sampling2d_67 (UpSampling2D) (None, 18, 24, 64)   0           tf.nn.relu_180[0][0]             \n",
      "__________________________________________________________________________________________________\n",
      "tf.nn.relu_181 (TFOpLambda)     (None, 18, 24, 64)   0           batch_normalization_137[0][0]    \n",
      "__________________________________________________________________________________________________\n",
      "tf.nn.relu_182 (TFOpLambda)     (None, 18, 24, 64)   0           batch_normalization_138[0][0]    \n",
      "__________________________________________________________________________________________________\n",
      "tf.nn.relu_183 (TFOpLambda)     (None, 18, 24, 64)   0           batch_normalization_139[0][0]    \n",
      "__________________________________________________________________________________________________\n",
      "tf.nn.relu_184 (TFOpLambda)     (None, 18, 24, 64)   0           batch_normalization_140[0][0]    \n",
      "__________________________________________________________________________________________________\n",
      "tf.concat_73 (TFOpLambda)       (None, 18, 24, 320)  0           up_sampling2d_67[0][0]           \n",
      "                                                                 tf.nn.relu_181[0][0]             \n",
      "                                                                 tf.nn.relu_182[0][0]             \n",
      "                                                                 tf.nn.relu_183[0][0]             \n",
      "                                                                 tf.nn.relu_184[0][0]             \n",
      "__________________________________________________________________________________________________\n",
      "conv2d_335 (Conv2D)             (None, 18, 24, 64)   20480       tf.concat_73[0][0]               \n",
      "__________________________________________________________________________________________________\n",
      "batch_normalization_141 (BatchN (None, 18, 24, 64)   256         conv2d_335[0][0]                 \n",
      "__________________________________________________________________________________________________\n",
      "tf.nn.relu_185 (TFOpLambda)     (None, 18, 24, 64)   0           batch_normalization_141[0][0]    \n",
      "__________________________________________________________________________________________________\n",
      "up_sampling2d_68 (UpSampling2D) (None, 36, 48, 64)   0           tf.nn.relu_185[0][0]             \n",
      "__________________________________________________________________________________________________\n",
      "tf.concat_74 (TFOpLambda)       (None, 36, 48, 832)  0           up_sampling2d_68[0][0]           \n",
      "                                                                 block4_conv4[0][0]               \n",
      "                                                                 multiply_79[0][0]                \n",
      "__________________________________________________________________________________________________\n",
      "conv2d_336 (Conv2D)             (None, 36, 48, 256)  1917184     tf.concat_74[0][0]               \n",
      "__________________________________________________________________________________________________\n",
      "batch_normalization_142 (BatchN (None, 36, 48, 256)  1024        conv2d_336[0][0]                 \n",
      "__________________________________________________________________________________________________\n",
      "tf.nn.relu_186 (TFOpLambda)     (None, 36, 48, 256)  0           batch_normalization_142[0][0]    \n",
      "__________________________________________________________________________________________________\n",
      "conv2d_337 (Conv2D)             (None, 36, 48, 256)  590080      tf.nn.relu_186[0][0]             \n",
      "__________________________________________________________________________________________________\n",
      "batch_normalization_143 (BatchN (None, 36, 48, 256)  1024        conv2d_337[0][0]                 \n",
      "__________________________________________________________________________________________________\n",
      "tf.nn.relu_187 (TFOpLambda)     (None, 36, 48, 256)  0           batch_normalization_143[0][0]    \n",
      "__________________________________________________________________________________________________\n",
      "global_average_pooling2d_116 (G (None, 1, 1, 256)    0           tf.nn.relu_187[0][0]             \n",
      "__________________________________________________________________________________________________\n",
      "dense_16 (Dense)                (None, 1, 1, 32)     8192        global_average_pooling2d_116[0][0\n",
      "__________________________________________________________________________________________________\n",
      "tf.nn.relu_188 (TFOpLambda)     (None, 1, 1, 32)     0           dense_16[0][0]                   \n",
      "__________________________________________________________________________________________________\n",
      "dense_17 (Dense)                (None, 1, 1, 256)    8192        tf.nn.relu_188[0][0]             \n",
      "__________________________________________________________________________________________________\n",
      "tf.math.sigmoid_129 (TFOpLambda (None, 1, 1, 256)    0           dense_17[0][0]                   \n",
      "__________________________________________________________________________________________________\n",
      "multiply_80 (Multiply)          (None, 36, 48, 256)  0           tf.nn.relu_187[0][0]             \n",
      "                                                                 tf.math.sigmoid_129[0][0]        \n",
      "__________________________________________________________________________________________________\n",
      "up_sampling2d_69 (UpSampling2D) (None, 72, 96, 256)  0           multiply_80[0][0]                \n",
      "__________________________________________________________________________________________________\n",
      "tf.concat_75 (TFOpLambda)       (None, 72, 96, 640)  0           up_sampling2d_69[0][0]           \n",
      "                                                                 block3_conv4[0][0]               \n",
      "                                                                 multiply_78[0][0]                \n",
      "__________________________________________________________________________________________________\n",
      "conv2d_338 (Conv2D)             (None, 72, 96, 128)  737408      tf.concat_75[0][0]               \n",
      "__________________________________________________________________________________________________\n",
      "batch_normalization_144 (BatchN (None, 72, 96, 128)  512         conv2d_338[0][0]                 \n",
      "__________________________________________________________________________________________________\n",
      "tf.nn.relu_189 (TFOpLambda)     (None, 72, 96, 128)  0           batch_normalization_144[0][0]    \n",
      "__________________________________________________________________________________________________\n",
      "conv2d_339 (Conv2D)             (None, 72, 96, 128)  147584      tf.nn.relu_189[0][0]             \n",
      "__________________________________________________________________________________________________\n",
      "batch_normalization_145 (BatchN (None, 72, 96, 128)  512         conv2d_339[0][0]                 \n",
      "__________________________________________________________________________________________________\n",
      "tf.nn.relu_190 (TFOpLambda)     (None, 72, 96, 128)  0           batch_normalization_145[0][0]    \n",
      "__________________________________________________________________________________________________\n",
      "global_average_pooling2d_117 (G (None, 1, 1, 128)    0           tf.nn.relu_190[0][0]             \n",
      "__________________________________________________________________________________________________\n",
      "dense_18 (Dense)                (None, 1, 1, 16)     2048        global_average_pooling2d_117[0][0\n",
      "__________________________________________________________________________________________________\n",
      "tf.nn.relu_191 (TFOpLambda)     (None, 1, 1, 16)     0           dense_18[0][0]                   \n",
      "__________________________________________________________________________________________________\n",
      "dense_19 (Dense)                (None, 1, 1, 128)    2048        tf.nn.relu_191[0][0]             \n",
      "__________________________________________________________________________________________________\n",
      "tf.math.sigmoid_130 (TFOpLambda (None, 1, 1, 128)    0           dense_19[0][0]                   \n",
      "__________________________________________________________________________________________________\n",
      "multiply_81 (Multiply)          (None, 72, 96, 128)  0           tf.nn.relu_190[0][0]             \n",
      "                                                                 tf.math.sigmoid_130[0][0]        \n",
      "__________________________________________________________________________________________________\n",
      "up_sampling2d_70 (UpSampling2D) (None, 144, 192, 128 0           multiply_81[0][0]                \n",
      "__________________________________________________________________________________________________\n",
      "tf.concat_76 (TFOpLambda)       (None, 144, 192, 320 0           up_sampling2d_70[0][0]           \n",
      "                                                                 block2_conv2[0][0]               \n",
      "                                                                 multiply_77[0][0]                \n",
      "__________________________________________________________________________________________________\n",
      "conv2d_340 (Conv2D)             (None, 144, 192, 64) 184384      tf.concat_76[0][0]               \n",
      "__________________________________________________________________________________________________\n",
      "batch_normalization_146 (BatchN (None, 144, 192, 64) 256         conv2d_340[0][0]                 \n",
      "__________________________________________________________________________________________________\n",
      "tf.nn.relu_192 (TFOpLambda)     (None, 144, 192, 64) 0           batch_normalization_146[0][0]    \n",
      "__________________________________________________________________________________________________\n",
      "conv2d_341 (Conv2D)             (None, 144, 192, 64) 36928       tf.nn.relu_192[0][0]             \n",
      "__________________________________________________________________________________________________\n",
      "batch_normalization_147 (BatchN (None, 144, 192, 64) 256         conv2d_341[0][0]                 \n",
      "__________________________________________________________________________________________________\n",
      "tf.nn.relu_193 (TFOpLambda)     (None, 144, 192, 64) 0           batch_normalization_147[0][0]    \n",
      "__________________________________________________________________________________________________\n",
      "global_average_pooling2d_118 (G (None, 1, 1, 64)     0           tf.nn.relu_193[0][0]             \n",
      "__________________________________________________________________________________________________\n",
      "dense_20 (Dense)                (None, 1, 1, 8)      512         global_average_pooling2d_118[0][0\n",
      "__________________________________________________________________________________________________\n",
      "tf.nn.relu_194 (TFOpLambda)     (None, 1, 1, 8)      0           dense_20[0][0]                   \n",
      "__________________________________________________________________________________________________\n",
      "dense_21 (Dense)                (None, 1, 1, 64)     512         tf.nn.relu_194[0][0]             \n",
      "__________________________________________________________________________________________________\n",
      "tf.math.sigmoid_131 (TFOpLambda (None, 1, 1, 64)     0           dense_21[0][0]                   \n",
      "__________________________________________________________________________________________________\n",
      "multiply_82 (Multiply)          (None, 144, 192, 64) 0           tf.nn.relu_193[0][0]             \n",
      "                                                                 tf.math.sigmoid_131[0][0]        \n",
      "__________________________________________________________________________________________________\n",
      "up_sampling2d_71 (UpSampling2D) (None, 288, 384, 64) 0           multiply_82[0][0]                \n",
      "__________________________________________________________________________________________________\n",
      "tf.concat_77 (TFOpLambda)       (None, 288, 384, 160 0           up_sampling2d_71[0][0]           \n",
      "                                                                 block1_conv2[0][0]               \n",
      "                                                                 multiply_76[0][0]                \n",
      "__________________________________________________________________________________________________\n",
      "conv2d_342 (Conv2D)             (None, 288, 384, 32) 46112       tf.concat_77[0][0]               \n",
      "__________________________________________________________________________________________________\n",
      "batch_normalization_148 (BatchN (None, 288, 384, 32) 128         conv2d_342[0][0]                 \n",
      "__________________________________________________________________________________________________\n",
      "tf.nn.relu_195 (TFOpLambda)     (None, 288, 384, 32) 0           batch_normalization_148[0][0]    \n",
      "__________________________________________________________________________________________________\n",
      "conv2d_343 (Conv2D)             (None, 288, 384, 32) 9248        tf.nn.relu_195[0][0]             \n",
      "__________________________________________________________________________________________________\n",
      "batch_normalization_149 (BatchN (None, 288, 384, 32) 128         conv2d_343[0][0]                 \n",
      "__________________________________________________________________________________________________\n",
      "tf.nn.relu_196 (TFOpLambda)     (None, 288, 384, 32) 0           batch_normalization_149[0][0]    \n",
      "__________________________________________________________________________________________________\n",
      "global_average_pooling2d_119 (G (None, 1, 1, 32)     0           tf.nn.relu_196[0][0]             \n",
      "__________________________________________________________________________________________________\n",
      "dense_22 (Dense)                (None, 1, 1, 4)      128         global_average_pooling2d_119[0][0\n",
      "__________________________________________________________________________________________________\n",
      "tf.nn.relu_197 (TFOpLambda)     (None, 1, 1, 4)      0           dense_22[0][0]                   \n",
      "__________________________________________________________________________________________________\n",
      "dense_23 (Dense)                (None, 1, 1, 32)     128         tf.nn.relu_197[0][0]             \n",
      "__________________________________________________________________________________________________\n",
      "tf.math.sigmoid_132 (TFOpLambda (None, 1, 1, 32)     0           dense_23[0][0]                   \n",
      "__________________________________________________________________________________________________\n",
      "multiply_83 (Multiply)          (None, 288, 384, 32) 0           tf.nn.relu_196[0][0]             \n",
      "                                                                 tf.math.sigmoid_132[0][0]        \n",
      "__________________________________________________________________________________________________\n",
      "conv2d_344 (Conv2D)             (None, 288, 384, 1)  33          multiply_83[0][0]                \n",
      "__________________________________________________________________________________________________\n",
      "tf.math.sigmoid_133 (TFOpLambda (None, 288, 384, 1)  0           conv2d_344[0][0]                 \n",
      "__________________________________________________________________________________________________\n",
      "tf.concat_78 (TFOpLambda)       (None, 288, 384, 2)  0           tf.math.sigmoid_124[0][0]        \n",
      "                                                                 tf.math.sigmoid_133[0][0]        \n",
      "==================================================================================================\n",
      "Total params: 29,297,570\n",
      "Trainable params: 29,290,274\n",
      "Non-trainable params: 7,296\n",
      "__________________________________________________________________________________________________\n"
     ]
    }
   ],
   "source": [
    "model = doubleU_net((288, 384, 3))\n",
    "model.summary()"
   ],
   "metadata": {
    "collapsed": false,
    "pycharm": {
     "name": "#%%\n"
    }
   }
  },
  {
   "cell_type": "code",
   "execution_count": 175,
   "outputs": [],
   "source": [
    "def dice_coef(y_true: Tensor, y_pred: Tensor) -> Tensor:\n",
    "    \"\"\"\n",
    "    dice系数计算\n",
    "\n",
    "    :param y_true:\n",
    "    :param y_pred:\n",
    "    :return:\n",
    "    \"\"\"\n",
    "    y_true = Flatten()(y_true)\n",
    "    y_pred = Flatten()(y_pred)\n",
    "    intersection = reduce_sum(y_true * y_pred)\n",
    "    smooth = 1e-5\n",
    "    return (2. * intersection + smooth) / (reduce_sum(y_true) + reduce_sum(y_pred) + smooth)"
   ],
   "metadata": {
    "collapsed": false,
    "pycharm": {
     "name": "#%%\n"
    }
   }
  },
  {
   "cell_type": "code",
   "execution_count": 176,
   "outputs": [],
   "source": [
    "def dice_loss(y_true: Tensor, y_pred: Tensor) -> Tensor:\n",
    "    \"\"\"\n",
    "    dice损失\n",
    "\n",
    "    :param y_true:\n",
    "    :param y_pred:\n",
    "    :return:\n",
    "    \"\"\"\n",
    "    return constant(1.) - dice_coef(y_true, y_pred)"
   ],
   "metadata": {
    "collapsed": false,
    "pycharm": {
     "name": "#%%\n"
    }
   }
  },
  {
   "cell_type": "code",
   "execution_count": 177,
   "outputs": [],
   "source": [
    "def iou(y_ture: Tensor, y_pred: Tensor):\n",
    "    \"\"\"\n",
    "    iou计算\n",
    "\n",
    "    :param y_ture:\n",
    "    :param y_pred:\n",
    "    :return:\n",
    "    \"\"\"\n",
    "    smooth = 1e-5\n",
    "    def temp_f(y_t: np.ndarray, y_p: np.ndarray):\n",
    "        intersection = (y_t * y_p).sum()\n",
    "        union = y_t.sum() + y_p.sum() - intersection\n",
    "        result = (intersection + smooth) / (union + smooth)\n",
    "        return result.astype(np.float32)\n",
    "    return numpy_function(temp_f, [y_ture, y_pred], float32)  # 相当于funtion"
   ],
   "metadata": {
    "collapsed": false,
    "pycharm": {
     "name": "#%%\n"
    }
   }
  },
  {
   "cell_type": "code",
   "execution_count": 178,
   "outputs": [],
   "source": [
    "def read_img(img_path: str) -> np.ndarray:\n",
    "    \"\"\"\n",
    "    读取图片\n",
    "\n",
    "    :param img_path:\n",
    "    :return:\n",
    "    \"\"\"\n",
    "    img_path = img_path.decode()\n",
    "    img = cv2.cvtColor(cv2.imread(img_path, cv2.IMREAD_COLOR), cv2.COLOR_BGR2RGB)\n",
    "    if img.shape != (384, 288, 3):\n",
    "        img = cv2.resize(img, (384, 288))\n",
    "    img = (img / 255.).astype(np.float32)\n",
    "    return img\n",
    "\n",
    "def read_mask(mask_path: str) -> np.ndarray:\n",
    "    \"\"\"\n",
    "    读取掩码图片\n",
    "\n",
    "    :param mask_path:\n",
    "    :return:\n",
    "    \"\"\"\n",
    "    mask_path = mask_path.decode()\n",
    "    mask = cv2.imread(mask_path, cv2.IMREAD_GRAYSCALE)\n",
    "    if mask.shape != (384, 288):\n",
    "        mask = cv2.resize(mask, (384, 288))\n",
    "    mask = (mask / 255.).astype(np.float32)\n",
    "    mask = np.expand_dims(mask, axis=-1)\n",
    "    return mask\n",
    "\n",
    "def deal_img_mask(img_path: str, mask_path: str) -> Tuple[Tensor, Tensor]:\n",
    "    def _deal(i: str, m: str):\n",
    "        i = read_img(i)\n",
    "        m = read_mask(m)\n",
    "        m = np.concatenate([m, m], axis=-1)\n",
    "        return i, m\n",
    "    img, mask = numpy_function(_deal, [img_path, mask_path], [float32, float32])\n",
    "    img.set_shape([288, 384, 3])\n",
    "    mask.set_shape([288, 384, 2])\n",
    "    return img, mask\n",
    "\n",
    "def get_dataset(img_list: List[str], mask_list: List[str], batch: int=8):\n",
    "    dataset = data.Dataset.from_tensor_slices((img_list, mask_list))\n",
    "    dataset = dataset.shuffle(buffer_size=32)\n",
    "    dataset = dataset.map(map_func=deal_img_mask, num_parallel_calls=2)\n",
    "    dataset = dataset.repeat()\n",
    "    dataset = dataset.batch(batch)\n",
    "    return dataset\n"
   ],
   "metadata": {
    "collapsed": false,
    "pycharm": {
     "name": "#%%\n"
    }
   }
  },
  {
   "cell_type": "code",
   "execution_count": 179,
   "outputs": [],
   "source": [
    "def get_path_list(img_path: str, mask_path: str):\n",
    "    def _get_path_list(path: str):\n",
    "        temp = Path(path)\n",
    "        temp = [i for i in temp.glob('*.*')]\n",
    "        temp.sort(key=lambda x: x.stem)\n",
    "        return [str(i) for i in temp]\n",
    "    return shuffle(_get_path_list(img_path), _get_path_list(mask_path), random_state=42)\n",
    "\n",
    "# a, b = get_path_list('data/test/x', \"data/test/y\")\n",
    "# print(a, b)"
   ],
   "metadata": {
    "collapsed": false,
    "pycharm": {
     "name": "#%%\n"
    }
   }
  },
  {
   "cell_type": "code",
   "execution_count": 180,
   "outputs": [],
   "source": [
    "# a = cv2.cvtColor(cv2.imread(\"PNG/Original/1.png\", cv2.IMREAD_COLOR), cv2.COLOR_BGR2RGB)\n",
    "# print(a.shape)\n",
    "# b = cv2.imread(\"PNG/Ground Truth/1.png\", cv2.IMREAD_GRAYSCALE)\n",
    "# print(b.shape)\n",
    "# _ = plt.figure()\n",
    "# plt.subplot(2, 1, 1)\n",
    "# plt.imshow(a)\n",
    "# plt.subplot(2, 1, 2)\n",
    "# plt.imshow(b)\n",
    "# plt.show()"
   ],
   "metadata": {
    "collapsed": false,
    "pycharm": {
     "name": "#%%\n"
    }
   }
  },
  {
   "cell_type": "code",
   "execution_count": 181,
   "outputs": [],
   "source": [
    "callbacks = [\n",
    "    ModelCheckpoint(\"model_check_point/weights_{epoch:03d}-{val_loss:.4f}.h5\", save_weights_only=True),\n",
    "    ReduceLROnPlateau(monitor='val_loss', factor=0.1, patience=20),\n",
    "    CSVLogger(\"csv_log/data.csv\"),\n",
    "    EarlyStopping(monitor='val_loss', patience=50, restore_best_weights=False)\n",
    "    ]"
   ],
   "metadata": {
    "collapsed": false,
    "pycharm": {
     "name": "#%%\n"
    }
   }
  },
  {
   "cell_type": "code",
   "execution_count": 182,
   "outputs": [],
   "source": [
    "batch_size = 2\n",
    "epochs = 300\n",
    "lr = 1e-5\n",
    "metrics = [dice_coef,\n",
    "           iou,\n",
    "           Recall(),\n",
    "           Precision()]"
   ],
   "metadata": {
    "collapsed": false,
    "pycharm": {
     "name": "#%%\n"
    }
   }
  },
  {
   "cell_type": "code",
   "execution_count": 183,
   "outputs": [],
   "source": [
    "train_x, train_y = get_path_list(\"data/train/x\", \"data/train/y\")\n",
    "valid_x, valid_y = get_path_list(\"data/valid/x\", \"data/valid/y\")\n",
    "train_dataset = get_dataset(train_x, train_y, batch=batch_size)\n",
    "valid_dataset = get_dataset(valid_x, valid_y, batch=batch_size)"
   ],
   "metadata": {
    "collapsed": false,
    "pycharm": {
     "name": "#%%\n"
    }
   }
  },
  {
   "cell_type": "code",
   "execution_count": 184,
   "outputs": [],
   "source": [
    "model.compile(loss=BinaryCrossentropy(), optimizer=Nadam(learning_rate=lr), metrics=metrics)"
   ],
   "metadata": {
    "collapsed": false,
    "pycharm": {
     "name": "#%%\n"
    }
   }
  },
  {
   "cell_type": "code",
   "execution_count": 185,
   "outputs": [],
   "source": [
    "train_steps = (len(train_x) // batch_size)\n",
    "valid_steps = (len(valid_x) // batch_size)"
   ],
   "metadata": {
    "collapsed": false,
    "pycharm": {
     "name": "#%%\n"
    }
   }
  },
  {
   "cell_type": "code",
   "execution_count": 186,
   "outputs": [],
   "source": [
    "if len(train_x) % batch_size != 0:\n",
    "    train_steps += 1\n",
    "\n",
    "if len(valid_x) % batch_size != 0:\n",
    "    valid_steps += 1"
   ],
   "metadata": {
    "collapsed": false,
    "pycharm": {
     "name": "#%%\n"
    }
   }
  },
  {
   "cell_type": "code",
   "execution_count": 187,
   "outputs": [
    {
     "name": "stdout",
     "output_type": "stream",
     "text": [
      "Epoch 1/300\n",
      "  10/6600 [..............................] - ETA: 1:03:38 - loss: 0.6717 - dice_coef: 0.1215 - iou: 0.0651 - recall_6: 0.2243 - precision_6: 0.0518"
     ]
    },
    {
     "ename": "KeyboardInterrupt",
     "evalue": "",
     "output_type": "error",
     "traceback": [
      "\u001B[1;31m---------------------------------------------------------------------------\u001B[0m",
      "\u001B[1;31mKeyboardInterrupt\u001B[0m                         Traceback (most recent call last)",
      "\u001B[1;32m~\\AppData\\Local\\Temp/ipykernel_12796/3761298003.py\u001B[0m in \u001B[0;36m<module>\u001B[1;34m\u001B[0m\n\u001B[1;32m----> 1\u001B[1;33m history = model.fit(train_dataset,\n\u001B[0m\u001B[0;32m      2\u001B[0m                     \u001B[0mepochs\u001B[0m\u001B[1;33m=\u001B[0m\u001B[0mepochs\u001B[0m\u001B[1;33m,\u001B[0m\u001B[1;33m\u001B[0m\u001B[1;33m\u001B[0m\u001B[0m\n\u001B[0;32m      3\u001B[0m                     \u001B[0mvalidation_data\u001B[0m\u001B[1;33m=\u001B[0m\u001B[0mvalid_dataset\u001B[0m\u001B[1;33m,\u001B[0m\u001B[1;33m\u001B[0m\u001B[1;33m\u001B[0m\u001B[0m\n\u001B[0;32m      4\u001B[0m                     \u001B[0msteps_per_epoch\u001B[0m\u001B[1;33m=\u001B[0m\u001B[0mtrain_steps\u001B[0m\u001B[1;33m,\u001B[0m\u001B[1;33m\u001B[0m\u001B[1;33m\u001B[0m\u001B[0m\n\u001B[0;32m      5\u001B[0m                     \u001B[0mvalidation_steps\u001B[0m\u001B[1;33m=\u001B[0m\u001B[0mvalid_steps\u001B[0m\u001B[1;33m,\u001B[0m\u001B[1;33m\u001B[0m\u001B[1;33m\u001B[0m\u001B[0m\n",
      "\u001B[1;32md:\\vnv\\lib\\site-packages\\keras\\engine\\training.py\u001B[0m in \u001B[0;36mfit\u001B[1;34m(self, x, y, batch_size, epochs, verbose, callbacks, validation_split, validation_data, shuffle, class_weight, sample_weight, initial_epoch, steps_per_epoch, validation_steps, validation_batch_size, validation_freq, max_queue_size, workers, use_multiprocessing)\u001B[0m\n\u001B[0;32m   1182\u001B[0m                 _r=1):\n\u001B[0;32m   1183\u001B[0m               \u001B[0mcallbacks\u001B[0m\u001B[1;33m.\u001B[0m\u001B[0mon_train_batch_begin\u001B[0m\u001B[1;33m(\u001B[0m\u001B[0mstep\u001B[0m\u001B[1;33m)\u001B[0m\u001B[1;33m\u001B[0m\u001B[1;33m\u001B[0m\u001B[0m\n\u001B[1;32m-> 1184\u001B[1;33m               \u001B[0mtmp_logs\u001B[0m \u001B[1;33m=\u001B[0m \u001B[0mself\u001B[0m\u001B[1;33m.\u001B[0m\u001B[0mtrain_function\u001B[0m\u001B[1;33m(\u001B[0m\u001B[0miterator\u001B[0m\u001B[1;33m)\u001B[0m\u001B[1;33m\u001B[0m\u001B[1;33m\u001B[0m\u001B[0m\n\u001B[0m\u001B[0;32m   1185\u001B[0m               \u001B[1;32mif\u001B[0m \u001B[0mdata_handler\u001B[0m\u001B[1;33m.\u001B[0m\u001B[0mshould_sync\u001B[0m\u001B[1;33m:\u001B[0m\u001B[1;33m\u001B[0m\u001B[1;33m\u001B[0m\u001B[0m\n\u001B[0;32m   1186\u001B[0m                 \u001B[0mcontext\u001B[0m\u001B[1;33m.\u001B[0m\u001B[0masync_wait\u001B[0m\u001B[1;33m(\u001B[0m\u001B[1;33m)\u001B[0m\u001B[1;33m\u001B[0m\u001B[1;33m\u001B[0m\u001B[0m\n",
      "\u001B[1;32md:\\vnv\\lib\\site-packages\\tensorflow\\python\\eager\\def_function.py\u001B[0m in \u001B[0;36m__call__\u001B[1;34m(self, *args, **kwds)\u001B[0m\n\u001B[0;32m    883\u001B[0m \u001B[1;33m\u001B[0m\u001B[0m\n\u001B[0;32m    884\u001B[0m       \u001B[1;32mwith\u001B[0m \u001B[0mOptionalXlaContext\u001B[0m\u001B[1;33m(\u001B[0m\u001B[0mself\u001B[0m\u001B[1;33m.\u001B[0m\u001B[0m_jit_compile\u001B[0m\u001B[1;33m)\u001B[0m\u001B[1;33m:\u001B[0m\u001B[1;33m\u001B[0m\u001B[1;33m\u001B[0m\u001B[0m\n\u001B[1;32m--> 885\u001B[1;33m         \u001B[0mresult\u001B[0m \u001B[1;33m=\u001B[0m \u001B[0mself\u001B[0m\u001B[1;33m.\u001B[0m\u001B[0m_call\u001B[0m\u001B[1;33m(\u001B[0m\u001B[1;33m*\u001B[0m\u001B[0margs\u001B[0m\u001B[1;33m,\u001B[0m \u001B[1;33m**\u001B[0m\u001B[0mkwds\u001B[0m\u001B[1;33m)\u001B[0m\u001B[1;33m\u001B[0m\u001B[1;33m\u001B[0m\u001B[0m\n\u001B[0m\u001B[0;32m    886\u001B[0m \u001B[1;33m\u001B[0m\u001B[0m\n\u001B[0;32m    887\u001B[0m       \u001B[0mnew_tracing_count\u001B[0m \u001B[1;33m=\u001B[0m \u001B[0mself\u001B[0m\u001B[1;33m.\u001B[0m\u001B[0mexperimental_get_tracing_count\u001B[0m\u001B[1;33m(\u001B[0m\u001B[1;33m)\u001B[0m\u001B[1;33m\u001B[0m\u001B[1;33m\u001B[0m\u001B[0m\n",
      "\u001B[1;32md:\\vnv\\lib\\site-packages\\tensorflow\\python\\eager\\def_function.py\u001B[0m in \u001B[0;36m_call\u001B[1;34m(self, *args, **kwds)\u001B[0m\n\u001B[0;32m    915\u001B[0m       \u001B[1;31m# In this case we have created variables on the first call, so we run the\u001B[0m\u001B[1;33m\u001B[0m\u001B[1;33m\u001B[0m\u001B[0m\n\u001B[0;32m    916\u001B[0m       \u001B[1;31m# defunned version which is guaranteed to never create variables.\u001B[0m\u001B[1;33m\u001B[0m\u001B[1;33m\u001B[0m\u001B[0m\n\u001B[1;32m--> 917\u001B[1;33m       \u001B[1;32mreturn\u001B[0m \u001B[0mself\u001B[0m\u001B[1;33m.\u001B[0m\u001B[0m_stateless_fn\u001B[0m\u001B[1;33m(\u001B[0m\u001B[1;33m*\u001B[0m\u001B[0margs\u001B[0m\u001B[1;33m,\u001B[0m \u001B[1;33m**\u001B[0m\u001B[0mkwds\u001B[0m\u001B[1;33m)\u001B[0m  \u001B[1;31m# pylint: disable=not-callable\u001B[0m\u001B[1;33m\u001B[0m\u001B[1;33m\u001B[0m\u001B[0m\n\u001B[0m\u001B[0;32m    918\u001B[0m     \u001B[1;32melif\u001B[0m \u001B[0mself\u001B[0m\u001B[1;33m.\u001B[0m\u001B[0m_stateful_fn\u001B[0m \u001B[1;32mis\u001B[0m \u001B[1;32mnot\u001B[0m \u001B[1;32mNone\u001B[0m\u001B[1;33m:\u001B[0m\u001B[1;33m\u001B[0m\u001B[1;33m\u001B[0m\u001B[0m\n\u001B[0;32m    919\u001B[0m       \u001B[1;31m# Release the lock early so that multiple threads can perform the call\u001B[0m\u001B[1;33m\u001B[0m\u001B[1;33m\u001B[0m\u001B[0m\n",
      "\u001B[1;32md:\\vnv\\lib\\site-packages\\tensorflow\\python\\eager\\function.py\u001B[0m in \u001B[0;36m__call__\u001B[1;34m(self, *args, **kwargs)\u001B[0m\n\u001B[0;32m   3037\u001B[0m       (graph_function,\n\u001B[0;32m   3038\u001B[0m        filtered_flat_args) = self._maybe_define_function(args, kwargs)\n\u001B[1;32m-> 3039\u001B[1;33m     return graph_function._call_flat(\n\u001B[0m\u001B[0;32m   3040\u001B[0m         filtered_flat_args, captured_inputs=graph_function.captured_inputs)  # pylint: disable=protected-access\n\u001B[0;32m   3041\u001B[0m \u001B[1;33m\u001B[0m\u001B[0m\n",
      "\u001B[1;32md:\\vnv\\lib\\site-packages\\tensorflow\\python\\eager\\function.py\u001B[0m in \u001B[0;36m_call_flat\u001B[1;34m(self, args, captured_inputs, cancellation_manager)\u001B[0m\n\u001B[0;32m   1961\u001B[0m         and executing_eagerly):\n\u001B[0;32m   1962\u001B[0m       \u001B[1;31m# No tape is watching; skip to running the function.\u001B[0m\u001B[1;33m\u001B[0m\u001B[1;33m\u001B[0m\u001B[0m\n\u001B[1;32m-> 1963\u001B[1;33m       return self._build_call_outputs(self._inference_function.call(\n\u001B[0m\u001B[0;32m   1964\u001B[0m           ctx, args, cancellation_manager=cancellation_manager))\n\u001B[0;32m   1965\u001B[0m     forward_backward = self._select_forward_and_backward_functions(\n",
      "\u001B[1;32md:\\vnv\\lib\\site-packages\\tensorflow\\python\\eager\\function.py\u001B[0m in \u001B[0;36mcall\u001B[1;34m(self, ctx, args, cancellation_manager)\u001B[0m\n\u001B[0;32m    589\u001B[0m       \u001B[1;32mwith\u001B[0m \u001B[0m_InterpolateFunctionError\u001B[0m\u001B[1;33m(\u001B[0m\u001B[0mself\u001B[0m\u001B[1;33m)\u001B[0m\u001B[1;33m:\u001B[0m\u001B[1;33m\u001B[0m\u001B[1;33m\u001B[0m\u001B[0m\n\u001B[0;32m    590\u001B[0m         \u001B[1;32mif\u001B[0m \u001B[0mcancellation_manager\u001B[0m \u001B[1;32mis\u001B[0m \u001B[1;32mNone\u001B[0m\u001B[1;33m:\u001B[0m\u001B[1;33m\u001B[0m\u001B[1;33m\u001B[0m\u001B[0m\n\u001B[1;32m--> 591\u001B[1;33m           outputs = execute.execute(\n\u001B[0m\u001B[0;32m    592\u001B[0m               \u001B[0mstr\u001B[0m\u001B[1;33m(\u001B[0m\u001B[0mself\u001B[0m\u001B[1;33m.\u001B[0m\u001B[0msignature\u001B[0m\u001B[1;33m.\u001B[0m\u001B[0mname\u001B[0m\u001B[1;33m)\u001B[0m\u001B[1;33m,\u001B[0m\u001B[1;33m\u001B[0m\u001B[1;33m\u001B[0m\u001B[0m\n\u001B[0;32m    593\u001B[0m               \u001B[0mnum_outputs\u001B[0m\u001B[1;33m=\u001B[0m\u001B[0mself\u001B[0m\u001B[1;33m.\u001B[0m\u001B[0m_num_outputs\u001B[0m\u001B[1;33m,\u001B[0m\u001B[1;33m\u001B[0m\u001B[1;33m\u001B[0m\u001B[0m\n",
      "\u001B[1;32md:\\vnv\\lib\\site-packages\\tensorflow\\python\\eager\\execute.py\u001B[0m in \u001B[0;36mquick_execute\u001B[1;34m(op_name, num_outputs, inputs, attrs, ctx, name)\u001B[0m\n\u001B[0;32m     57\u001B[0m   \u001B[1;32mtry\u001B[0m\u001B[1;33m:\u001B[0m\u001B[1;33m\u001B[0m\u001B[1;33m\u001B[0m\u001B[0m\n\u001B[0;32m     58\u001B[0m     \u001B[0mctx\u001B[0m\u001B[1;33m.\u001B[0m\u001B[0mensure_initialized\u001B[0m\u001B[1;33m(\u001B[0m\u001B[1;33m)\u001B[0m\u001B[1;33m\u001B[0m\u001B[1;33m\u001B[0m\u001B[0m\n\u001B[1;32m---> 59\u001B[1;33m     tensors = pywrap_tfe.TFE_Py_Execute(ctx._handle, device_name, op_name,\n\u001B[0m\u001B[0;32m     60\u001B[0m                                         inputs, attrs, num_outputs)\n\u001B[0;32m     61\u001B[0m   \u001B[1;32mexcept\u001B[0m \u001B[0mcore\u001B[0m\u001B[1;33m.\u001B[0m\u001B[0m_NotOkStatusException\u001B[0m \u001B[1;32mas\u001B[0m \u001B[0me\u001B[0m\u001B[1;33m:\u001B[0m\u001B[1;33m\u001B[0m\u001B[1;33m\u001B[0m\u001B[0m\n",
      "\u001B[1;31mKeyboardInterrupt\u001B[0m: "
     ]
    }
   ],
   "source": [
    "history = model.fit(train_dataset,\n",
    "                    epochs=epochs,\n",
    "                    validation_data=valid_dataset,\n",
    "                    steps_per_epoch=train_steps,\n",
    "                    validation_steps=valid_steps,\n",
    "                    callbacks=callbacks,\n",
    "                    shuffle=False)\n"
   ],
   "metadata": {
    "collapsed": false,
    "pycharm": {
     "name": "#%%\n"
    }
   }
  },
  {
   "cell_type": "code",
   "execution_count": null,
   "outputs": [],
   "source": [
    "def show_history(model_history: History, save_pic: str=None):\n",
    "    plt.style.use(\"ggplot\")\n",
    "    plt.rcParams[\"figure.figsize\"] = (14.0, 14.0)\n",
    "    _ = plt.figure()\n",
    "    for i in model_history.history.keys():\n",
    "        plt.plot(np.arange(0, 300), model_history.history[i], label=i)\n",
    "    plt.title(\"loss|miou|iou|recall|precision\")\n",
    "    plt.xlabel(\"Epoch #\")\n",
    "    plt.ylabel(\"Loss/Miou/Iou/Recall/Precision\")\n",
    "    plt.legend()\n",
    "\n",
    "    if save_pic:\n",
    "        plt.savefig(save_pic)\n",
    "    plt.show()"
   ],
   "metadata": {
    "collapsed": false,
    "pycharm": {
     "name": "#%%\n"
    }
   }
  },
  {
   "cell_type": "code",
   "execution_count": null,
   "outputs": [],
   "source": [
    "show_history(model_history=history, save_pic='test.jpg')"
   ],
   "metadata": {
    "collapsed": false,
    "pycharm": {
     "name": "#%%\n"
    }
   }
  },
  {
   "cell_type": "code",
   "execution_count": null,
   "outputs": [],
   "source": [
    "a = cv2.cvtColor(cv2.imread('test/Original/1.tif'), cv2.COLOR_BGR2RGB)\n",
    "plt.figure()\n",
    "plt.axis(\"off\")\n",
    "plt.imshow(a)\n",
    "plt.show()"
   ],
   "metadata": {
    "collapsed": false,
    "pycharm": {
     "name": "#%%\n"
    }
   }
  },
  {
   "cell_type": "code",
   "execution_count": null,
   "outputs": [],
   "source": [
    "# def change_file_name(file_path: str):\n",
    "#     def change(name: Path):\n",
    "#         temp_parent = name.parent\n",
    "#         temp_suffix = name.suffix\n",
    "#         temp_name = name.stem.replace(\"p\", '')\n",
    "#         name.rename(rf\"{temp_parent}\\{temp_name}{temp_suffix}\")\n",
    "#     return map(change, Path(file_path).glob('*.*'))\n",
    "#\n",
    "# _ = [i for i in change_file_name(\"test/Ground Truth\")]\n",
    "\n",
    "test_x, test_y = get_path_list(\"data/test/x\", \"data/test/y\")\n",
    "test_dataset = get_dataset(test_x, test_y, batch=batch_size)"
   ],
   "metadata": {
    "collapsed": false,
    "pycharm": {
     "name": "#%%\n"
    }
   }
  },
  {
   "cell_type": "code",
   "execution_count": null,
   "outputs": [],
   "source": [
    "test_steps = (len(test_x) // batch_size)\n",
    "\n",
    "if len(test_x) % batch_size != 0:\n",
    "    test_steps += 1\n",
    "\n",
    "h = model.evaluate(test_dataset, steps=test_steps)"
   ],
   "metadata": {
    "collapsed": false,
    "pycharm": {
     "name": "#%%\n"
    }
   }
  },
  {
   "cell_type": "code",
   "execution_count": null,
   "outputs": [],
   "source": [
    "print(h)"
   ],
   "metadata": {
    "collapsed": false,
    "pycharm": {
     "name": "#%%\n"
    }
   }
  },
  {
   "cell_type": "code",
   "execution_count": null,
   "outputs": [],
   "source": [
    "new_model = load_model(\"CVC-612model.h5\", custom_objects={'dice_coef': dice_coef,\n",
    "                                                          'iou': iou})\n",
    "new_model.summary()"
   ],
   "metadata": {
    "collapsed": false,
    "pycharm": {
     "name": "#%%\n"
    }
   }
  },
  {
   "cell_type": "code",
   "execution_count": null,
   "outputs": [],
   "source": [
    "def __read_img(img_path: str) -> np.ndarray:\n",
    "    \"\"\"\n",
    "    读取图片\n",
    "\n",
    "    :param img_path:\n",
    "    :return:\n",
    "    \"\"\"\n",
    "    img_path = img_path.decode()\n",
    "    img = cv2.cvtColor(cv2.imread(img_path, cv2.IMREAD_COLOR), cv2.COLOR_BGR2RGB)\n",
    "    if img.shape != (384, 288, 3):\n",
    "        img = cv2.resize(img, (384, 288))\n",
    "    img = (img / 255.).astype(np.float32)\n",
    "    return img\n",
    "\n",
    "def __read_mask(mask_path: str) -> np.ndarray:\n",
    "    \"\"\"\n",
    "    读取掩码图片\n",
    "\n",
    "    :param mask_path:\n",
    "    :return:\n",
    "    \"\"\"\n",
    "    mask_path = mask_path.decode()\n",
    "    mask = cv2.imread(mask_path, cv2.IMREAD_GRAYSCALE)\n",
    "    if mask.shape != (384, 288):\n",
    "        mask = cv2.resize(mask, (384, 288))\n",
    "    mask = (mask / 255.).astype(np.float32)\n",
    "    mask = np.expand_dims(mask, axis=-1)\n",
    "    return mask\n",
    "def __deal_img_mask(img_path: str, mask_path: str) -> Tuple[Tensor, Tensor]:\n",
    "    def _deal(i: str, m: str):\n",
    "        i = __read_img(i)\n",
    "        m = __read_mask(m)\n",
    "        m = np.concatenate([m, m], axis=-1)\n",
    "        return i, m\n",
    "    img, mask = numpy_function(_deal, [img_path, mask_path], [float32, float32])\n",
    "    img.set_shape([288, 384, 3])\n",
    "    mask.set_shape([288, 384, 2])\n",
    "    return img, mask\n",
    "\n",
    "def __get_dataset(img_list: List[str], mask_list: List[str], batch: int=8):\n",
    "    dataset = data.Dataset.from_tensor_slices((img_list, mask_list))\n",
    "    dataset = dataset.shuffle(buffer_size=32)\n",
    "    dataset = dataset.map(map_func=__deal_img_mask, num_parallel_calls=2)\n",
    "    dataset = dataset.repeat()\n",
    "    dataset = dataset.batch(batch)\n",
    "    return dataset\n"
   ],
   "metadata": {
    "collapsed": false,
    "pycharm": {
     "name": "#%%\n"
    }
   }
  },
  {
   "cell_type": "code",
   "execution_count": null,
   "outputs": [],
   "source": [
    "test_x, test_y = get_path_list(\"data/test/x\", \"data/test/y\")\n",
    "test_dataset = __get_dataset(test_x, test_y, batch=16)"
   ],
   "metadata": {
    "collapsed": false,
    "pycharm": {
     "name": "#%%\n"
    }
   }
  },
  {
   "cell_type": "code",
   "execution_count": null,
   "outputs": [],
   "source": [
    "test_steps = (len(test_x) // 16)\n",
    "\n",
    "if len(test_x) % 16 != 0:\n",
    "    test_steps += 1\n",
    "\n",
    "h = new_model.evaluate(test_dataset, steps=test_steps)"
   ],
   "metadata": {
    "collapsed": false,
    "pycharm": {
     "name": "#%%\n"
    }
   }
  }
 ],
 "metadata": {
  "kernelspec": {
   "display_name": "Python 3",
   "language": "python",
   "name": "python3"
  },
  "language_info": {
   "codemirror_mode": {
    "name": "ipython",
    "version": 2
   },
   "file_extension": ".py",
   "mimetype": "text/x-python",
   "name": "python",
   "nbconvert_exporter": "python",
   "pygments_lexer": "ipython2",
   "version": "2.7.6"
  }
 },
 "nbformat": 4,
 "nbformat_minor": 0
}