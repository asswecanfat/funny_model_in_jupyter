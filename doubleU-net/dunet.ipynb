{
 "cells": [
  {
   "cell_type": "code",
   "execution_count": 25,
   "metadata": {
    "collapsed": true
   },
   "outputs": [],
   "source": [
    "import numpy as np\n",
    "import cv2\n",
    "import matplotlib.pyplot as plt\n",
    "\n",
    "from pathlib import Path\n",
    "from typing import List, Tuple\n",
    "from tensorflow import Tensor, random, reduce_sum, constant, numpy_function, float32, data, Variable, transpose\n",
    "from tensorflow.keras.layers import Dense, Multiply, Conv2D, GlobalAveragePooling2D, BatchNormalization, UpSampling2D, Input, MaxPooling2D, AveragePooling2D, Flatten, Layer, Conv1D, Reshape\n",
    "from tensorflow.keras.models import Model, load_model\n",
    "from tensorflow.keras.backend import relu, sigmoid, concatenate, reshape\n",
    "from tensorflow.keras.applications import VGG19\n",
    "from tensorflow.keras.optimizers import Nadam\n",
    "from tensorflow.keras.losses import BinaryCrossentropy\n",
    "from tensorflow.keras.callbacks import History\n",
    "from sklearn.utils import shuffle\n",
    "from tensorflow.keras.metrics import Recall, Precision\n",
    "from tensorflow.keras.callbacks import ModelCheckpoint, ReduceLROnPlateau, TensorBoard, EarlyStopping, CSVLogger"
   ]
  },
  {
   "cell_type": "code",
   "execution_count": 26,
   "outputs": [],
   "source": [
    "class Select_Layer(Layer):\n",
    "    def __init__(self):\n",
    "        super(Select_Layer, self).__init__()\n",
    "        self.weight = Variable(random.uniform([1], 0, 1), trainable=True, name=\"se-W\")\n",
    "\n",
    "    def call(self, inputs, *args, **kwargs):\n",
    "        return inputs[0] * self.weight + (1. - self.weight) * inputs[1]\n",
    "\n",
    "def channel_shuffle(input_tensor: Tensor, group_num: int = 2) -> Tensor:\n",
    "    \"\"\"\n",
    "    参考：https://blog.csdn.net/baidu_23388287/article/details/94456951\n",
    "         https://blog.csdn.net/qq_36758914/article/details/106967780\n",
    "\n",
    "    :param input_tensor: 输入特征图数据\n",
    "    :param group_num: 分组\n",
    "    :return:\n",
    "    \"\"\"\n",
    "    batch_size, h, w, channel = input_tensor.get_shape()\n",
    "    # 注意下面的//一定要整除\n",
    "    input_reshaped = reshape(input_tensor, [-1, h, w, group_num, channel // group_num])\n",
    "    input_transpose = transpose(input_reshaped, [0, 1, 2, 4, 3])\n",
    "    return reshape(input_transpose, [-1, h, w, channel])\n",
    "\n",
    "\n",
    "def sECA_block(inputs: Tensor) -> Tensor:\n",
    "    y1 = GlobalAveragePooling2D(keepdims=True)(inputs)\n",
    "    y1 = channel_shuffle(y1)\n",
    "    y1 = Conv1D(filters=y1.shape[-1], kernel_size=3, padding=\"same\")(y1)\n",
    "    y1 = sigmoid(y1)\n",
    "\n",
    "    y2 = GlobalAveragePooling2D(keepdims=True)(inputs)\n",
    "    y2 = Conv1D(filters=y2.shape[-1], kernel_size=3, padding=\"same\")(y2)\n",
    "    y2 = sigmoid(y2)\n",
    "\n",
    "    se = Select_Layer()((y1, y2))\n",
    "    return Multiply()([inputs, se])\n",
    "\n",
    "def squeeze_excite_block(inputs: Tensor, ratio: int=8) -> Tensor:\n",
    "    \"\"\"\n",
    "    input默认为最后一个\n",
    "\n",
    "    :param inputs: 输入数据\n",
    "    :param ratio: 缩放系数，此处大于0使用除法\n",
    "    :return: 返回与输入数据相乘后的数据\n",
    "    \"\"\"\n",
    "    filters = inputs.shape[-1]\n",
    "    se = GlobalAveragePooling2D(keepdims=True)(inputs)\n",
    "    se = Dense(filters // ratio, kernel_initializer=\"he_normal\", use_bias=False)(se)\n",
    "    se = relu(se)\n",
    "    se = Dense(filters, kernel_initializer=\"he_normal\", use_bias=False)(se)\n",
    "    se = sigmoid(se)\n",
    "\n",
    "    return Multiply()([inputs, se])"
   ],
   "metadata": {
    "collapsed": false,
    "pycharm": {
     "name": "#%%\n"
    }
   }
  },
  {
   "cell_type": "code",
   "execution_count": 27,
   "outputs": [],
   "source": [
    "def conv_block(inputs: Tensor, filters: int) -> Tensor:\n",
    "    \"\"\"\n",
    "    混合se块的卷积块\n",
    "\n",
    "    :param inputs: 输入数据\n",
    "    :param filters: 需要的维度\n",
    "    :return: 数据\n",
    "    \"\"\"\n",
    "    x = Conv2D(filters=filters, kernel_size=(3, 3), padding=\"same\")(inputs)\n",
    "    x = BatchNormalization()(x)\n",
    "    x = relu(x)\n",
    "\n",
    "    x = Conv2D(filters=filters, kernel_size=(3, 3), padding=\"same\")(x)\n",
    "    x = BatchNormalization()(x)\n",
    "    x = relu(x)\n",
    "\n",
    "    return sECA_block(x)  # squeeze_excite_block(x)"
   ],
   "metadata": {
    "collapsed": false,
    "pycharm": {
     "name": "#%%\n"
    }
   }
  },
  {
   "cell_type": "code",
   "execution_count": 28,
   "outputs": [],
   "source": [
    "def encoder_1(inputs: Tensor) -> Tuple[Tensor, List[Tensor]]:\n",
    "    \"\"\"\n",
    "    第一个U-net的编码器\n",
    "\n",
    "    :param inputs: 输入数据\n",
    "    :return: vgg19各个层的输出\n",
    "    \"\"\"\n",
    "    skip_connections = []\n",
    "    vgg19_model = VGG19(include_top=False, input_tensor=inputs)  # weights为默认\n",
    "    vgg19_layers_name = [\"block1_conv2\",\n",
    "                         \"block2_conv2\",\n",
    "                         \"block3_conv4\",\n",
    "                         \"block4_conv4\"]\n",
    "    for layer_name in vgg19_layers_name:\n",
    "        skip_connections.append(vgg19_model.get_layer(layer_name).output)\n",
    "    final_outputs = vgg19_model.get_layer(\"block5_conv4\").output\n",
    "    return final_outputs, skip_connections"
   ],
   "metadata": {
    "collapsed": false,
    "pycharm": {
     "name": "#%%\n"
    }
   }
  },
  {
   "cell_type": "code",
   "execution_count": 29,
   "outputs": [],
   "source": [
    "def decoder_1(inputs: Tensor, skip_connections: List[Tensor]) -> Tensor:\n",
    "    \"\"\"\n",
    "    第一个U-net的解码器\n",
    "\n",
    "    :param inputs: 输入数据\n",
    "    :param skip_connections: 跳跃连接层\n",
    "    :return: 输出数据\n",
    "    \"\"\"\n",
    "    filters_num = [256, 128, 64, 32]\n",
    "    skip_connections.reverse()\n",
    "    x = inputs\n",
    "    for num, filters in enumerate(filters_num):\n",
    "        x = UpSampling2D(interpolation=\"bilinear\")(x)  # size为默认\n",
    "        x = concatenate((x, skip_connections[num]))\n",
    "        x = conv_block(x, filters)\n",
    "    return x"
   ],
   "metadata": {
    "collapsed": false,
    "pycharm": {
     "name": "#%%\n"
    }
   }
  },
  {
   "cell_type": "code",
   "execution_count": 30,
   "outputs": [],
   "source": [
    "def encoder_2(inputs: Tensor) -> Tuple[Tensor, List[Tensor]]:\n",
    "    \"\"\"\n",
    "    第二个U-net的编码器\n",
    "\n",
    "    :param inputs: 输入数据\n",
    "    :return: 各层输出数据\n",
    "    \"\"\"\n",
    "    filers_num = [32, 64, 128, 256]\n",
    "    skip_connection = []\n",
    "    x = inputs\n",
    "\n",
    "    for num, filters in enumerate(filers_num):\n",
    "        x = conv_block(x, filters)\n",
    "        skip_connection.append(x)\n",
    "        x = MaxPooling2D()(x)  # pool_size默认\n",
    "    return x, skip_connection"
   ],
   "metadata": {
    "collapsed": false,
    "pycharm": {
     "name": "#%%\n"
    }
   }
  },
  {
   "cell_type": "code",
   "execution_count": 31,
   "outputs": [],
   "source": [
    "def decoder_2(inputs: Tensor,\n",
    "              skip_connection_1: List[Tensor],\n",
    "              skip_connection_2: List[Tensor]) -> Tensor:\n",
    "    \"\"\"\n",
    "    第二个U-net的解码器\n",
    "\n",
    "    :param inputs: 输入数据\n",
    "    :param skip_connection_1: 第一个U-net的跳跃连接\n",
    "    :param skip_connection_2: 第二个U-net的跳跃连接\n",
    "    :return: 输出数据\n",
    "    \"\"\"\n",
    "    filters_num = [256, 128, 64, 32]\n",
    "    skip_connection_2.reverse()\n",
    "    x = inputs\n",
    "\n",
    "    for num, filters in enumerate(filters_num):\n",
    "        x = UpSampling2D(interpolation=\"bilinear\")(x)  # size为默认\n",
    "        x = concatenate((x, skip_connection_1[num], skip_connection_2[num]))\n",
    "        x = conv_block(x, filters)\n",
    "    return x"
   ],
   "metadata": {
    "collapsed": false,
    "pycharm": {
     "name": "#%%\n"
    }
   }
  },
  {
   "cell_type": "code",
   "execution_count": 32,
   "outputs": [],
   "source": [
    "def output_block(inputs: Tensor) -> Tensor:\n",
    "    \"\"\"\n",
    "    输出块\n",
    "\n",
    "    :param inputs: 输入数据\n",
    "    :return: 输出数据\n",
    "    \"\"\"\n",
    "    x  = Conv2D(filters=1, kernel_size=(1, 1), padding=\"same\")(inputs)\n",
    "    x = sigmoid(x)\n",
    "    return x"
   ],
   "metadata": {
    "collapsed": false,
    "pycharm": {
     "name": "#%%\n"
    }
   }
  },
  {
   "cell_type": "code",
   "execution_count": 33,
   "outputs": [],
   "source": [
    "def as_pp(inputs: Tensor, filters: int) -> Tensor:\n",
    "    \"\"\"\n",
    "    ASPP模块\n",
    "\n",
    "    :param inputs: 输入数据\n",
    "    :param filters: 核数量\n",
    "    :return: 输出数据\n",
    "    \"\"\"\n",
    "    y = []\n",
    "    input_shape = inputs.get_shape()\n",
    "\n",
    "    y1 = AveragePooling2D(pool_size=(input_shape[1], input_shape[2]))(inputs)\n",
    "    y1 = Conv2D(filters=filters, kernel_size=1, padding=\"same\")(y1)\n",
    "    y1 = BatchNormalization()(y1)\n",
    "    y1 = relu(y1)\n",
    "    y1 = UpSampling2D((input_shape[1], input_shape[2]), interpolation='bilinear')(y1)\n",
    "\n",
    "    y.append(y1)\n",
    "\n",
    "    for kernel_size, dilation_rate in zip([1, 3, 3, 3],\n",
    "                                          [1, 6, 12, 18]):\n",
    "        y_ = Conv2D(filters=filters, kernel_size=kernel_size,\n",
    "                    dilation_rate=dilation_rate, padding=\"same\",\n",
    "                    use_bias=False)(inputs)\n",
    "        y_ = BatchNormalization()(y_)\n",
    "        y_ = relu(y_)\n",
    "        y.append(y_)\n",
    "\n",
    "    y = concatenate(y)\n",
    "\n",
    "    y = Conv2D(filters=filters, kernel_size=1, dilation_rate=1,\n",
    "               padding=\"same\", use_bias=False)(y)\n",
    "    y = BatchNormalization()(y)\n",
    "    y = relu(y)\n",
    "    return y\n"
   ],
   "metadata": {
    "collapsed": false,
    "pycharm": {
     "name": "#%%\n"
    }
   }
  },
  {
   "cell_type": "code",
   "execution_count": 34,
   "outputs": [],
   "source": [
    "def doubleU_net(input_shape: Tuple[int, int, int]) -> Model:\n",
    "    \"\"\"\n",
    "    模型构建\n",
    "\n",
    "    :param input_shape: 输入数据形状\n",
    "    :return: 模型\n",
    "    \"\"\"\n",
    "    inputs = Input(shape=input_shape)\n",
    "    x, skip_c1 = encoder_1(inputs)  # x为原来的下采样16倍，skip_c1保存了下采样0倍，2，4， 8\n",
    "    x = as_pp(x, 64)\n",
    "    x = decoder_1(x, skip_c1)\n",
    "    outputs1 = output_block(x)\n",
    "\n",
    "    x = outputs1 * inputs\n",
    "\n",
    "    x, skip_c2 = encoder_2(x)\n",
    "    x = as_pp(x, 64)\n",
    "    x = decoder_2(x, skip_c1, skip_c2)\n",
    "    outputs2 = output_block(x)\n",
    "    outputs = concatenate((outputs1, outputs2))\n",
    "\n",
    "    return Model(inputs=inputs, outputs=outputs)"
   ],
   "metadata": {
    "collapsed": false,
    "pycharm": {
     "name": "#%%\n"
    }
   }
  },
  {
   "cell_type": "code",
   "execution_count": 35,
   "outputs": [],
   "source": [
    "model = doubleU_net((288, 384, 3))"
   ],
   "metadata": {
    "collapsed": false,
    "pycharm": {
     "name": "#%%\n"
    }
   }
  },
  {
   "cell_type": "code",
   "execution_count": 36,
   "outputs": [],
   "source": [
    "def dice_coef(y_true: Tensor, y_pred: Tensor) -> Tensor:\n",
    "    \"\"\"\n",
    "    dice系数计算\n",
    "\n",
    "    :param y_true:\n",
    "    :param y_pred:\n",
    "    :return:\n",
    "    \"\"\"\n",
    "    y_true = Flatten()(y_true)\n",
    "    y_pred = Flatten()(y_pred)\n",
    "    intersection = reduce_sum(y_true * y_pred)\n",
    "    smooth = 1e-5\n",
    "    return (2. * intersection + smooth) / (reduce_sum(y_true) + reduce_sum(y_pred) + smooth)"
   ],
   "metadata": {
    "collapsed": false,
    "pycharm": {
     "name": "#%%\n"
    }
   }
  },
  {
   "cell_type": "code",
   "execution_count": 37,
   "outputs": [],
   "source": [
    "def dice_loss(y_true: Tensor, y_pred: Tensor) -> Tensor:\n",
    "    \"\"\"\n",
    "    dice损失\n",
    "\n",
    "    :param y_true:\n",
    "    :param y_pred:\n",
    "    :return:\n",
    "    \"\"\"\n",
    "    return constant(1.) - dice_coef(y_true, y_pred)"
   ],
   "metadata": {
    "collapsed": false,
    "pycharm": {
     "name": "#%%\n"
    }
   }
  },
  {
   "cell_type": "code",
   "execution_count": 38,
   "outputs": [],
   "source": [
    "def iou(y_ture: Tensor, y_pred: Tensor):\n",
    "    \"\"\"\n",
    "    iou计算\n",
    "\n",
    "    :param y_ture:\n",
    "    :param y_pred:\n",
    "    :return:\n",
    "    \"\"\"\n",
    "    smooth = 1e-5\n",
    "    def temp_f(y_t: np.ndarray, y_p: np.ndarray):\n",
    "        intersection = (y_t * y_p).sum()\n",
    "        union = y_t.sum() + y_p.sum() - intersection\n",
    "        result = (intersection + smooth) / (union + smooth)\n",
    "        return result.astype(np.float32)\n",
    "    return numpy_function(temp_f, [y_ture, y_pred], float32)  # 相当于funtion"
   ],
   "metadata": {
    "collapsed": false,
    "pycharm": {
     "name": "#%%\n"
    }
   }
  },
  {
   "cell_type": "code",
   "execution_count": 39,
   "outputs": [],
   "source": [
    "def read_img(img_path: str) -> np.ndarray:\n",
    "    \"\"\"\n",
    "    读取图片\n",
    "\n",
    "    :param img_path:\n",
    "    :return:\n",
    "    \"\"\"\n",
    "    img_path = img_path.decode()\n",
    "    img = cv2.cvtColor(cv2.imread(img_path, cv2.IMREAD_COLOR), cv2.COLOR_BGR2RGB)\n",
    "    if img.shape != (384, 288, 3):\n",
    "        img = cv2.resize(img, (384, 288))\n",
    "    img = (img / 255.).astype(np.float32)\n",
    "    return img\n",
    "\n",
    "def read_mask(mask_path: str) -> np.ndarray:\n",
    "    \"\"\"\n",
    "    读取掩码图片\n",
    "\n",
    "    :param mask_path:\n",
    "    :return:\n",
    "    \"\"\"\n",
    "    mask_path = mask_path.decode()\n",
    "    mask = cv2.imread(mask_path, cv2.IMREAD_GRAYSCALE)\n",
    "    if mask.shape != (384, 288):\n",
    "        mask = cv2.resize(mask, (384, 288))\n",
    "    mask = (mask / 255.).astype(np.float32)\n",
    "    mask = np.expand_dims(mask, axis=-1)\n",
    "    return mask\n",
    "\n",
    "def deal_img_mask(img_path: str, mask_path: str) -> Tuple[Tensor, Tensor]:\n",
    "    def _deal(i: str, m: str):\n",
    "        i = read_img(i)\n",
    "        m = read_mask(m)\n",
    "        m = np.concatenate([m, m], axis=-1)\n",
    "        return i, m\n",
    "    img, mask = numpy_function(_deal, [img_path, mask_path], [float32, float32])\n",
    "    img.set_shape([288, 384, 3])\n",
    "    mask.set_shape([288, 384, 2])\n",
    "    return img, mask\n",
    "\n",
    "def get_dataset(img_list: List[str], mask_list: List[str], batch: int=8):\n",
    "    dataset = data.Dataset.from_tensor_slices((img_list, mask_list))\n",
    "    dataset = dataset.shuffle(buffer_size=32)\n",
    "    dataset = dataset.map(map_func=deal_img_mask, num_parallel_calls=2)\n",
    "    dataset = dataset.repeat()\n",
    "    dataset = dataset.batch(batch)\n",
    "    return dataset\n"
   ],
   "metadata": {
    "collapsed": false,
    "pycharm": {
     "name": "#%%\n"
    }
   }
  },
  {
   "cell_type": "code",
   "execution_count": 40,
   "outputs": [],
   "source": [
    "def get_path_list(img_path: str, mask_path: str):\n",
    "    def _get_path_list(path: str):\n",
    "        temp = Path(path)\n",
    "        temp = [i for i in temp.glob('*.*')]\n",
    "        temp.sort(key=lambda x: x.stem)\n",
    "        return [str(i) for i in temp]\n",
    "    return shuffle(_get_path_list(img_path), _get_path_list(mask_path), random_state=42)\n",
    "\n",
    "# a, b = get_path_list('data/test/x', \"data/test/y\")\n",
    "# print(a, b)"
   ],
   "metadata": {
    "collapsed": false,
    "pycharm": {
     "name": "#%%\n"
    }
   }
  },
  {
   "cell_type": "code",
   "execution_count": 41,
   "outputs": [],
   "source": [
    "# a = cv2.cvtColor(cv2.imread(\"PNG/Original/1.png\", cv2.IMREAD_COLOR), cv2.COLOR_BGR2RGB)\n",
    "# print(a.shape)\n",
    "# b = cv2.imread(\"PNG/Ground Truth/1.png\", cv2.IMREAD_GRAYSCALE)\n",
    "# print(b.shape)\n",
    "# _ = plt.figure()\n",
    "# plt.subplot(2, 1, 1)\n",
    "# plt.imshow(a)\n",
    "# plt.subplot(2, 1, 2)\n",
    "# plt.imshow(b)\n",
    "# plt.show()"
   ],
   "metadata": {
    "collapsed": false,
    "pycharm": {
     "name": "#%%\n"
    }
   }
  },
  {
   "cell_type": "code",
   "execution_count": 42,
   "outputs": [],
   "source": [
    "callbacks = [\n",
    "    ModelCheckpoint(\"model_check_point/weights_{epoch:03d}-{val_loss:.4f}.h5\"),\n",
    "    ReduceLROnPlateau(monitor='val_loss', factor=0.1, patience=20),\n",
    "    CSVLogger(\"csv_log/data.csv\"),\n",
    "    TensorBoard(),\n",
    "    EarlyStopping(monitor='val_loss', patience=50, restore_best_weights=False)\n",
    "    ]"
   ],
   "metadata": {
    "collapsed": false,
    "pycharm": {
     "name": "#%%\n"
    }
   }
  },
  {
   "cell_type": "code",
   "execution_count": 43,
   "outputs": [],
   "source": [
    "batch_size = 1\n",
    "epochs = 300\n",
    "lr = 1e-5\n",
    "metrics = [dice_coef,\n",
    "           iou,\n",
    "           Recall(),\n",
    "           Precision()]"
   ],
   "metadata": {
    "collapsed": false,
    "pycharm": {
     "name": "#%%\n"
    }
   }
  },
  {
   "cell_type": "code",
   "execution_count": 44,
   "outputs": [],
   "source": [
    "train_x, train_y = get_path_list(\"data/train/x\", \"data/train/y\")\n",
    "valid_x, valid_y = get_path_list(\"data/valid/x\", \"data/valid/y\")\n",
    "train_dataset = get_dataset(train_x, train_y, batch=batch_size)\n",
    "valid_dataset = get_dataset(valid_x, valid_y, batch=batch_size)"
   ],
   "metadata": {
    "collapsed": false,
    "pycharm": {
     "name": "#%%\n"
    }
   }
  },
  {
   "cell_type": "code",
   "execution_count": 45,
   "outputs": [],
   "source": [
    "model.compile(loss=BinaryCrossentropy(), optimizer=Nadam(learning_rate=lr), metrics=metrics)"
   ],
   "metadata": {
    "collapsed": false,
    "pycharm": {
     "name": "#%%\n"
    }
   }
  },
  {
   "cell_type": "code",
   "execution_count": 46,
   "outputs": [],
   "source": [
    "train_steps = (len(train_x) // batch_size)\n",
    "valid_steps = (len(valid_x) // batch_size)"
   ],
   "metadata": {
    "collapsed": false,
    "pycharm": {
     "name": "#%%\n"
    }
   }
  },
  {
   "cell_type": "code",
   "execution_count": 47,
   "outputs": [],
   "source": [
    "if len(train_x) % batch_size != 0:\n",
    "    train_steps += 1\n",
    "\n",
    "if len(valid_x) % batch_size != 0:\n",
    "    valid_steps += 1"
   ],
   "metadata": {
    "collapsed": false,
    "pycharm": {
     "name": "#%%\n"
    }
   }
  },
  {
   "cell_type": "code",
   "execution_count": 48,
   "outputs": [
    {
     "name": "stdout",
     "output_type": "stream",
     "text": [
      "Epoch 1/300\n",
      "   49/13200 [..............................] - ETA: 1:30:44 - loss: 0.8429 - dice_coef: 0.1596 - iou: 0.0898 - recall_1: 0.9036 - precision_1: 0.1077"
     ]
    },
    {
     "ename": "KeyboardInterrupt",
     "evalue": "",
     "output_type": "error",
     "traceback": [
      "\u001B[1;31m---------------------------------------------------------------------------\u001B[0m",
      "\u001B[1;31mKeyboardInterrupt\u001B[0m                         Traceback (most recent call last)",
      "\u001B[1;32m~\\AppData\\Local\\Temp/ipykernel_15944/3761298003.py\u001B[0m in \u001B[0;36m<module>\u001B[1;34m\u001B[0m\n\u001B[1;32m----> 1\u001B[1;33m history = model.fit(train_dataset,\n\u001B[0m\u001B[0;32m      2\u001B[0m                     \u001B[0mepochs\u001B[0m\u001B[1;33m=\u001B[0m\u001B[0mepochs\u001B[0m\u001B[1;33m,\u001B[0m\u001B[1;33m\u001B[0m\u001B[1;33m\u001B[0m\u001B[0m\n\u001B[0;32m      3\u001B[0m                     \u001B[0mvalidation_data\u001B[0m\u001B[1;33m=\u001B[0m\u001B[0mvalid_dataset\u001B[0m\u001B[1;33m,\u001B[0m\u001B[1;33m\u001B[0m\u001B[1;33m\u001B[0m\u001B[0m\n\u001B[0;32m      4\u001B[0m                     \u001B[0msteps_per_epoch\u001B[0m\u001B[1;33m=\u001B[0m\u001B[0mtrain_steps\u001B[0m\u001B[1;33m,\u001B[0m\u001B[1;33m\u001B[0m\u001B[1;33m\u001B[0m\u001B[0m\n\u001B[0;32m      5\u001B[0m                     \u001B[0mvalidation_steps\u001B[0m\u001B[1;33m=\u001B[0m\u001B[0mvalid_steps\u001B[0m\u001B[1;33m,\u001B[0m\u001B[1;33m\u001B[0m\u001B[1;33m\u001B[0m\u001B[0m\n",
      "\u001B[1;32md:\\vnv\\lib\\site-packages\\keras\\engine\\training.py\u001B[0m in \u001B[0;36mfit\u001B[1;34m(self, x, y, batch_size, epochs, verbose, callbacks, validation_split, validation_data, shuffle, class_weight, sample_weight, initial_epoch, steps_per_epoch, validation_steps, validation_batch_size, validation_freq, max_queue_size, workers, use_multiprocessing)\u001B[0m\n\u001B[0;32m   1187\u001B[0m               \u001B[0mlogs\u001B[0m \u001B[1;33m=\u001B[0m \u001B[0mtmp_logs\u001B[0m  \u001B[1;31m# No error, now safe to assign to logs.\u001B[0m\u001B[1;33m\u001B[0m\u001B[1;33m\u001B[0m\u001B[0m\n\u001B[0;32m   1188\u001B[0m               \u001B[0mend_step\u001B[0m \u001B[1;33m=\u001B[0m \u001B[0mstep\u001B[0m \u001B[1;33m+\u001B[0m \u001B[0mdata_handler\u001B[0m\u001B[1;33m.\u001B[0m\u001B[0mstep_increment\u001B[0m\u001B[1;33m\u001B[0m\u001B[1;33m\u001B[0m\u001B[0m\n\u001B[1;32m-> 1189\u001B[1;33m               \u001B[0mcallbacks\u001B[0m\u001B[1;33m.\u001B[0m\u001B[0mon_train_batch_end\u001B[0m\u001B[1;33m(\u001B[0m\u001B[0mend_step\u001B[0m\u001B[1;33m,\u001B[0m \u001B[0mlogs\u001B[0m\u001B[1;33m)\u001B[0m\u001B[1;33m\u001B[0m\u001B[1;33m\u001B[0m\u001B[0m\n\u001B[0m\u001B[0;32m   1190\u001B[0m               \u001B[1;32mif\u001B[0m \u001B[0mself\u001B[0m\u001B[1;33m.\u001B[0m\u001B[0mstop_training\u001B[0m\u001B[1;33m:\u001B[0m\u001B[1;33m\u001B[0m\u001B[1;33m\u001B[0m\u001B[0m\n\u001B[0;32m   1191\u001B[0m                 \u001B[1;32mbreak\u001B[0m\u001B[1;33m\u001B[0m\u001B[1;33m\u001B[0m\u001B[0m\n",
      "\u001B[1;32md:\\vnv\\lib\\site-packages\\keras\\callbacks.py\u001B[0m in \u001B[0;36mon_train_batch_end\u001B[1;34m(self, batch, logs)\u001B[0m\n\u001B[0;32m    433\u001B[0m     \"\"\"\n\u001B[0;32m    434\u001B[0m     \u001B[1;32mif\u001B[0m \u001B[0mself\u001B[0m\u001B[1;33m.\u001B[0m\u001B[0m_should_call_train_batch_hooks\u001B[0m\u001B[1;33m:\u001B[0m\u001B[1;33m\u001B[0m\u001B[1;33m\u001B[0m\u001B[0m\n\u001B[1;32m--> 435\u001B[1;33m       \u001B[0mself\u001B[0m\u001B[1;33m.\u001B[0m\u001B[0m_call_batch_hook\u001B[0m\u001B[1;33m(\u001B[0m\u001B[0mModeKeys\u001B[0m\u001B[1;33m.\u001B[0m\u001B[0mTRAIN\u001B[0m\u001B[1;33m,\u001B[0m \u001B[1;34m'end'\u001B[0m\u001B[1;33m,\u001B[0m \u001B[0mbatch\u001B[0m\u001B[1;33m,\u001B[0m \u001B[0mlogs\u001B[0m\u001B[1;33m=\u001B[0m\u001B[0mlogs\u001B[0m\u001B[1;33m)\u001B[0m\u001B[1;33m\u001B[0m\u001B[1;33m\u001B[0m\u001B[0m\n\u001B[0m\u001B[0;32m    436\u001B[0m \u001B[1;33m\u001B[0m\u001B[0m\n\u001B[0;32m    437\u001B[0m   \u001B[1;32mdef\u001B[0m \u001B[0mon_test_batch_begin\u001B[0m\u001B[1;33m(\u001B[0m\u001B[0mself\u001B[0m\u001B[1;33m,\u001B[0m \u001B[0mbatch\u001B[0m\u001B[1;33m,\u001B[0m \u001B[0mlogs\u001B[0m\u001B[1;33m=\u001B[0m\u001B[1;32mNone\u001B[0m\u001B[1;33m)\u001B[0m\u001B[1;33m:\u001B[0m\u001B[1;33m\u001B[0m\u001B[1;33m\u001B[0m\u001B[0m\n",
      "\u001B[1;32md:\\vnv\\lib\\site-packages\\keras\\callbacks.py\u001B[0m in \u001B[0;36m_call_batch_hook\u001B[1;34m(self, mode, hook, batch, logs)\u001B[0m\n\u001B[0;32m    293\u001B[0m       \u001B[0mself\u001B[0m\u001B[1;33m.\u001B[0m\u001B[0m_call_batch_begin_hook\u001B[0m\u001B[1;33m(\u001B[0m\u001B[0mmode\u001B[0m\u001B[1;33m,\u001B[0m \u001B[0mbatch\u001B[0m\u001B[1;33m,\u001B[0m \u001B[0mlogs\u001B[0m\u001B[1;33m)\u001B[0m\u001B[1;33m\u001B[0m\u001B[1;33m\u001B[0m\u001B[0m\n\u001B[0;32m    294\u001B[0m     \u001B[1;32melif\u001B[0m \u001B[0mhook\u001B[0m \u001B[1;33m==\u001B[0m \u001B[1;34m'end'\u001B[0m\u001B[1;33m:\u001B[0m\u001B[1;33m\u001B[0m\u001B[1;33m\u001B[0m\u001B[0m\n\u001B[1;32m--> 295\u001B[1;33m       \u001B[0mself\u001B[0m\u001B[1;33m.\u001B[0m\u001B[0m_call_batch_end_hook\u001B[0m\u001B[1;33m(\u001B[0m\u001B[0mmode\u001B[0m\u001B[1;33m,\u001B[0m \u001B[0mbatch\u001B[0m\u001B[1;33m,\u001B[0m \u001B[0mlogs\u001B[0m\u001B[1;33m)\u001B[0m\u001B[1;33m\u001B[0m\u001B[1;33m\u001B[0m\u001B[0m\n\u001B[0m\u001B[0;32m    296\u001B[0m     \u001B[1;32melse\u001B[0m\u001B[1;33m:\u001B[0m\u001B[1;33m\u001B[0m\u001B[1;33m\u001B[0m\u001B[0m\n\u001B[0;32m    297\u001B[0m       \u001B[1;32mraise\u001B[0m \u001B[0mValueError\u001B[0m\u001B[1;33m(\u001B[0m\u001B[1;34m'Unrecognized hook: {}'\u001B[0m\u001B[1;33m.\u001B[0m\u001B[0mformat\u001B[0m\u001B[1;33m(\u001B[0m\u001B[0mhook\u001B[0m\u001B[1;33m)\u001B[0m\u001B[1;33m)\u001B[0m\u001B[1;33m\u001B[0m\u001B[1;33m\u001B[0m\u001B[0m\n",
      "\u001B[1;32md:\\vnv\\lib\\site-packages\\keras\\callbacks.py\u001B[0m in \u001B[0;36m_call_batch_end_hook\u001B[1;34m(self, mode, batch, logs)\u001B[0m\n\u001B[0;32m    313\u001B[0m       \u001B[0mself\u001B[0m\u001B[1;33m.\u001B[0m\u001B[0m_batch_times\u001B[0m\u001B[1;33m.\u001B[0m\u001B[0mappend\u001B[0m\u001B[1;33m(\u001B[0m\u001B[0mbatch_time\u001B[0m\u001B[1;33m)\u001B[0m\u001B[1;33m\u001B[0m\u001B[1;33m\u001B[0m\u001B[0m\n\u001B[0;32m    314\u001B[0m \u001B[1;33m\u001B[0m\u001B[0m\n\u001B[1;32m--> 315\u001B[1;33m     \u001B[0mself\u001B[0m\u001B[1;33m.\u001B[0m\u001B[0m_call_batch_hook_helper\u001B[0m\u001B[1;33m(\u001B[0m\u001B[0mhook_name\u001B[0m\u001B[1;33m,\u001B[0m \u001B[0mbatch\u001B[0m\u001B[1;33m,\u001B[0m \u001B[0mlogs\u001B[0m\u001B[1;33m)\u001B[0m\u001B[1;33m\u001B[0m\u001B[1;33m\u001B[0m\u001B[0m\n\u001B[0m\u001B[0;32m    316\u001B[0m \u001B[1;33m\u001B[0m\u001B[0m\n\u001B[0;32m    317\u001B[0m     \u001B[1;32mif\u001B[0m \u001B[0mlen\u001B[0m\u001B[1;33m(\u001B[0m\u001B[0mself\u001B[0m\u001B[1;33m.\u001B[0m\u001B[0m_batch_times\u001B[0m\u001B[1;33m)\u001B[0m \u001B[1;33m>=\u001B[0m \u001B[0mself\u001B[0m\u001B[1;33m.\u001B[0m\u001B[0m_num_batches_for_timing_check\u001B[0m\u001B[1;33m:\u001B[0m\u001B[1;33m\u001B[0m\u001B[1;33m\u001B[0m\u001B[0m\n",
      "\u001B[1;32md:\\vnv\\lib\\site-packages\\keras\\callbacks.py\u001B[0m in \u001B[0;36m_call_batch_hook_helper\u001B[1;34m(self, hook_name, batch, logs)\u001B[0m\n\u001B[0;32m    351\u001B[0m     \u001B[1;32mfor\u001B[0m \u001B[0mcallback\u001B[0m \u001B[1;32min\u001B[0m \u001B[0mself\u001B[0m\u001B[1;33m.\u001B[0m\u001B[0mcallbacks\u001B[0m\u001B[1;33m:\u001B[0m\u001B[1;33m\u001B[0m\u001B[1;33m\u001B[0m\u001B[0m\n\u001B[0;32m    352\u001B[0m       \u001B[0mhook\u001B[0m \u001B[1;33m=\u001B[0m \u001B[0mgetattr\u001B[0m\u001B[1;33m(\u001B[0m\u001B[0mcallback\u001B[0m\u001B[1;33m,\u001B[0m \u001B[0mhook_name\u001B[0m\u001B[1;33m)\u001B[0m\u001B[1;33m\u001B[0m\u001B[1;33m\u001B[0m\u001B[0m\n\u001B[1;32m--> 353\u001B[1;33m       \u001B[0mhook\u001B[0m\u001B[1;33m(\u001B[0m\u001B[0mbatch\u001B[0m\u001B[1;33m,\u001B[0m \u001B[0mlogs\u001B[0m\u001B[1;33m)\u001B[0m\u001B[1;33m\u001B[0m\u001B[1;33m\u001B[0m\u001B[0m\n\u001B[0m\u001B[0;32m    354\u001B[0m \u001B[1;33m\u001B[0m\u001B[0m\n\u001B[0;32m    355\u001B[0m     \u001B[1;32mif\u001B[0m \u001B[0mself\u001B[0m\u001B[1;33m.\u001B[0m\u001B[0m_check_timing\u001B[0m\u001B[1;33m:\u001B[0m\u001B[1;33m\u001B[0m\u001B[1;33m\u001B[0m\u001B[0m\n",
      "\u001B[1;32md:\\vnv\\lib\\site-packages\\keras\\callbacks.py\u001B[0m in \u001B[0;36mon_train_batch_end\u001B[1;34m(self, batch, logs)\u001B[0m\n\u001B[0;32m   1026\u001B[0m \u001B[1;33m\u001B[0m\u001B[0m\n\u001B[0;32m   1027\u001B[0m   \u001B[1;32mdef\u001B[0m \u001B[0mon_train_batch_end\u001B[0m\u001B[1;33m(\u001B[0m\u001B[0mself\u001B[0m\u001B[1;33m,\u001B[0m \u001B[0mbatch\u001B[0m\u001B[1;33m,\u001B[0m \u001B[0mlogs\u001B[0m\u001B[1;33m=\u001B[0m\u001B[1;32mNone\u001B[0m\u001B[1;33m)\u001B[0m\u001B[1;33m:\u001B[0m\u001B[1;33m\u001B[0m\u001B[1;33m\u001B[0m\u001B[0m\n\u001B[1;32m-> 1028\u001B[1;33m     \u001B[0mself\u001B[0m\u001B[1;33m.\u001B[0m\u001B[0m_batch_update_progbar\u001B[0m\u001B[1;33m(\u001B[0m\u001B[0mbatch\u001B[0m\u001B[1;33m,\u001B[0m \u001B[0mlogs\u001B[0m\u001B[1;33m)\u001B[0m\u001B[1;33m\u001B[0m\u001B[1;33m\u001B[0m\u001B[0m\n\u001B[0m\u001B[0;32m   1029\u001B[0m \u001B[1;33m\u001B[0m\u001B[0m\n\u001B[0;32m   1030\u001B[0m   \u001B[1;32mdef\u001B[0m \u001B[0mon_test_batch_end\u001B[0m\u001B[1;33m(\u001B[0m\u001B[0mself\u001B[0m\u001B[1;33m,\u001B[0m \u001B[0mbatch\u001B[0m\u001B[1;33m,\u001B[0m \u001B[0mlogs\u001B[0m\u001B[1;33m=\u001B[0m\u001B[1;32mNone\u001B[0m\u001B[1;33m)\u001B[0m\u001B[1;33m:\u001B[0m\u001B[1;33m\u001B[0m\u001B[1;33m\u001B[0m\u001B[0m\n",
      "\u001B[1;32md:\\vnv\\lib\\site-packages\\keras\\callbacks.py\u001B[0m in \u001B[0;36m_batch_update_progbar\u001B[1;34m(self, batch, logs)\u001B[0m\n\u001B[0;32m   1098\u001B[0m     \u001B[1;32mif\u001B[0m \u001B[0mself\u001B[0m\u001B[1;33m.\u001B[0m\u001B[0mverbose\u001B[0m \u001B[1;33m==\u001B[0m \u001B[1;36m1\u001B[0m\u001B[1;33m:\u001B[0m\u001B[1;33m\u001B[0m\u001B[1;33m\u001B[0m\u001B[0m\n\u001B[0;32m   1099\u001B[0m       \u001B[1;31m# Only block async when verbose = 1.\u001B[0m\u001B[1;33m\u001B[0m\u001B[1;33m\u001B[0m\u001B[0m\n\u001B[1;32m-> 1100\u001B[1;33m       \u001B[0mlogs\u001B[0m \u001B[1;33m=\u001B[0m \u001B[0mtf_utils\u001B[0m\u001B[1;33m.\u001B[0m\u001B[0msync_to_numpy_or_python_type\u001B[0m\u001B[1;33m(\u001B[0m\u001B[0mlogs\u001B[0m\u001B[1;33m)\u001B[0m\u001B[1;33m\u001B[0m\u001B[1;33m\u001B[0m\u001B[0m\n\u001B[0m\u001B[0;32m   1101\u001B[0m       \u001B[0mself\u001B[0m\u001B[1;33m.\u001B[0m\u001B[0mprogbar\u001B[0m\u001B[1;33m.\u001B[0m\u001B[0mupdate\u001B[0m\u001B[1;33m(\u001B[0m\u001B[0mself\u001B[0m\u001B[1;33m.\u001B[0m\u001B[0mseen\u001B[0m\u001B[1;33m,\u001B[0m \u001B[0mlist\u001B[0m\u001B[1;33m(\u001B[0m\u001B[0mlogs\u001B[0m\u001B[1;33m.\u001B[0m\u001B[0mitems\u001B[0m\u001B[1;33m(\u001B[0m\u001B[1;33m)\u001B[0m\u001B[1;33m)\u001B[0m\u001B[1;33m,\u001B[0m \u001B[0mfinalize\u001B[0m\u001B[1;33m=\u001B[0m\u001B[1;32mFalse\u001B[0m\u001B[1;33m)\u001B[0m\u001B[1;33m\u001B[0m\u001B[1;33m\u001B[0m\u001B[0m\n\u001B[0;32m   1102\u001B[0m \u001B[1;33m\u001B[0m\u001B[0m\n",
      "\u001B[1;32md:\\vnv\\lib\\site-packages\\keras\\utils\\tf_utils.py\u001B[0m in \u001B[0;36msync_to_numpy_or_python_type\u001B[1;34m(tensors)\u001B[0m\n\u001B[0;32m    514\u001B[0m     \u001B[1;32mreturn\u001B[0m \u001B[0mt\u001B[0m  \u001B[1;31m# Don't turn ragged or sparse tensors to NumPy.\u001B[0m\u001B[1;33m\u001B[0m\u001B[1;33m\u001B[0m\u001B[0m\n\u001B[0;32m    515\u001B[0m \u001B[1;33m\u001B[0m\u001B[0m\n\u001B[1;32m--> 516\u001B[1;33m   \u001B[1;32mreturn\u001B[0m \u001B[0mtf\u001B[0m\u001B[1;33m.\u001B[0m\u001B[0mnest\u001B[0m\u001B[1;33m.\u001B[0m\u001B[0mmap_structure\u001B[0m\u001B[1;33m(\u001B[0m\u001B[0m_to_single_numpy_or_python_type\u001B[0m\u001B[1;33m,\u001B[0m \u001B[0mtensors\u001B[0m\u001B[1;33m)\u001B[0m\u001B[1;33m\u001B[0m\u001B[1;33m\u001B[0m\u001B[0m\n\u001B[0m\u001B[0;32m    517\u001B[0m \u001B[1;33m\u001B[0m\u001B[0m\n\u001B[0;32m    518\u001B[0m \u001B[1;33m\u001B[0m\u001B[0m\n",
      "\u001B[1;32md:\\vnv\\lib\\site-packages\\tensorflow\\python\\util\\nest.py\u001B[0m in \u001B[0;36mmap_structure\u001B[1;34m(func, *structure, **kwargs)\u001B[0m\n\u001B[0;32m    867\u001B[0m \u001B[1;33m\u001B[0m\u001B[0m\n\u001B[0;32m    868\u001B[0m   return pack_sequence_as(\n\u001B[1;32m--> 869\u001B[1;33m       \u001B[0mstructure\u001B[0m\u001B[1;33m[\u001B[0m\u001B[1;36m0\u001B[0m\u001B[1;33m]\u001B[0m\u001B[1;33m,\u001B[0m \u001B[1;33m[\u001B[0m\u001B[0mfunc\u001B[0m\u001B[1;33m(\u001B[0m\u001B[1;33m*\u001B[0m\u001B[0mx\u001B[0m\u001B[1;33m)\u001B[0m \u001B[1;32mfor\u001B[0m \u001B[0mx\u001B[0m \u001B[1;32min\u001B[0m \u001B[0mentries\u001B[0m\u001B[1;33m]\u001B[0m\u001B[1;33m,\u001B[0m\u001B[1;33m\u001B[0m\u001B[1;33m\u001B[0m\u001B[0m\n\u001B[0m\u001B[0;32m    870\u001B[0m       expand_composites=expand_composites)\n\u001B[0;32m    871\u001B[0m \u001B[1;33m\u001B[0m\u001B[0m\n",
      "\u001B[1;32md:\\vnv\\lib\\site-packages\\tensorflow\\python\\util\\nest.py\u001B[0m in \u001B[0;36m<listcomp>\u001B[1;34m(.0)\u001B[0m\n\u001B[0;32m    867\u001B[0m \u001B[1;33m\u001B[0m\u001B[0m\n\u001B[0;32m    868\u001B[0m   return pack_sequence_as(\n\u001B[1;32m--> 869\u001B[1;33m       \u001B[0mstructure\u001B[0m\u001B[1;33m[\u001B[0m\u001B[1;36m0\u001B[0m\u001B[1;33m]\u001B[0m\u001B[1;33m,\u001B[0m \u001B[1;33m[\u001B[0m\u001B[0mfunc\u001B[0m\u001B[1;33m(\u001B[0m\u001B[1;33m*\u001B[0m\u001B[0mx\u001B[0m\u001B[1;33m)\u001B[0m \u001B[1;32mfor\u001B[0m \u001B[0mx\u001B[0m \u001B[1;32min\u001B[0m \u001B[0mentries\u001B[0m\u001B[1;33m]\u001B[0m\u001B[1;33m,\u001B[0m\u001B[1;33m\u001B[0m\u001B[1;33m\u001B[0m\u001B[0m\n\u001B[0m\u001B[0;32m    870\u001B[0m       expand_composites=expand_composites)\n\u001B[0;32m    871\u001B[0m \u001B[1;33m\u001B[0m\u001B[0m\n",
      "\u001B[1;32md:\\vnv\\lib\\site-packages\\keras\\utils\\tf_utils.py\u001B[0m in \u001B[0;36m_to_single_numpy_or_python_type\u001B[1;34m(t)\u001B[0m\n\u001B[0;32m    510\u001B[0m   \u001B[1;32mdef\u001B[0m \u001B[0m_to_single_numpy_or_python_type\u001B[0m\u001B[1;33m(\u001B[0m\u001B[0mt\u001B[0m\u001B[1;33m)\u001B[0m\u001B[1;33m:\u001B[0m\u001B[1;33m\u001B[0m\u001B[1;33m\u001B[0m\u001B[0m\n\u001B[0;32m    511\u001B[0m     \u001B[1;32mif\u001B[0m \u001B[0misinstance\u001B[0m\u001B[1;33m(\u001B[0m\u001B[0mt\u001B[0m\u001B[1;33m,\u001B[0m \u001B[0mtf\u001B[0m\u001B[1;33m.\u001B[0m\u001B[0mTensor\u001B[0m\u001B[1;33m)\u001B[0m\u001B[1;33m:\u001B[0m\u001B[1;33m\u001B[0m\u001B[1;33m\u001B[0m\u001B[0m\n\u001B[1;32m--> 512\u001B[1;33m       \u001B[0mx\u001B[0m \u001B[1;33m=\u001B[0m \u001B[0mt\u001B[0m\u001B[1;33m.\u001B[0m\u001B[0mnumpy\u001B[0m\u001B[1;33m(\u001B[0m\u001B[1;33m)\u001B[0m\u001B[1;33m\u001B[0m\u001B[1;33m\u001B[0m\u001B[0m\n\u001B[0m\u001B[0;32m    513\u001B[0m       \u001B[1;32mreturn\u001B[0m \u001B[0mx\u001B[0m\u001B[1;33m.\u001B[0m\u001B[0mitem\u001B[0m\u001B[1;33m(\u001B[0m\u001B[1;33m)\u001B[0m \u001B[1;32mif\u001B[0m \u001B[0mnp\u001B[0m\u001B[1;33m.\u001B[0m\u001B[0mndim\u001B[0m\u001B[1;33m(\u001B[0m\u001B[0mx\u001B[0m\u001B[1;33m)\u001B[0m \u001B[1;33m==\u001B[0m \u001B[1;36m0\u001B[0m \u001B[1;32melse\u001B[0m \u001B[0mx\u001B[0m\u001B[1;33m\u001B[0m\u001B[1;33m\u001B[0m\u001B[0m\n\u001B[0;32m    514\u001B[0m     \u001B[1;32mreturn\u001B[0m \u001B[0mt\u001B[0m  \u001B[1;31m# Don't turn ragged or sparse tensors to NumPy.\u001B[0m\u001B[1;33m\u001B[0m\u001B[1;33m\u001B[0m\u001B[0m\n",
      "\u001B[1;32md:\\vnv\\lib\\site-packages\\tensorflow\\python\\framework\\ops.py\u001B[0m in \u001B[0;36mnumpy\u001B[1;34m(self)\u001B[0m\n\u001B[0;32m   1092\u001B[0m     \"\"\"\n\u001B[0;32m   1093\u001B[0m     \u001B[1;31m# TODO(slebedev): Consider avoiding a copy for non-CPU or remote tensors.\u001B[0m\u001B[1;33m\u001B[0m\u001B[1;33m\u001B[0m\u001B[0m\n\u001B[1;32m-> 1094\u001B[1;33m     \u001B[0mmaybe_arr\u001B[0m \u001B[1;33m=\u001B[0m \u001B[0mself\u001B[0m\u001B[1;33m.\u001B[0m\u001B[0m_numpy\u001B[0m\u001B[1;33m(\u001B[0m\u001B[1;33m)\u001B[0m  \u001B[1;31m# pylint: disable=protected-access\u001B[0m\u001B[1;33m\u001B[0m\u001B[1;33m\u001B[0m\u001B[0m\n\u001B[0m\u001B[0;32m   1095\u001B[0m     \u001B[1;32mreturn\u001B[0m \u001B[0mmaybe_arr\u001B[0m\u001B[1;33m.\u001B[0m\u001B[0mcopy\u001B[0m\u001B[1;33m(\u001B[0m\u001B[1;33m)\u001B[0m \u001B[1;32mif\u001B[0m \u001B[0misinstance\u001B[0m\u001B[1;33m(\u001B[0m\u001B[0mmaybe_arr\u001B[0m\u001B[1;33m,\u001B[0m \u001B[0mnp\u001B[0m\u001B[1;33m.\u001B[0m\u001B[0mndarray\u001B[0m\u001B[1;33m)\u001B[0m \u001B[1;32melse\u001B[0m \u001B[0mmaybe_arr\u001B[0m\u001B[1;33m\u001B[0m\u001B[1;33m\u001B[0m\u001B[0m\n\u001B[0;32m   1096\u001B[0m \u001B[1;33m\u001B[0m\u001B[0m\n",
      "\u001B[1;32md:\\vnv\\lib\\site-packages\\tensorflow\\python\\framework\\ops.py\u001B[0m in \u001B[0;36m_numpy\u001B[1;34m(self)\u001B[0m\n\u001B[0;32m   1058\u001B[0m   \u001B[1;32mdef\u001B[0m \u001B[0m_numpy\u001B[0m\u001B[1;33m(\u001B[0m\u001B[0mself\u001B[0m\u001B[1;33m)\u001B[0m\u001B[1;33m:\u001B[0m\u001B[1;33m\u001B[0m\u001B[1;33m\u001B[0m\u001B[0m\n\u001B[0;32m   1059\u001B[0m     \u001B[1;32mtry\u001B[0m\u001B[1;33m:\u001B[0m\u001B[1;33m\u001B[0m\u001B[1;33m\u001B[0m\u001B[0m\n\u001B[1;32m-> 1060\u001B[1;33m       \u001B[1;32mreturn\u001B[0m \u001B[0mself\u001B[0m\u001B[1;33m.\u001B[0m\u001B[0m_numpy_internal\u001B[0m\u001B[1;33m(\u001B[0m\u001B[1;33m)\u001B[0m\u001B[1;33m\u001B[0m\u001B[1;33m\u001B[0m\u001B[0m\n\u001B[0m\u001B[0;32m   1061\u001B[0m     \u001B[1;32mexcept\u001B[0m \u001B[0mcore\u001B[0m\u001B[1;33m.\u001B[0m\u001B[0m_NotOkStatusException\u001B[0m \u001B[1;32mas\u001B[0m \u001B[0me\u001B[0m\u001B[1;33m:\u001B[0m  \u001B[1;31m# pylint: disable=protected-access\u001B[0m\u001B[1;33m\u001B[0m\u001B[1;33m\u001B[0m\u001B[0m\n\u001B[0;32m   1062\u001B[0m       \u001B[0msix\u001B[0m\u001B[1;33m.\u001B[0m\u001B[0mraise_from\u001B[0m\u001B[1;33m(\u001B[0m\u001B[0mcore\u001B[0m\u001B[1;33m.\u001B[0m\u001B[0m_status_to_exception\u001B[0m\u001B[1;33m(\u001B[0m\u001B[0me\u001B[0m\u001B[1;33m.\u001B[0m\u001B[0mcode\u001B[0m\u001B[1;33m,\u001B[0m \u001B[0me\u001B[0m\u001B[1;33m.\u001B[0m\u001B[0mmessage\u001B[0m\u001B[1;33m)\u001B[0m\u001B[1;33m,\u001B[0m \u001B[1;32mNone\u001B[0m\u001B[1;33m)\u001B[0m  \u001B[1;31m# pylint: disable=protected-access\u001B[0m\u001B[1;33m\u001B[0m\u001B[1;33m\u001B[0m\u001B[0m\n",
      "\u001B[1;31mKeyboardInterrupt\u001B[0m: "
     ]
    }
   ],
   "source": [
    "history = model.fit(train_dataset,\n",
    "                    epochs=epochs,\n",
    "                    validation_data=valid_dataset,\n",
    "                    steps_per_epoch=train_steps,\n",
    "                    validation_steps=valid_steps,\n",
    "                    callbacks=callbacks,\n",
    "                    shuffle=False)\n"
   ],
   "metadata": {
    "collapsed": false,
    "pycharm": {
     "name": "#%%\n"
    }
   }
  },
  {
   "cell_type": "code",
   "execution_count": null,
   "outputs": [],
   "source": [
    "def show_history(model_history: History, save_pic: str=None):\n",
    "    plt.style.use(\"ggplot\")\n",
    "    plt.rcParams[\"figure.figsize\"] = (14.0, 14.0)\n",
    "    _ = plt.figure()\n",
    "    for i in model_history.history.keys():\n",
    "        plt.plot(np.arange(0, 300), model_history.history[i], label=i)\n",
    "    plt.title(\"loss|miou|iou|recall|precision\")\n",
    "    plt.xlabel(\"Epoch #\")\n",
    "    plt.ylabel(\"Loss/Miou/Iou/Recall/Precision\")\n",
    "    plt.legend()\n",
    "\n",
    "    if save_pic:\n",
    "        plt.savefig(save_pic)\n",
    "    plt.show()"
   ],
   "metadata": {
    "collapsed": false,
    "pycharm": {
     "name": "#%%\n"
    }
   }
  },
  {
   "cell_type": "code",
   "execution_count": null,
   "outputs": [],
   "source": [
    "show_history(model_history=history, save_pic='test.jpg')"
   ],
   "metadata": {
    "collapsed": false,
    "pycharm": {
     "name": "#%%\n"
    }
   }
  },
  {
   "cell_type": "code",
   "execution_count": null,
   "outputs": [],
   "source": [
    "a = cv2.cvtColor(cv2.imread('test/Original/1.tif'), cv2.COLOR_BGR2RGB)\n",
    "plt.figure()\n",
    "plt.axis(\"off\")\n",
    "plt.imshow(a)\n",
    "plt.show()"
   ],
   "metadata": {
    "collapsed": false,
    "pycharm": {
     "name": "#%%\n"
    }
   }
  },
  {
   "cell_type": "code",
   "execution_count": null,
   "outputs": [],
   "source": [
    "# def change_file_name(file_path: str):\n",
    "#     def change(name: Path):\n",
    "#         temp_parent = name.parent\n",
    "#         temp_suffix = name.suffix\n",
    "#         temp_name = name.stem.replace(\"p\", '')\n",
    "#         name.rename(rf\"{temp_parent}\\{temp_name}{temp_suffix}\")\n",
    "#     return map(change, Path(file_path).glob('*.*'))\n",
    "#\n",
    "# _ = [i for i in change_file_name(\"test/Ground Truth\")]\n",
    "\n",
    "test_x, test_y = get_path_list(\"data/test/x\", \"data/test/y\")\n",
    "test_dataset = get_dataset(test_x, test_y, batch=batch_size)"
   ],
   "metadata": {
    "collapsed": false,
    "pycharm": {
     "name": "#%%\n"
    }
   }
  },
  {
   "cell_type": "code",
   "execution_count": null,
   "outputs": [],
   "source": [
    "test_steps = (len(test_x) // batch_size)\n",
    "\n",
    "if len(test_x) % batch_size != 0:\n",
    "    test_steps += 1\n",
    "\n",
    "h = model.evaluate(test_dataset, steps=test_steps)"
   ],
   "metadata": {
    "collapsed": false,
    "pycharm": {
     "name": "#%%\n"
    }
   }
  },
  {
   "cell_type": "code",
   "execution_count": null,
   "outputs": [],
   "source": [
    "print(h)"
   ],
   "metadata": {
    "collapsed": false,
    "pycharm": {
     "name": "#%%\n"
    }
   }
  },
  {
   "cell_type": "code",
   "execution_count": null,
   "outputs": [],
   "source": [
    "new_model = load_model(\"CVC-612model.h5\", custom_objects={'dice_coef': dice_coef,\n",
    "                                                          'iou': iou})\n",
    "new_model.summary()"
   ],
   "metadata": {
    "collapsed": false,
    "pycharm": {
     "name": "#%%\n"
    }
   }
  },
  {
   "cell_type": "code",
   "execution_count": null,
   "outputs": [],
   "source": [
    "def __read_img(img_path: str) -> np.ndarray:\n",
    "    \"\"\"\n",
    "    读取图片\n",
    "\n",
    "    :param img_path:\n",
    "    :return:\n",
    "    \"\"\"\n",
    "    img_path = img_path.decode()\n",
    "    img = cv2.cvtColor(cv2.imread(img_path, cv2.IMREAD_COLOR), cv2.COLOR_BGR2RGB)\n",
    "    if img.shape != (384, 288, 3):\n",
    "        img = cv2.resize(img, (384, 288))\n",
    "    img = (img / 255.).astype(np.float32)\n",
    "    return img\n",
    "\n",
    "def __read_mask(mask_path: str) -> np.ndarray:\n",
    "    \"\"\"\n",
    "    读取掩码图片\n",
    "\n",
    "    :param mask_path:\n",
    "    :return:\n",
    "    \"\"\"\n",
    "    mask_path = mask_path.decode()\n",
    "    mask = cv2.imread(mask_path, cv2.IMREAD_GRAYSCALE)\n",
    "    if mask.shape != (384, 288):\n",
    "        mask = cv2.resize(mask, (384, 288))\n",
    "    mask = (mask / 255.).astype(np.float32)\n",
    "    mask = np.expand_dims(mask, axis=-1)\n",
    "    return mask\n",
    "def __deal_img_mask(img_path: str, mask_path: str) -> Tuple[Tensor, Tensor]:\n",
    "    def _deal(i: str, m: str):\n",
    "        i = __read_img(i)\n",
    "        m = __read_mask(m)\n",
    "        m = np.concatenate([m, m], axis=-1)\n",
    "        return i, m\n",
    "    img, mask = numpy_function(_deal, [img_path, mask_path], [float32, float32])\n",
    "    img.set_shape([288, 384, 3])\n",
    "    mask.set_shape([288, 384, 2])\n",
    "    return img, mask\n",
    "\n",
    "def __get_dataset(img_list: List[str], mask_list: List[str], batch: int=8):\n",
    "    dataset = data.Dataset.from_tensor_slices((img_list, mask_list))\n",
    "    dataset = dataset.shuffle(buffer_size=32)\n",
    "    dataset = dataset.map(map_func=__deal_img_mask, num_parallel_calls=2)\n",
    "    dataset = dataset.repeat()\n",
    "    dataset = dataset.batch(batch)\n",
    "    return dataset\n"
   ],
   "metadata": {
    "collapsed": false,
    "pycharm": {
     "name": "#%%\n"
    }
   }
  },
  {
   "cell_type": "code",
   "execution_count": null,
   "outputs": [],
   "source": [
    "test_x, test_y = get_path_list(\"data/test/x\", \"data/test/y\")\n",
    "test_dataset = __get_dataset(test_x, test_y, batch=16)"
   ],
   "metadata": {
    "collapsed": false,
    "pycharm": {
     "name": "#%%\n"
    }
   }
  },
  {
   "cell_type": "code",
   "execution_count": null,
   "outputs": [],
   "source": [
    "test_steps = (len(test_x) // 16)\n",
    "\n",
    "if len(test_x) % 16 != 0:\n",
    "    test_steps += 1\n",
    "\n",
    "h = new_model.evaluate(test_dataset, steps=test_steps)"
   ],
   "metadata": {
    "collapsed": false,
    "pycharm": {
     "name": "#%%\n"
    }
   }
  }
 ],
 "metadata": {
  "kernelspec": {
   "display_name": "Python 3",
   "language": "python",
   "name": "python3"
  },
  "language_info": {
   "codemirror_mode": {
    "name": "ipython",
    "version": 2
   },
   "file_extension": ".py",
   "mimetype": "text/x-python",
   "name": "python",
   "nbconvert_exporter": "python",
   "pygments_lexer": "ipython2",
   "version": "2.7.6"
  }
 },
 "nbformat": 4,
 "nbformat_minor": 0
}