{
 "cells": [
  {
   "cell_type": "code",
   "execution_count": 2,
   "metadata": {
    "collapsed": true
   },
   "outputs": [],
   "source": [
    "import cv2\n",
    "import random\n",
    "\n",
    "from pathlib import Path\n",
    "from sklearn.model_selection import train_test_split\n",
    "from tqdm import tqdm\n",
    "from albumentations import (\n",
    "    HorizontalFlip,\n",
    "    VerticalFlip,\n",
    "    CenterCrop,\n",
    "    Crop,\n",
    "    Transpose,\n",
    "    MedianBlur,\n",
    "    RandomRotate90,\n",
    "    ElasticTransform,\n",
    "    GridDistortion,\n",
    "    OpticalDistortion,\n",
    "    RandomBrightnessContrast,\n",
    "    RandomGamma,\n",
    "    HueSaturationValue,\n",
    "    RGBShift,\n",
    "    MotionBlur,\n",
    "    GaussianBlur,\n",
    "    GaussNoise,\n",
    "    ChannelShuffle,\n",
    "    CoarseDropout\n",
    ")"
   ]
  },
  {
   "cell_type": "code",
   "execution_count": 4,
   "outputs": [],
   "source": [
    "def creat_dir(file_path: Path):\n",
    "    if not file_path.exists():\n",
    "        file_path.mkdir(parents=True, exist_ok=True)"
   ],
   "metadata": {
    "collapsed": false,
    "pycharm": {
     "name": "#%%\n"
    }
   }
  },
  {
   "cell_type": "code",
   "execution_count": 16,
   "outputs": [],
   "source": [
    "def deal_img(images: list[Path], masks: list[Path], save_path, augment=True):\n",
    "    \"\"\" Performing data augmentation. \"\"\"\n",
    "\n",
    "    def read_data(img, mas):\n",
    "        \"\"\" Read the image and mask from the given path. \"\"\"\n",
    "        image_ = cv2.imread(str(img), cv2.IMREAD_COLOR)\n",
    "        mask_ = cv2.imread(str(mas), cv2.IMREAD_COLOR)\n",
    "        return image_, mask_\n",
    "\n",
    "    crop_size = (192-32, 256-32)\n",
    "    size = (256, 192)\n",
    "    temp_images = []\n",
    "    temp_masks = []\n",
    "    for image, mask in tqdm(zip(images, masks), total=len(images)):\n",
    "        x, y = read_data(image, mask)\n",
    "\n",
    "        if augment:\n",
    "            ## Center Crop\n",
    "            aug = CenterCrop(p=1, height=crop_size[0], width=crop_size[1])\n",
    "            augmented = aug(image=x, mask=y)\n",
    "            x1 = augmented['image']\n",
    "            y1 = augmented['mask']\n",
    "\n",
    "            ## Crop\n",
    "            x_min = 0\n",
    "            y_min = 0\n",
    "            x_max = x_min + size[0]\n",
    "            y_max = y_min + size[1]\n",
    "\n",
    "            aug = Crop(p=1, x_min=x_min, x_max=x_max, y_min=y_min, y_max=y_max)\n",
    "            augmented = aug(image=x, mask=y)\n",
    "            x2 = augmented['image']\n",
    "            y2 = augmented['mask']\n",
    "\n",
    "            ## Random Rotate 90 degree\n",
    "            aug = RandomRotate90(p=1)\n",
    "            augmented = aug(image=x, mask=y)\n",
    "            x3 = augmented['image']\n",
    "            y3 = augmented['mask']\n",
    "\n",
    "            ## Transpose\n",
    "            aug = Transpose(p=1)\n",
    "            augmented = aug(image=x, mask=y)\n",
    "            x4 = augmented['image']\n",
    "            y4 = augmented['mask']\n",
    "\n",
    "            ## ElasticTransform\n",
    "            aug = ElasticTransform(p=1, alpha=120, sigma=120 * 0.05, alpha_affine=120 * 0.03)\n",
    "            augmented = aug(image=x, mask=y)\n",
    "            x5 = augmented['image']\n",
    "            y5 = augmented['mask']\n",
    "\n",
    "            ## Grid Distortion\n",
    "            aug = GridDistortion(p=1)\n",
    "            augmented = aug(image=x, mask=y)\n",
    "            x6 = augmented['image']\n",
    "            y6 = augmented['mask']\n",
    "\n",
    "            ## Optical Distortion\n",
    "            aug = OpticalDistortion(p=1, distort_limit=2, shift_limit=0.5)\n",
    "            augmented = aug(image=x, mask=y)\n",
    "            x7 = augmented['image']\n",
    "            y7 = augmented['mask']\n",
    "\n",
    "            ## Vertical Flip\n",
    "            aug = VerticalFlip(p=1)\n",
    "            augmented = aug(image=x, mask=y)\n",
    "            x8 = augmented['image']\n",
    "            y8 = augmented['mask']\n",
    "\n",
    "            ## Horizontal Flip\n",
    "            aug = HorizontalFlip(p=1)\n",
    "            augmented = aug(image=x, mask=y)\n",
    "            x9 = augmented['image']\n",
    "            y9 = augmented['mask']\n",
    "\n",
    "            ## Grayscale\n",
    "            x10 = cv2.cvtColor(x, cv2.COLOR_RGB2GRAY)\n",
    "            y10 = y\n",
    "\n",
    "            ## Grayscale Vertical Flip\n",
    "            aug = VerticalFlip(p=1)\n",
    "            augmented = aug(image=x10, mask=y10)\n",
    "            x11 = augmented['image']\n",
    "            y11 = augmented['mask']\n",
    "\n",
    "            ## Grayscale Horizontal Flip\n",
    "            aug = HorizontalFlip(p=1)\n",
    "            augmented = aug(image=x10, mask=y10)\n",
    "            x12 = augmented['image']\n",
    "            y12 = augmented['mask']\n",
    "\n",
    "            ## Grayscale Center Crop\n",
    "            aug = CenterCrop(p=1, height=crop_size[0], width=crop_size[1])\n",
    "            augmented = aug(image=x10, mask=y10)\n",
    "            x13 = augmented['image']\n",
    "            y13 = augmented['mask']\n",
    "\n",
    "            ##\n",
    "            aug = RandomBrightnessContrast(p=1)\n",
    "            augmented = aug(image=x, mask=y)\n",
    "            x14 = augmented['image']\n",
    "            y14 = augmented['mask']\n",
    "\n",
    "            aug = RandomGamma(p=1)\n",
    "            augmented = aug(image=x, mask=y)\n",
    "            x15 = augmented['image']\n",
    "            y15 = augmented['mask']\n",
    "\n",
    "            aug = HueSaturationValue(p=1)\n",
    "            augmented = aug(image=x, mask=y)\n",
    "            x16 = augmented['image']\n",
    "            y16 = augmented['mask']\n",
    "\n",
    "            aug = RGBShift(p=1)\n",
    "            augmented = aug(image=x, mask=y)\n",
    "            x17 = augmented['image']\n",
    "            y17 = augmented['mask']\n",
    "\n",
    "            aug = MotionBlur(p=1, blur_limit=7)\n",
    "            augmented = aug(image=x, mask=y)\n",
    "            x20 = augmented['image']\n",
    "            y20 = augmented['mask']\n",
    "\n",
    "            aug = MedianBlur(p=1, blur_limit=9)\n",
    "            augmented = aug(image=x, mask=y)\n",
    "            x21 = augmented['image']\n",
    "            y21 = augmented['mask']\n",
    "\n",
    "            aug = GaussianBlur(p=1)\n",
    "            augmented = aug(image=x, mask=y)\n",
    "            x22 = augmented['image']\n",
    "            y22 = augmented['mask']\n",
    "\n",
    "            aug = GaussNoise(p=1)\n",
    "            augmented = aug(image=x, mask=y)\n",
    "            x23 = augmented['image']\n",
    "            y23 = augmented['mask']\n",
    "\n",
    "            aug = ChannelShuffle(p=1)\n",
    "            augmented = aug(image=x, mask=y)\n",
    "            x24 = augmented['image']\n",
    "            y24 = augmented['mask']\n",
    "\n",
    "            aug = CoarseDropout(p=1, max_holes=8, max_height=32, max_width=32)\n",
    "            augmented = aug(image=x, mask=y)\n",
    "            x25 = augmented['image']\n",
    "            y25 = augmented['mask']\n",
    "\n",
    "            temp_images.extend([\n",
    "                x, x1, x2, x3, x4, x5, x6, x7, x8, x9, x10,\n",
    "                x11, x12, x13, x14, x15, x16, x17, x21, x20,\n",
    "                x22, x23, x24, x25\n",
    "            ]) # ,\n",
    "            temp_masks.extend([\n",
    "                y, y1, y2, y3, y4, y5, y6, y7, y8, y9, y10,\n",
    "                y11, y12, y13, y14, y15, y16, y17, y21, y20,\n",
    "                y22, y23, y24, y25\n",
    "            ])\n",
    "\n",
    "        else:\n",
    "            temp_images = [x]\n",
    "            temp_masks  = [y]\n",
    "\n",
    "    for num, (i, m) in tqdm(enumerate(zip(temp_images, temp_masks), start=1),\n",
    "                            total=len(temp_images)):\n",
    "        i = cv2.resize(i, size)\n",
    "        m = cv2.resize(m, size)\n",
    "\n",
    "        image_path = Path(save_path) / Path(\"x\") / Path(f\"{num}.png\")\n",
    "        mask_path  = Path(save_path) / Path(\"y\") / Path(f\"{num}.png\")\n",
    "\n",
    "        cv2.imwrite(str(image_path), i)\n",
    "        cv2.imwrite(str(mask_path), m)\n"
   ],
   "metadata": {
    "collapsed": false,
    "pycharm": {
     "name": "#%%\n"
    }
   }
  },
  {
   "cell_type": "code",
   "execution_count": 6,
   "outputs": [],
   "source": [
    "def file_sort(file_list: list):\n",
    "        return sorted(file_list, key=lambda x: x.stem)\n",
    "\n",
    "def get_data():\n",
    "    creat_dir(Path(\"./data/train/x\"))\n",
    "    creat_dir(Path(\"./data/train/y\"))\n",
    "    creat_dir(Path(\"./data/valid/x\"))\n",
    "    creat_dir(Path(\"./data/valid/y\"))\n",
    "\n",
    "    x = Path(\"raw_data/train/Original\").glob(\"*.png\")\n",
    "    y = Path(\"raw_data/train/Ground Truth\").glob(\"*.png\")\n",
    "    x = file_sort([i for i in x])\n",
    "    y = file_sort([i for i in y])\n",
    "    train_x, test_x, train_y, test_y = train_test_split(x, y, test_size=0.1)\n",
    "    return  train_x, test_x, train_y, test_y"
   ],
   "metadata": {
    "collapsed": false,
    "pycharm": {
     "name": "#%%\n"
    }
   }
  },
  {
   "cell_type": "code",
   "execution_count": 18,
   "outputs": [],
   "source": [
    "train_img, test_img, train_mask, test_mask = get_data()"
   ],
   "metadata": {
    "collapsed": false,
    "pycharm": {
     "name": "#%%\n"
    }
   }
  },
  {
   "cell_type": "code",
   "execution_count": 19,
   "outputs": [
    {
     "name": "stderr",
     "output_type": "stream",
     "text": [
      "100%|██████████| 550/550 [00:55<00:00,  9.95it/s]\n",
      "100%|██████████| 13200/13200 [01:53<00:00, 116.02it/s]\n",
      "100%|██████████| 62/62 [00:07<00:00,  8.36it/s]\n",
      "100%|██████████| 1488/1488 [00:08<00:00, 181.07it/s]\n"
     ]
    }
   ],
   "source": [
    "deal_img(train_img, train_mask, save_path=\"data/train\")\n",
    "deal_img(test_img, test_mask, save_path=\"data/valid\")"
   ],
   "metadata": {
    "collapsed": false,
    "pycharm": {
     "name": "#%%\n"
    }
   }
  },
  {
   "cell_type": "code",
   "execution_count": 7,
   "outputs": [],
   "source": [
    "def deal_test_data():\n",
    "    creat_dir(Path(\"./data/test/x\"))\n",
    "    creat_dir(Path(\"./data/test/y\"))\n",
    "\n",
    "    x_list = Path(\"raw_data/test/Original\").glob(\"*.tif\")\n",
    "    y_list = Path(\"raw_data/test/Ground Truth\").glob(\"*.tif\")\n",
    "    x_list = file_sort([i for i in x_list])\n",
    "    y_list = file_sort([i for i in y_list])\n",
    "\n",
    "    def convert_img(img_name: str, file_path: str):\n",
    "        img_name = Path(img_name)\n",
    "        img = cv2.resize(cv2.imread(str(img_name), cv2.IMREAD_COLOR), (256, 192))\n",
    "        cv2.imwrite(f\"{file_path}/{str(img_name.stem)}.png\", img)\n",
    "    temp_x = map(convert_img, x_list, [\"data/test/x\"] * len(x_list))\n",
    "    _ = [i for i in temp_x]\n",
    "    temp_y = map(convert_img, y_list, [\"data/test/y\"] * len(y_list))\n",
    "    _ = [i for i in temp_y]\n",
    "\n",
    "deal_test_data()"
   ],
   "metadata": {
    "collapsed": false,
    "pycharm": {
     "name": "#%%\n"
    }
   }
  }
 ],
 "metadata": {
  "kernelspec": {
   "display_name": "Python 3",
   "language": "python",
   "name": "python3"
  },
  "language_info": {
   "codemirror_mode": {
    "name": "ipython",
    "version": 2
   },
   "file_extension": ".py",
   "mimetype": "text/x-python",
   "name": "python",
   "nbconvert_exporter": "python",
   "pygments_lexer": "ipython2",
   "version": "2.7.6"
  }
 },
 "nbformat": 4,
 "nbformat_minor": 0
}