{
 "cells": [
  {
   "cell_type": "code",
   "execution_count": 26,
   "metadata": {
    "collapsed": true
   },
   "outputs": [],
   "source": [
    "from tensorflow.keras import Model\n",
    "from tensorflow.keras.layers import Conv2D, Dense, ReLU, GlobalAveragePooling2D, Input, Flatten, Conv1D, Layer\n",
    "from tensorflow import random, Variable, add, multiply, transpose, Tensor, reshape\n",
    "from tensorflow.keras.datasets import mnist\n",
    "from tensorflow.keras.backend import sigmoid, softmax\n",
    "from tensorflow.keras.losses import SparseCategoricalCrossentropy\n",
    "from tensorflow.keras.optimizers import SGD"
   ]
  },
  {
   "cell_type": "code",
   "execution_count": 27,
   "outputs": [],
   "source": [
    "class Weight(Layer):\n",
    "    \"\"\"\n",
    "    sECAnet的select权重设计\n",
    "\n",
    "    \"\"\"\n",
    "    def __init__(self):\n",
    "        super(Weight, self).__init__()\n",
    "        self.weight = Variable(random.uniform([1], 0, 1), trainable=True, name=\"se-W\")\n",
    "\n",
    "    def call(self, inputs, *args, **kwargs):\n",
    "        return inputs[0] * self.weight + (1. - self.weight) * inputs[1]\n",
    "\n",
    "\n",
    "def channel_shuffle(input_tensor: Tensor, group_num: int = 2) -> Tensor:\n",
    "    \"\"\"\n",
    "    参考：https://blog.csdn.net/baidu_23388287/article/details/94456951\n",
    "         https://blog.csdn.net/qq_36758914/article/details/106967780\n",
    "\n",
    "    :param input_tensor: 输入特征图数据\n",
    "    :param group_num: 分组\n",
    "    :return:\n",
    "    \"\"\"\n",
    "    batch_size, h, w, channel = input_tensor.get_shape()\n",
    "    # 注意下面的//一定要整除\n",
    "    input_reshaped = reshape(input_tensor, [-1, h, w, group_num, channel // group_num])\n",
    "    input_transpose = transpose(input_reshaped, [0, 1, 2, 4, 3])\n",
    "    return reshape(input_transpose, [-1, h, w, channel])\n",
    "\n",
    "\n",
    "def sECAnet(input_shape: tuple[int, int, int], classes: int) -> Model:\n",
    "    \"\"\"\n",
    "    sECAnet构建\n",
    "\n",
    "    :param input_shape: 输入形状\n",
    "    :param classes: 分类数\n",
    "    :return: sECAnet\n",
    "    \"\"\"\n",
    "    x = Input(shape=input_shape)\n",
    "    y = Conv2D(filters=64, kernel_size=(3, 3), padding=\"same\")(x)\n",
    "    y = Conv2D(filters=128, kernel_size=(3, 3), padding=\"same\")(y)\n",
    "    y_ = Conv2D(filters=256, kernel_size=(3, 3), padding=\"same\")(y)\n",
    "    # 注意力1\n",
    "    a1 = GlobalAveragePooling2D(keepdims=True)(y_)\n",
    "    # 打乱\n",
    "    a1 = channel_shuffle(a1)\n",
    "    a1 = Conv1D(filters=a1.shape[-1], kernel_size=3, padding=\"same\")(a1)\n",
    "    a1 = sigmoid(a1)\n",
    "    # 注意力2\n",
    "    a2 = GlobalAveragePooling2D(keepdims=True)(y_)\n",
    "    a2 = Conv1D(filters=a2.shape[-1], kernel_size=3, padding=\"same\")(a2)\n",
    "    a2 = sigmoid(a2)\n",
    "    # select\n",
    "\n",
    "    attention_v = Weight()((a1, a2))\n",
    "    # 相乘\n",
    "    y = multiply(attention_v, y_)\n",
    "\n",
    "    y = Flatten()(y)\n",
    "    y = Dense(512)(y)\n",
    "    y = ReLU()(y)\n",
    "    y = Dense(classes)(y)\n",
    "    y = softmax(y)\n",
    "    return Model(x, y)"
   ],
   "metadata": {
    "collapsed": false,
    "pycharm": {
     "name": "#%%\n"
    }
   }
  },
  {
   "cell_type": "code",
   "execution_count": 28,
   "outputs": [
    {
     "name": "stdout",
     "output_type": "stream",
     "text": [
      "Model: \"model_4\"\n",
      "__________________________________________________________________________________________________\n",
      "Layer (type)                    Output Shape         Param #     Connected to                     \n",
      "==================================================================================================\n",
      "input_5 (InputLayer)            [(None, 28, 28, 1)]  0                                            \n",
      "__________________________________________________________________________________________________\n",
      "conv2d_12 (Conv2D)              (None, 28, 28, 64)   640         input_5[0][0]                    \n",
      "__________________________________________________________________________________________________\n",
      "conv2d_13 (Conv2D)              (None, 28, 28, 128)  73856       conv2d_12[0][0]                  \n",
      "__________________________________________________________________________________________________\n",
      "conv2d_14 (Conv2D)              (None, 28, 28, 256)  295168      conv2d_13[0][0]                  \n",
      "__________________________________________________________________________________________________\n",
      "global_average_pooling2d_8 (Glo (None, 1, 1, 256)    0           conv2d_14[0][0]                  \n",
      "__________________________________________________________________________________________________\n",
      "tf.reshape_8 (TFOpLambda)       (None, 1, 1, 2, 128) 0           global_average_pooling2d_8[0][0] \n",
      "__________________________________________________________________________________________________\n",
      "tf.compat.v1.transpose_4 (TFOpL (None, 1, 1, 128, 2) 0           tf.reshape_8[0][0]               \n",
      "__________________________________________________________________________________________________\n",
      "tf.reshape_9 (TFOpLambda)       (None, 1, 1, 256)    0           tf.compat.v1.transpose_4[0][0]   \n",
      "__________________________________________________________________________________________________\n",
      "global_average_pooling2d_9 (Glo (None, 1, 1, 256)    0           conv2d_14[0][0]                  \n",
      "__________________________________________________________________________________________________\n",
      "conv1d_8 (Conv1D)               (None, 1, 1, 256)    196864      tf.reshape_9[0][0]               \n",
      "__________________________________________________________________________________________________\n",
      "conv1d_9 (Conv1D)               (None, 1, 1, 256)    196864      global_average_pooling2d_9[0][0] \n",
      "__________________________________________________________________________________________________\n",
      "tf.math.sigmoid_8 (TFOpLambda)  (None, 1, 1, 256)    0           conv1d_8[0][0]                   \n",
      "__________________________________________________________________________________________________\n",
      "tf.math.sigmoid_9 (TFOpLambda)  (None, 1, 1, 256)    0           conv1d_9[0][0]                   \n",
      "__________________________________________________________________________________________________\n",
      "weight_3 (Weight)               (None, 1, 1, 256)    1           tf.math.sigmoid_8[0][0]          \n",
      "                                                                 tf.math.sigmoid_9[0][0]          \n",
      "__________________________________________________________________________________________________\n",
      "tf.math.multiply_6 (TFOpLambda) (None, 28, 28, 256)  0           weight_3[0][0]                   \n",
      "                                                                 conv2d_14[0][0]                  \n",
      "__________________________________________________________________________________________________\n",
      "flatten_4 (Flatten)             (None, 200704)       0           tf.math.multiply_6[0][0]         \n",
      "__________________________________________________________________________________________________\n",
      "dense_8 (Dense)                 (None, 512)          102760960   flatten_4[0][0]                  \n",
      "__________________________________________________________________________________________________\n",
      "re_lu_4 (ReLU)                  (None, 512)          0           dense_8[0][0]                    \n",
      "__________________________________________________________________________________________________\n",
      "dense_9 (Dense)                 (None, 10)           5130        re_lu_4[0][0]                    \n",
      "__________________________________________________________________________________________________\n",
      "tf.nn.softmax_4 (TFOpLambda)    (None, 10)           0           dense_9[0][0]                    \n",
      "==================================================================================================\n",
      "Total params: 103,529,483\n",
      "Trainable params: 103,529,483\n",
      "Non-trainable params: 0\n",
      "__________________________________________________________________________________________________\n"
     ]
    }
   ],
   "source": [
    "snet = sECAnet((28, 28, 1), 10)\n",
    "snet.summary()"
   ],
   "metadata": {
    "collapsed": false,
    "pycharm": {
     "name": "#%%\n"
    }
   }
  },
  {
   "cell_type": "code",
   "execution_count": 29,
   "outputs": [],
   "source": [
    "\n",
    "def data_load():\n",
    "    (x_train, y_train), (x_test, y_test) = mnist.load_data()\n",
    "    x_train = x_train / 255.\n",
    "    x_test = x_test / 255.\n",
    "    return (x_train, y_train), (x_test, y_test)"
   ],
   "metadata": {
    "collapsed": false,
    "pycharm": {
     "name": "#%%\n"
    }
   }
  },
  {
   "cell_type": "code",
   "execution_count": 30,
   "outputs": [
    {
     "name": "stdout",
     "output_type": "stream",
     "text": [
      "<tf.Variable 'se-W:0' shape=(1,) dtype=float32, numpy=array([0.93617487], dtype=float32)>\n",
      "Epoch 1/2\n",
      "938/938 [==============================] - 68s 72ms/step - loss: 1.2853 - acc: 0.7399 - val_loss: 0.4081 - val_acc: 0.8885\n",
      "Epoch 2/2\n",
      "938/938 [==============================] - 68s 72ms/step - loss: 0.3644 - acc: 0.8960 - val_loss: 0.3079 - val_acc: 0.9127\n",
      "<tf.Variable 'se-W:0' shape=(1,) dtype=float32, numpy=array([0.9363292], dtype=float32)>\n"
     ]
    }
   ],
   "source": [
    "sgd = SGD(learning_rate=0.001)\n",
    "(x_train, y_train), (x_test, y_test) = data_load()\n",
    "snet.compile(optimizer=sgd, loss=SparseCategoricalCrossentropy(), metrics=['acc'])\n",
    "snet.fit(x=x_train, y=y_train, validation_data=(x_test, y_test), batch_size=64, epochs=2, verbose=1)"
   ],
   "metadata": {
    "collapsed": false,
    "pycharm": {
     "name": "#%%\n"
    }
   }
  },
  {
   "cell_type": "code",
   "execution_count": 30,
   "outputs": [],
   "source": [],
   "metadata": {
    "collapsed": false,
    "pycharm": {
     "name": "#%%\n"
    }
   }
  }
 ],
 "metadata": {
  "kernelspec": {
   "display_name": "Python 3",
   "language": "python",
   "name": "python3"
  },
  "language_info": {
   "codemirror_mode": {
    "name": "ipython",
    "version": 2
   },
   "file_extension": ".py",
   "mimetype": "text/x-python",
   "name": "python",
   "nbconvert_exporter": "python",
   "pygments_lexer": "ipython2",
   "version": "2.7.6"
  }
 },
 "nbformat": 4,
 "nbformat_minor": 0
}