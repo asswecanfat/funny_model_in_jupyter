{
 "cells": [
  {
   "cell_type": "code",
   "execution_count": 1,
   "metadata": {
    "collapsed": true
   },
   "outputs": [],
   "source": [
    "from tensorflow.keras import Model\n",
    "from tensorflow.keras.layers import Conv2D, Dense, ReLU, GlobalAveragePooling2D, Input, Flatten, Conv1D\n",
    "from tensorflow import random, Variable, add, multiply, transpose, Tensor, reshape\n",
    "from tensorflow.keras.datasets import mnist\n",
    "from tensorflow.keras.backend import sigmoid, softmax\n",
    "from tensorflow.keras.losses import SparseCategoricalCrossentropy\n",
    "from tensorflow.keras.optimizers import SGD"
   ]
  },
  {
   "cell_type": "code",
   "execution_count": 2,
   "outputs": [],
   "source": [
    "def channel_shuffle(input_tensor: Tensor, group_num: int = 2):\n",
    "    \"\"\"\n",
    "    参考：https://blog.csdn.net/baidu_23388287/article/details/94456951\n",
    "         https://blog.csdn.net/qq_36758914/article/details/106967780\n",
    "\n",
    "    :param input_tensor:\n",
    "    :param group_num:\n",
    "    :return:\n",
    "    \"\"\"\n",
    "    batch_size, h, w, channel = input_tensor.get_shape()\n",
    "    input_reshaped = reshape(input_tensor, [-1, h, w, group_num, channel // group_num])\n",
    "    input_transpose = transpose(input_reshaped, [0, 1, 2, 4, 3])\n",
    "    return reshape(input_transpose, [-1, h, w, channel])\n",
    "\n",
    "def sECAnet(input_shape: tuple, classes: int):\n",
    "    x = Input(shape=input_shape)\n",
    "    y = Conv2D(filters=64, kernel_size=(3, 3), padding=\"same\")(x)\n",
    "    y = Conv2D(filters=128, kernel_size=(3, 3), padding=\"same\")(y)\n",
    "    y_ = Conv2D(filters=256, kernel_size=(3, 3), padding=\"same\")(y)\n",
    "    # 注意力1\n",
    "    a1 = GlobalAveragePooling2D(keepdims=True)(y_)\n",
    "    # 打乱\n",
    "    a1 = channel_shuffle(a1)\n",
    "    a1 = Conv1D(filters=a1.shape[-1], kernel_size=3, padding=\"same\")(a1)\n",
    "    a1 = sigmoid(a1)\n",
    "    # 注意力2\n",
    "    a2 = GlobalAveragePooling2D(keepdims=True)(y_)\n",
    "    a2 = Conv1D(filters=a2.shape[-1], kernel_size=3, padding=\"same\")(a2)\n",
    "    a2 = sigmoid(a2)\n",
    "    # select\n",
    "    weight = Variable(random.uniform([1], 0, 1), trainable=True)\n",
    "    attention_v = add(weight * a1, (1. - weight) * a2)\n",
    "    # 相乘\n",
    "    y = multiply(attention_v, y_)\n",
    "\n",
    "    y = Flatten()(y)\n",
    "    y = Dense(512)(y)\n",
    "    y = ReLU()(y)\n",
    "    y = Dense(classes)(y)\n",
    "    y = softmax(y)\n",
    "    return Model(x, y)"
   ],
   "metadata": {
    "collapsed": false,
    "pycharm": {
     "name": "#%%\n"
    }
   }
  },
  {
   "cell_type": "code",
   "execution_count": 3,
   "outputs": [
    {
     "name": "stdout",
     "output_type": "stream",
     "text": [
      "Model: \"model\"\n",
      "__________________________________________________________________________________________________\n",
      "Layer (type)                    Output Shape         Param #     Connected to                     \n",
      "==================================================================================================\n",
      "input_1 (InputLayer)            [(None, 28, 28, 1)]  0                                            \n",
      "__________________________________________________________________________________________________\n",
      "conv2d (Conv2D)                 (None, 28, 28, 64)   640         input_1[0][0]                    \n",
      "__________________________________________________________________________________________________\n",
      "conv2d_1 (Conv2D)               (None, 28, 28, 128)  73856       conv2d[0][0]                     \n",
      "__________________________________________________________________________________________________\n",
      "conv2d_2 (Conv2D)               (None, 28, 28, 256)  295168      conv2d_1[0][0]                   \n",
      "__________________________________________________________________________________________________\n",
      "global_average_pooling2d (Globa (None, 1, 1, 256)    0           conv2d_2[0][0]                   \n",
      "__________________________________________________________________________________________________\n",
      "tf.reshape (TFOpLambda)         (None, 1, 1, 2, 128) 0           global_average_pooling2d[0][0]   \n",
      "__________________________________________________________________________________________________\n",
      "tf.compat.v1.transpose (TFOpLam (None, 1, 1, 128, 2) 0           tf.reshape[0][0]                 \n",
      "__________________________________________________________________________________________________\n",
      "tf.reshape_1 (TFOpLambda)       (None, 1, 1, 256)    0           tf.compat.v1.transpose[0][0]     \n",
      "__________________________________________________________________________________________________\n",
      "global_average_pooling2d_1 (Glo (None, 1, 1, 256)    0           conv2d_2[0][0]                   \n",
      "__________________________________________________________________________________________________\n",
      "conv1d (Conv1D)                 (None, 1, 1, 256)    196864      tf.reshape_1[0][0]               \n",
      "__________________________________________________________________________________________________\n",
      "conv1d_1 (Conv1D)               (None, 1, 1, 256)    196864      global_average_pooling2d_1[0][0] \n",
      "__________________________________________________________________________________________________\n",
      "tf.math.sigmoid (TFOpLambda)    (None, 1, 1, 256)    0           conv1d[0][0]                     \n",
      "__________________________________________________________________________________________________\n",
      "tf.math.sigmoid_1 (TFOpLambda)  (None, 1, 1, 256)    0           conv1d_1[0][0]                   \n",
      "__________________________________________________________________________________________________\n",
      "tf.math.multiply (TFOpLambda)   (None, 1, 1, 256)    0           tf.math.sigmoid[0][0]            \n",
      "__________________________________________________________________________________________________\n",
      "tf.math.multiply_1 (TFOpLambda) (None, 1, 1, 256)    0           tf.math.sigmoid_1[0][0]          \n",
      "__________________________________________________________________________________________________\n",
      "tf.math.add (TFOpLambda)        (None, 1, 1, 256)    0           tf.math.multiply[0][0]           \n",
      "                                                                 tf.math.multiply_1[0][0]         \n",
      "__________________________________________________________________________________________________\n",
      "tf.math.multiply_2 (TFOpLambda) (None, 28, 28, 256)  0           tf.math.add[0][0]                \n",
      "                                                                 conv2d_2[0][0]                   \n",
      "__________________________________________________________________________________________________\n",
      "flatten (Flatten)               (None, 200704)       0           tf.math.multiply_2[0][0]         \n",
      "__________________________________________________________________________________________________\n",
      "dense (Dense)                   (None, 512)          102760960   flatten[0][0]                    \n",
      "__________________________________________________________________________________________________\n",
      "re_lu (ReLU)                    (None, 512)          0           dense[0][0]                      \n",
      "__________________________________________________________________________________________________\n",
      "dense_1 (Dense)                 (None, 10)           5130        re_lu[0][0]                      \n",
      "__________________________________________________________________________________________________\n",
      "tf.nn.softmax (TFOpLambda)      (None, 10)           0           dense_1[0][0]                    \n",
      "==================================================================================================\n",
      "Total params: 103,529,482\n",
      "Trainable params: 103,529,482\n",
      "Non-trainable params: 0\n",
      "__________________________________________________________________________________________________\n"
     ]
    }
   ],
   "source": [
    "snet = sECAnet((28, 28, 1), 10)\n",
    "snet.summary()"
   ],
   "metadata": {
    "collapsed": false,
    "pycharm": {
     "name": "#%%\n"
    }
   }
  },
  {
   "cell_type": "code",
   "execution_count": 4,
   "outputs": [],
   "source": [
    "\n",
    "def data_load():\n",
    "    (x_train, y_train), (x_test, y_test) = mnist.load_data()\n",
    "    x_train = x_train / 255.\n",
    "    x_test = x_test / 255.\n",
    "    return (x_train, y_train), (x_test, y_test)"
   ],
   "metadata": {
    "collapsed": false,
    "pycharm": {
     "name": "#%%\n"
    }
   }
  },
  {
   "cell_type": "code",
   "execution_count": 5,
   "outputs": [
    {
     "name": "stdout",
     "output_type": "stream",
     "text": [
      "Epoch 1/20\n",
      "938/938 [==============================] - 600s 633ms/step - loss: 1.2419 - acc: 0.7549 - val_loss: 0.3971 - val_acc: 0.8903\n",
      "Epoch 2/20\n",
      "938/938 [==============================] - 590s 629ms/step - loss: 0.3572 - acc: 0.8974 - val_loss: 0.3044 - val_acc: 0.9144\n",
      "Epoch 3/20\n",
      "938/938 [==============================] - 590s 630ms/step - loss: 0.2938 - acc: 0.9152 - val_loss: 0.2552 - val_acc: 0.9277\n",
      "Epoch 4/20\n",
      "938/938 [==============================] - 590s 629ms/step - loss: 0.2544 - acc: 0.9269 - val_loss: 0.2253 - val_acc: 0.9351\n",
      "Epoch 5/20\n",
      "938/938 [==============================] - 590s 629ms/step - loss: 0.2231 - acc: 0.9351 - val_loss: 0.2024 - val_acc: 0.9437\n",
      "Epoch 6/20\n",
      "938/938 [==============================] - 590s 629ms/step - loss: 0.1980 - acc: 0.9422 - val_loss: 0.1747 - val_acc: 0.9484\n",
      "Epoch 7/20\n",
      "938/938 [==============================] - 590s 629ms/step - loss: 0.1770 - acc: 0.9482 - val_loss: 0.1615 - val_acc: 0.9530\n",
      "Epoch 8/20\n",
      "938/938 [==============================] - 590s 629ms/step - loss: 0.1605 - acc: 0.9527 - val_loss: 0.1468 - val_acc: 0.9572\n",
      "Epoch 9/20\n",
      "938/938 [==============================] - 590s 629ms/step - loss: 0.1456 - acc: 0.9577 - val_loss: 0.1363 - val_acc: 0.9604\n",
      "Epoch 10/20\n",
      "938/938 [==============================] - 590s 629ms/step - loss: 0.1344 - acc: 0.9611 - val_loss: 0.1269 - val_acc: 0.9616\n",
      "Epoch 11/20\n",
      "938/938 [==============================] - 590s 629ms/step - loss: 0.1237 - acc: 0.9639 - val_loss: 0.1185 - val_acc: 0.9640\n",
      "Epoch 12/20\n",
      "938/938 [==============================] - 589s 628ms/step - loss: 0.1142 - acc: 0.9668 - val_loss: 0.1170 - val_acc: 0.9633\n",
      "Epoch 13/20\n",
      "938/938 [==============================] - 590s 629ms/step - loss: 0.1066 - acc: 0.9682 - val_loss: 0.1091 - val_acc: 0.9678\n",
      "Epoch 14/20\n",
      "938/938 [==============================] - 590s 629ms/step - loss: 0.1002 - acc: 0.9699 - val_loss: 0.1008 - val_acc: 0.9700\n",
      "Epoch 15/20\n",
      "938/938 [==============================] - 590s 629ms/step - loss: 0.0942 - acc: 0.9718 - val_loss: 0.1013 - val_acc: 0.9698\n",
      "Epoch 16/20\n",
      "938/938 [==============================] - 590s 629ms/step - loss: 0.0886 - acc: 0.9737 - val_loss: 0.0954 - val_acc: 0.9714\n",
      "Epoch 17/20\n",
      "938/938 [==============================] - 590s 629ms/step - loss: 0.0839 - acc: 0.9746 - val_loss: 0.0851 - val_acc: 0.9736\n",
      "Epoch 18/20\n",
      "938/938 [==============================] - 590s 629ms/step - loss: 0.0794 - acc: 0.9759 - val_loss: 0.0869 - val_acc: 0.9734\n",
      "Epoch 19/20\n",
      "938/938 [==============================] - 590s 629ms/step - loss: 0.0750 - acc: 0.9776 - val_loss: 0.0818 - val_acc: 0.9748\n",
      "Epoch 20/20\n",
      "938/938 [==============================] - 592s 631ms/step - loss: 0.0716 - acc: 0.9786 - val_loss: 0.0865 - val_acc: 0.9747\n"
     ]
    },
    {
     "data": {
      "text/plain": "<keras.callbacks.History at 0x27d7fbde400>"
     },
     "execution_count": 5,
     "metadata": {},
     "output_type": "execute_result"
    }
   ],
   "source": [
    "sgd = SGD(learning_rate=0.001)\n",
    "(x_train, y_train), (x_test, y_test) = data_load()\n",
    "snet.compile(optimizer=sgd, loss=SparseCategoricalCrossentropy(), metrics=['acc'])\n",
    "snet.fit(x=x_train, y=y_train, validation_data=(x_test, y_test), batch_size=64, epochs=20, verbose=1)"
   ],
   "metadata": {
    "collapsed": false,
    "pycharm": {
     "name": "#%%\n"
    }
   }
  }
 ],
 "metadata": {
  "kernelspec": {
   "display_name": "Python 3",
   "language": "python",
   "name": "python3"
  },
  "language_info": {
   "codemirror_mode": {
    "name": "ipython",
    "version": 2
   },
   "file_extension": ".py",
   "mimetype": "text/x-python",
   "name": "python",
   "nbconvert_exporter": "python",
   "pygments_lexer": "ipython2",
   "version": "2.7.6"
  }
 },
 "nbformat": 4,
 "nbformat_minor": 0
}