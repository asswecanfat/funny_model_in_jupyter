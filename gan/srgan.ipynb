{
 "cells": [
  {
   "cell_type": "code",
   "execution_count": 10,
   "metadata": {
    "collapsed": true
   },
   "outputs": [],
   "source": [
    "import cv2\n",
    "import numpy as np\n",
    "import matplotlib.pyplot as plt\n",
    "\n",
    "from pathlib import Path\n",
    "from typing import Generator, Union\n",
    "from tensorflow import Tensor, GradientTape, function, concat, ones, zeros, random, cast, constant\n",
    "from tensorflow.keras.layers import Conv2D, BatchNormalization, add, Input, UpSampling2D, LeakyReLU, Dense, PReLU\n",
    "from tensorflow.keras.models import Model\n",
    "from tensorflow.keras.backend import sigmoid\n",
    "from tensorflow.keras.applications import VGG19\n",
    "from tensorflow.keras.applications.vgg19 import preprocess_input\n",
    "from tensorflow.keras.losses import BinaryCrossentropy, mean_squared_error\n",
    "from tensorflow.keras.optimizers import Adam"
   ]
  },
  {
   "cell_type": "code",
   "execution_count": 11,
   "outputs": [],
   "source": [
    "def generator_net(input_shape: tuple, res_num: int = 1) -> Model:\n",
    "    \"\"\"\n",
    "    Srgan生成器网络\n",
    "\n",
    "    :param input_shape: 输入图像形状\n",
    "    :param res_num: 残差块个数\n",
    "    :return: 生成器网络\n",
    "    \"\"\"\n",
    "\n",
    "    def res_block(y_) -> Tensor:\n",
    "        \"\"\"\n",
    "        残差网络块\n",
    "\n",
    "        :param y_: 输入\n",
    "        :return:\n",
    "        \"\"\"\n",
    "        for i in range(res_num):\n",
    "            _y = Conv2D(filters=64, kernel_size=(3, 3), padding=\"same\")(y_)\n",
    "            _y = BatchNormalization()(_y)\n",
    "            _y = PReLU()(_y)\n",
    "            _y = Conv2D(filters=64, kernel_size=(3, 3), padding=\"same\")(_y)\n",
    "            _y = BatchNormalization()(_y)\n",
    "            y_ = add([_y, y_])\n",
    "        return y_\n",
    "\n",
    "    x = Input(shape=input_shape)\n",
    "\n",
    "    # head\n",
    "    y = Conv2D(filters=64, kernel_size=(3, 3), padding=\"same\")(x)\n",
    "    y = PReLU()(y)\n",
    "\n",
    "    # body\n",
    "    y_ = res_block(y)\n",
    "\n",
    "    y_ = Conv2D(filters=64, kernel_size=(3, 3), padding=\"same\")(y_)\n",
    "    y_ = BatchNormalization()(y_)\n",
    "    y = add([y_, y])\n",
    "\n",
    "    # leg\n",
    "    y = Conv2D(filters=256, kernel_size=(3, 3), padding=\"same\")(y)\n",
    "    y = UpSampling2D(size=2)(y)\n",
    "    y = PReLU()(y)\n",
    "\n",
    "    y = Conv2D(filters=256, kernel_size=(3, 3), padding=\"same\")(y)\n",
    "    y = UpSampling2D(size=2)(y)\n",
    "    y = PReLU()(y)\n",
    "\n",
    "    y = Conv2D(filters=input_shape[-1], kernel_size=(3, 3), padding=\"same\")(y)\n",
    "    return Model(inputs=x, outputs=y)"
   ],
   "metadata": {
    "collapsed": false,
    "pycharm": {
     "name": "#%%\n"
    }
   }
  },
  {
   "cell_type": "code",
   "execution_count": 12,
   "outputs": [],
   "source": [
    "def discriminator_net(input_shape: tuple) -> Model:\n",
    "    \"\"\"\n",
    "    判决器网络\n",
    "\n",
    "    :param input_shape: 图片输入形状\n",
    "    :return: 判决器网络\n",
    "    \"\"\"\n",
    "    x = Input(shape=input_shape)\n",
    "\n",
    "    y = Conv2D(filters=64, kernel_size=(3, 3), padding=\"same\")(x)\n",
    "    y = LeakyReLU()(y)\n",
    "\n",
    "    y = Conv2D(filters=64, kernel_size=(3, 3), padding=\"same\", strides=2)(y)\n",
    "    y = LeakyReLU()(y)\n",
    "    y = BatchNormalization()(y)\n",
    "\n",
    "    y = Conv2D(filters=128, kernel_size=(3, 3), padding=\"same\", strides=2)(y)\n",
    "    y = LeakyReLU()(y)\n",
    "    y = BatchNormalization()(y)\n",
    "    y = Conv2D(filters=256, kernel_size=(3, 3), padding=\"same\", strides=2)(y)\n",
    "    y = LeakyReLU()(y)\n",
    "    y = BatchNormalization()(y)\n",
    "\n",
    "    y = Dense(512)(y)\n",
    "    y = LeakyReLU()(y)\n",
    "    y = Dense(1)(y)\n",
    "    y = sigmoid(y)\n",
    "    return Model(inputs=x, outputs=y)"
   ],
   "metadata": {
    "collapsed": false,
    "pycharm": {
     "name": "#%%\n"
    }
   }
  },
  {
   "cell_type": "code",
   "execution_count": 13,
   "outputs": [
    {
     "name": "stdout",
     "output_type": "stream",
     "text": [
      "Model: \"model_2\"\n",
      "__________________________________________________________________________________________________\n",
      "Layer (type)                    Output Shape         Param #     Connected to                     \n",
      "==================================================================================================\n",
      "input_4 (InputLayer)            [(None, 32, 32, 3)]  0                                            \n",
      "__________________________________________________________________________________________________\n",
      "conv2d_11 (Conv2D)              (None, 32, 32, 64)   1792        input_4[0][0]                    \n",
      "__________________________________________________________________________________________________\n",
      "p_re_lu_4 (PReLU)               (None, 32, 32, 64)   65536       conv2d_11[0][0]                  \n",
      "__________________________________________________________________________________________________\n",
      "conv2d_12 (Conv2D)              (None, 32, 32, 64)   36928       p_re_lu_4[0][0]                  \n",
      "__________________________________________________________________________________________________\n",
      "batch_normalization_6 (BatchNor (None, 32, 32, 64)   256         conv2d_12[0][0]                  \n",
      "__________________________________________________________________________________________________\n",
      "p_re_lu_5 (PReLU)               (None, 32, 32, 64)   65536       batch_normalization_6[0][0]      \n",
      "__________________________________________________________________________________________________\n",
      "conv2d_13 (Conv2D)              (None, 32, 32, 64)   36928       p_re_lu_5[0][0]                  \n",
      "__________________________________________________________________________________________________\n",
      "batch_normalization_7 (BatchNor (None, 32, 32, 64)   256         conv2d_13[0][0]                  \n",
      "__________________________________________________________________________________________________\n",
      "add_2 (Add)                     (None, 32, 32, 64)   0           batch_normalization_7[0][0]      \n",
      "                                                                 p_re_lu_4[0][0]                  \n",
      "__________________________________________________________________________________________________\n",
      "conv2d_14 (Conv2D)              (None, 32, 32, 64)   36928       add_2[0][0]                      \n",
      "__________________________________________________________________________________________________\n",
      "batch_normalization_8 (BatchNor (None, 32, 32, 64)   256         conv2d_14[0][0]                  \n",
      "__________________________________________________________________________________________________\n",
      "add_3 (Add)                     (None, 32, 32, 64)   0           batch_normalization_8[0][0]      \n",
      "                                                                 p_re_lu_4[0][0]                  \n",
      "__________________________________________________________________________________________________\n",
      "conv2d_15 (Conv2D)              (None, 32, 32, 256)  147712      add_3[0][0]                      \n",
      "__________________________________________________________________________________________________\n",
      "up_sampling2d_2 (UpSampling2D)  (None, 64, 64, 256)  0           conv2d_15[0][0]                  \n",
      "__________________________________________________________________________________________________\n",
      "p_re_lu_6 (PReLU)               (None, 64, 64, 256)  1048576     up_sampling2d_2[0][0]            \n",
      "__________________________________________________________________________________________________\n",
      "conv2d_16 (Conv2D)              (None, 64, 64, 256)  590080      p_re_lu_6[0][0]                  \n",
      "__________________________________________________________________________________________________\n",
      "up_sampling2d_3 (UpSampling2D)  (None, 128, 128, 256 0           conv2d_16[0][0]                  \n",
      "__________________________________________________________________________________________________\n",
      "p_re_lu_7 (PReLU)               (None, 128, 128, 256 4194304     up_sampling2d_3[0][0]            \n",
      "__________________________________________________________________________________________________\n",
      "conv2d_17 (Conv2D)              (None, 128, 128, 3)  6915        p_re_lu_7[0][0]                  \n",
      "==================================================================================================\n",
      "Total params: 6,232,003\n",
      "Trainable params: 6,231,619\n",
      "Non-trainable params: 384\n",
      "__________________________________________________________________________________________________\n"
     ]
    }
   ],
   "source": [
    "gen = generator_net((32, 32, 3))\n",
    "gen_opt = Adam(learning_rate=0.0004)\n",
    "gen.summary()"
   ],
   "metadata": {
    "collapsed": false,
    "pycharm": {
     "name": "#%%\n"
    }
   }
  },
  {
   "cell_type": "code",
   "execution_count": 14,
   "outputs": [
    {
     "name": "stdout",
     "output_type": "stream",
     "text": [
      "Model: \"model_3\"\n",
      "_________________________________________________________________\n",
      "Layer (type)                 Output Shape              Param #   \n",
      "=================================================================\n",
      "input_5 (InputLayer)         [(None, 128, 128, 3)]     0         \n",
      "_________________________________________________________________\n",
      "conv2d_18 (Conv2D)           (None, 128, 128, 64)      1792      \n",
      "_________________________________________________________________\n",
      "leaky_re_lu_5 (LeakyReLU)    (None, 128, 128, 64)      0         \n",
      "_________________________________________________________________\n",
      "conv2d_19 (Conv2D)           (None, 64, 64, 64)        36928     \n",
      "_________________________________________________________________\n",
      "leaky_re_lu_6 (LeakyReLU)    (None, 64, 64, 64)        0         \n",
      "_________________________________________________________________\n",
      "batch_normalization_9 (Batch (None, 64, 64, 64)        256       \n",
      "_________________________________________________________________\n",
      "conv2d_20 (Conv2D)           (None, 32, 32, 128)       73856     \n",
      "_________________________________________________________________\n",
      "leaky_re_lu_7 (LeakyReLU)    (None, 32, 32, 128)       0         \n",
      "_________________________________________________________________\n",
      "batch_normalization_10 (Batc (None, 32, 32, 128)       512       \n",
      "_________________________________________________________________\n",
      "conv2d_21 (Conv2D)           (None, 16, 16, 256)       295168    \n",
      "_________________________________________________________________\n",
      "leaky_re_lu_8 (LeakyReLU)    (None, 16, 16, 256)       0         \n",
      "_________________________________________________________________\n",
      "batch_normalization_11 (Batc (None, 16, 16, 256)       1024      \n",
      "_________________________________________________________________\n",
      "dense_2 (Dense)              (None, 16, 16, 512)       131584    \n",
      "_________________________________________________________________\n",
      "leaky_re_lu_9 (LeakyReLU)    (None, 16, 16, 512)       0         \n",
      "_________________________________________________________________\n",
      "dense_3 (Dense)              (None, 16, 16, 1)         513       \n",
      "_________________________________________________________________\n",
      "tf.math.sigmoid_1 (TFOpLambd (None, 16, 16, 1)         0         \n",
      "=================================================================\n",
      "Total params: 541,633\n",
      "Trainable params: 540,737\n",
      "Non-trainable params: 896\n",
      "_________________________________________________________________\n"
     ]
    }
   ],
   "source": [
    "dis = discriminator_net((128, 128, 3))\n",
    "dis_opt = Adam(learning_rate=0.0003)\n",
    "dis.summary()"
   ],
   "metadata": {
    "collapsed": false,
    "pycharm": {
     "name": "#%%\n"
    }
   }
  },
  {
   "cell_type": "code",
   "execution_count": 15,
   "outputs": [],
   "source": [
    "def img_to_one(img: Union[Tensor, np.ndarray]):\n",
    "    \"\"\"\n",
    "    归一化\n",
    "\n",
    "    :param img:\n",
    "    :return:\n",
    "    \"\"\"\n",
    "    return (img / 255. - 0.5) * 2.\n",
    "\n",
    "def reverse_img(img: Tensor):\n",
    "    \"\"\"\n",
    "    图片还原\n",
    "\n",
    "    :param img:\n",
    "    :return:\n",
    "    \"\"\"\n",
    "    return cast((img + constant(1, dtype=\"float32\")) * 255 / 2, dtype=\"int32\")\n",
    "\n",
    "def data_loader(img_path: str, batch_size: int) -> Generator:\n",
    "    img_list = list(Path(img_path).iterdir())\n",
    "    batch_num = len(img_list) // batch_size\n",
    "    np.random.shuffle(img_list)\n",
    "    batch_hr_img_data = []\n",
    "    batch_lr_img_data = []\n",
    "    for num in range(0, batch_size * batch_num):\n",
    "        _img = cv2.cvtColor(cv2.resize(cv2.imread(str(img_list[num]), cv2.IMREAD_COLOR),\n",
    "                                       (128, 128)), cv2.COLOR_BGR2RGB)\n",
    "        batch_hr_img_data.append(_img)\n",
    "        batch_lr_img_data.append(cv2.resize(_img, (32, 32), cv2.INTER_LINEAR))\n",
    "        if (num + 1) % batch_size == 0:\n",
    "            hr_data = img_to_one(np.array(batch_hr_img_data, dtype=\"float32\"))\n",
    "            lr_data = img_to_one(np.array(batch_lr_img_data, dtype=\"float32\"))\n",
    "            batch_hr_img_data.clear()\n",
    "            batch_lr_img_data.clear()\n",
    "            yield hr_data, lr_data, f'{num} / {batch_size * batch_num + 1}'\n",
    "    batch_hr_img_data.clear()\n",
    "    batch_lr_img_data.clear()"
   ],
   "metadata": {
    "collapsed": false,
    "pycharm": {
     "name": "#%%\n"
    }
   }
  },
  {
   "cell_type": "code",
   "execution_count": 16,
   "outputs": [
    {
     "name": "stderr",
     "output_type": "stream",
     "text": [
      "Clipping input data to the valid range for imshow with RGB data ([0..1] for floats or [0..255] for integers).\n",
      "Clipping input data to the valid range for imshow with RGB data ([0..1] for floats or [0..255] for integers).\n"
     ]
    },
    {
     "data": {
      "text/plain": "<Figure size 432x288 with 2 Axes>",
      "image/png": "[encoded data removed]"
     },
     "metadata": {
      "needs_background": "light"
     },
     "output_type": "display_data"
    }
   ],
   "source": [
    "a, b, _ = next(data_loader('../data/training_set/cats', 1))\n",
    "plt.figure()\n",
    "plt.subplot(2, 1, 1)\n",
    "plt.imshow(a[0])\n",
    "plt.subplot(2, 1, 2)\n",
    "plt.imshow(b[0])\n",
    "plt.axis(\"off\")\n",
    "plt.show()\n",
    "\n",
    "def show_pic(real_img, fake_img):\n",
    "    plt.figure()\n",
    "    plt.axis(\"off\")\n",
    "    plt.subplot(2, 1, 1)\n",
    "    plt.imshow(real_img[0])\n",
    "    plt.subplot(2, 1, 2)\n",
    "    plt.imshow(fake_img[0])\n",
    "    plt.show()"
   ],
   "metadata": {
    "collapsed": false,
    "pycharm": {
     "name": "#%%\n"
    }
   }
  },
  {
   "cell_type": "code",
   "execution_count": 17,
   "outputs": [],
   "source": [
    "bc = BinaryCrossentropy(from_logits=False)\n",
    "vgg19 = VGG19(include_top=False)\n",
    "vgg19.trainable = False\n",
    "dis_output_shape = (16, 16, 1)\n",
    "\n",
    "def content_loss(hr_img: Tensor, fake_hr_img: Tensor, d_preds: Tensor, batch_size: int):\n",
    "    hr_img = reverse_img(hr_img)\n",
    "    fake_hr_img = reverse_img(fake_hr_img)\n",
    "    hr_img = preprocess_input(hr_img)\n",
    "    fake_hr_img = preprocess_input(fake_hr_img)\n",
    "    hr_img_f = vgg19(hr_img)\n",
    "    fake_hr_img_f = vgg19(fake_hr_img)\n",
    "    return mean_squared_error(hr_img_f, fake_hr_img_f) + bc(ones(shape=(batch_size, *dis_output_shape)), d_preds)\n",
    "\n",
    "\n",
    "@function\n",
    "def train_step(hr_img: Tensor, lr_img: Tensor):\n",
    "    batch_size = hr_img.shape[0]\n",
    "    fake_hr_img = gen(lr_img)\n",
    "    img_set = concat([hr_img, fake_hr_img], axis=0)\n",
    "    img_label = concat([ones(shape=(batch_size, *dis_output_shape)), zeros(shape=(batch_size, *dis_output_shape))], axis=0)\n",
    "    img_label += 0.05 * random.uniform(img_label.shape)\n",
    "\n",
    "    with GradientTape() as dis_G:\n",
    "        d_preds = dis(img_set)\n",
    "        d_loss = bc(img_label, d_preds)\n",
    "    d_gradiant = dis_G.gradient(d_loss, dis.trainable_weights)\n",
    "    dis_opt.apply_gradients(zip(d_gradiant, dis.trainable_weights))\n",
    "\n",
    "    with GradientTape() as gen_G:\n",
    "        g_preds = gen(lr_img)\n",
    "        d_preds = dis(g_preds)\n",
    "        g_loss = content_loss(hr_img, g_preds, d_preds, batch_size)\n",
    "    g_gradiant = gen_G.gradient(g_loss, gen.trainable_weights)\n",
    "    gen_opt.apply_gradients(zip(g_gradiant, gen.trainable_weights))\n",
    "\n",
    "    return d_loss, g_loss"
   ],
   "metadata": {
    "collapsed": false,
    "pycharm": {
     "name": "#%%\n"
    }
   }
  },
  {
   "cell_type": "code",
   "execution_count": 18,
   "outputs": [
    {
     "ename": "KeyboardInterrupt",
     "evalue": "",
     "output_type": "error",
     "traceback": [
      "\u001B[1;31m---------------------------------------------------------------------------\u001B[0m",
      "\u001B[1;31mKeyboardInterrupt\u001B[0m                         Traceback (most recent call last)",
      "\u001B[1;32m~\\AppData\\Local\\Temp/ipykernel_12364/76842578.py\u001B[0m in \u001B[0;36m<module>\u001B[1;34m\u001B[0m\n\u001B[0;32m     15\u001B[0m         \u001B[0mshow_pic\u001B[0m\u001B[1;33m(\u001B[0m\u001B[0mtest_img\u001B[0m\u001B[1;33m,\u001B[0m \u001B[0mgen_pic\u001B[0m\u001B[1;33m)\u001B[0m\u001B[1;33m\u001B[0m\u001B[1;33m\u001B[0m\u001B[0m\n\u001B[0;32m     16\u001B[0m \u001B[1;33m\u001B[0m\u001B[0m\n\u001B[1;32m---> 17\u001B[1;33m \u001B[0mtrain\u001B[0m\u001B[1;33m(\u001B[0m\u001B[1;33m)\u001B[0m\u001B[1;33m\u001B[0m\u001B[1;33m\u001B[0m\u001B[0m\n\u001B[0m",
      "\u001B[1;32m~\\AppData\\Local\\Temp/ipykernel_12364/76842578.py\u001B[0m in \u001B[0;36mtrain\u001B[1;34m()\u001B[0m\n\u001B[0;32m      7\u001B[0m     \u001B[1;32mfor\u001B[0m \u001B[0mepoch\u001B[0m \u001B[1;32min\u001B[0m \u001B[0mrange\u001B[0m\u001B[1;33m(\u001B[0m\u001B[1;36m1\u001B[0m\u001B[1;33m,\u001B[0m \u001B[0mepochs\u001B[0m \u001B[1;33m+\u001B[0m \u001B[1;36m1\u001B[0m\u001B[1;33m)\u001B[0m\u001B[1;33m:\u001B[0m\u001B[1;33m\u001B[0m\u001B[1;33m\u001B[0m\u001B[0m\n\u001B[0;32m      8\u001B[0m         \u001B[1;32mfor\u001B[0m \u001B[0mhr_data\u001B[0m\u001B[1;33m,\u001B[0m \u001B[0mlr_data\u001B[0m\u001B[1;33m,\u001B[0m \u001B[0minfo\u001B[0m \u001B[1;32min\u001B[0m \u001B[0mdata_loader\u001B[0m\u001B[1;33m(\u001B[0m\u001B[1;34m'../data/training_set/cats'\u001B[0m\u001B[1;33m,\u001B[0m \u001B[0mbatch_size\u001B[0m\u001B[1;33m)\u001B[0m\u001B[1;33m:\u001B[0m\u001B[1;33m\u001B[0m\u001B[1;33m\u001B[0m\u001B[0m\n\u001B[1;32m----> 9\u001B[1;33m             \u001B[0md_loss\u001B[0m\u001B[1;33m,\u001B[0m \u001B[0mg_loss\u001B[0m \u001B[1;33m=\u001B[0m \u001B[0mtrain_step\u001B[0m\u001B[1;33m(\u001B[0m\u001B[0mhr_data\u001B[0m\u001B[1;33m,\u001B[0m \u001B[0mlr_data\u001B[0m\u001B[1;33m)\u001B[0m\u001B[1;33m\u001B[0m\u001B[1;33m\u001B[0m\u001B[0m\n\u001B[0m\u001B[0;32m     10\u001B[0m             print(f'\\r{epoch=}--{info}--d_loss={d_loss.numpy()}',\n\u001B[0;32m     11\u001B[0m                   end='', flush=True)\n",
      "\u001B[1;32md:\\vnv\\lib\\site-packages\\tensorflow\\python\\eager\\def_function.py\u001B[0m in \u001B[0;36m__call__\u001B[1;34m(self, *args, **kwds)\u001B[0m\n\u001B[0;32m    883\u001B[0m \u001B[1;33m\u001B[0m\u001B[0m\n\u001B[0;32m    884\u001B[0m       \u001B[1;32mwith\u001B[0m \u001B[0mOptionalXlaContext\u001B[0m\u001B[1;33m(\u001B[0m\u001B[0mself\u001B[0m\u001B[1;33m.\u001B[0m\u001B[0m_jit_compile\u001B[0m\u001B[1;33m)\u001B[0m\u001B[1;33m:\u001B[0m\u001B[1;33m\u001B[0m\u001B[1;33m\u001B[0m\u001B[0m\n\u001B[1;32m--> 885\u001B[1;33m         \u001B[0mresult\u001B[0m \u001B[1;33m=\u001B[0m \u001B[0mself\u001B[0m\u001B[1;33m.\u001B[0m\u001B[0m_call\u001B[0m\u001B[1;33m(\u001B[0m\u001B[1;33m*\u001B[0m\u001B[0margs\u001B[0m\u001B[1;33m,\u001B[0m \u001B[1;33m**\u001B[0m\u001B[0mkwds\u001B[0m\u001B[1;33m)\u001B[0m\u001B[1;33m\u001B[0m\u001B[1;33m\u001B[0m\u001B[0m\n\u001B[0m\u001B[0;32m    886\u001B[0m \u001B[1;33m\u001B[0m\u001B[0m\n\u001B[0;32m    887\u001B[0m       \u001B[0mnew_tracing_count\u001B[0m \u001B[1;33m=\u001B[0m \u001B[0mself\u001B[0m\u001B[1;33m.\u001B[0m\u001B[0mexperimental_get_tracing_count\u001B[0m\u001B[1;33m(\u001B[0m\u001B[1;33m)\u001B[0m\u001B[1;33m\u001B[0m\u001B[1;33m\u001B[0m\u001B[0m\n",
      "\u001B[1;32md:\\vnv\\lib\\site-packages\\tensorflow\\python\\eager\\def_function.py\u001B[0m in \u001B[0;36m_call\u001B[1;34m(self, *args, **kwds)\u001B[0m\n\u001B[0;32m    948\u001B[0m         \u001B[1;31m# Lifting succeeded, so variables are initialized and we can run the\u001B[0m\u001B[1;33m\u001B[0m\u001B[1;33m\u001B[0m\u001B[0m\n\u001B[0;32m    949\u001B[0m         \u001B[1;31m# stateless function.\u001B[0m\u001B[1;33m\u001B[0m\u001B[1;33m\u001B[0m\u001B[0m\n\u001B[1;32m--> 950\u001B[1;33m         \u001B[1;32mreturn\u001B[0m \u001B[0mself\u001B[0m\u001B[1;33m.\u001B[0m\u001B[0m_stateless_fn\u001B[0m\u001B[1;33m(\u001B[0m\u001B[1;33m*\u001B[0m\u001B[0margs\u001B[0m\u001B[1;33m,\u001B[0m \u001B[1;33m**\u001B[0m\u001B[0mkwds\u001B[0m\u001B[1;33m)\u001B[0m\u001B[1;33m\u001B[0m\u001B[1;33m\u001B[0m\u001B[0m\n\u001B[0m\u001B[0;32m    951\u001B[0m     \u001B[1;32melse\u001B[0m\u001B[1;33m:\u001B[0m\u001B[1;33m\u001B[0m\u001B[1;33m\u001B[0m\u001B[0m\n\u001B[0;32m    952\u001B[0m       \u001B[0m_\u001B[0m\u001B[1;33m,\u001B[0m \u001B[0m_\u001B[0m\u001B[1;33m,\u001B[0m \u001B[0m_\u001B[0m\u001B[1;33m,\u001B[0m \u001B[0mfiltered_flat_args\u001B[0m \u001B[1;33m=\u001B[0m\u001B[0;31m \u001B[0m\u001B[0;31m\\\u001B[0m\u001B[1;33m\u001B[0m\u001B[1;33m\u001B[0m\u001B[0m\n",
      "\u001B[1;32md:\\vnv\\lib\\site-packages\\tensorflow\\python\\eager\\function.py\u001B[0m in \u001B[0;36m__call__\u001B[1;34m(self, *args, **kwargs)\u001B[0m\n\u001B[0;32m   3037\u001B[0m       (graph_function,\n\u001B[0;32m   3038\u001B[0m        filtered_flat_args) = self._maybe_define_function(args, kwargs)\n\u001B[1;32m-> 3039\u001B[1;33m     return graph_function._call_flat(\n\u001B[0m\u001B[0;32m   3040\u001B[0m         filtered_flat_args, captured_inputs=graph_function.captured_inputs)  # pylint: disable=protected-access\n\u001B[0;32m   3041\u001B[0m \u001B[1;33m\u001B[0m\u001B[0m\n",
      "\u001B[1;32md:\\vnv\\lib\\site-packages\\tensorflow\\python\\eager\\function.py\u001B[0m in \u001B[0;36m_call_flat\u001B[1;34m(self, args, captured_inputs, cancellation_manager)\u001B[0m\n\u001B[0;32m   1961\u001B[0m         and executing_eagerly):\n\u001B[0;32m   1962\u001B[0m       \u001B[1;31m# No tape is watching; skip to running the function.\u001B[0m\u001B[1;33m\u001B[0m\u001B[1;33m\u001B[0m\u001B[0m\n\u001B[1;32m-> 1963\u001B[1;33m       return self._build_call_outputs(self._inference_function.call(\n\u001B[0m\u001B[0;32m   1964\u001B[0m           ctx, args, cancellation_manager=cancellation_manager))\n\u001B[0;32m   1965\u001B[0m     forward_backward = self._select_forward_and_backward_functions(\n",
      "\u001B[1;32md:\\vnv\\lib\\site-packages\\tensorflow\\python\\eager\\function.py\u001B[0m in \u001B[0;36mcall\u001B[1;34m(self, ctx, args, cancellation_manager)\u001B[0m\n\u001B[0;32m    589\u001B[0m       \u001B[1;32mwith\u001B[0m \u001B[0m_InterpolateFunctionError\u001B[0m\u001B[1;33m(\u001B[0m\u001B[0mself\u001B[0m\u001B[1;33m)\u001B[0m\u001B[1;33m:\u001B[0m\u001B[1;33m\u001B[0m\u001B[1;33m\u001B[0m\u001B[0m\n\u001B[0;32m    590\u001B[0m         \u001B[1;32mif\u001B[0m \u001B[0mcancellation_manager\u001B[0m \u001B[1;32mis\u001B[0m \u001B[1;32mNone\u001B[0m\u001B[1;33m:\u001B[0m\u001B[1;33m\u001B[0m\u001B[1;33m\u001B[0m\u001B[0m\n\u001B[1;32m--> 591\u001B[1;33m           outputs = execute.execute(\n\u001B[0m\u001B[0;32m    592\u001B[0m               \u001B[0mstr\u001B[0m\u001B[1;33m(\u001B[0m\u001B[0mself\u001B[0m\u001B[1;33m.\u001B[0m\u001B[0msignature\u001B[0m\u001B[1;33m.\u001B[0m\u001B[0mname\u001B[0m\u001B[1;33m)\u001B[0m\u001B[1;33m,\u001B[0m\u001B[1;33m\u001B[0m\u001B[1;33m\u001B[0m\u001B[0m\n\u001B[0;32m    593\u001B[0m               \u001B[0mnum_outputs\u001B[0m\u001B[1;33m=\u001B[0m\u001B[0mself\u001B[0m\u001B[1;33m.\u001B[0m\u001B[0m_num_outputs\u001B[0m\u001B[1;33m,\u001B[0m\u001B[1;33m\u001B[0m\u001B[1;33m\u001B[0m\u001B[0m\n",
      "\u001B[1;32md:\\vnv\\lib\\site-packages\\tensorflow\\python\\eager\\execute.py\u001B[0m in \u001B[0;36mquick_execute\u001B[1;34m(op_name, num_outputs, inputs, attrs, ctx, name)\u001B[0m\n\u001B[0;32m     57\u001B[0m   \u001B[1;32mtry\u001B[0m\u001B[1;33m:\u001B[0m\u001B[1;33m\u001B[0m\u001B[1;33m\u001B[0m\u001B[0m\n\u001B[0;32m     58\u001B[0m     \u001B[0mctx\u001B[0m\u001B[1;33m.\u001B[0m\u001B[0mensure_initialized\u001B[0m\u001B[1;33m(\u001B[0m\u001B[1;33m)\u001B[0m\u001B[1;33m\u001B[0m\u001B[1;33m\u001B[0m\u001B[0m\n\u001B[1;32m---> 59\u001B[1;33m     tensors = pywrap_tfe.TFE_Py_Execute(ctx._handle, device_name, op_name,\n\u001B[0m\u001B[0;32m     60\u001B[0m                                         inputs, attrs, num_outputs)\n\u001B[0;32m     61\u001B[0m   \u001B[1;32mexcept\u001B[0m \u001B[0mcore\u001B[0m\u001B[1;33m.\u001B[0m\u001B[0m_NotOkStatusException\u001B[0m \u001B[1;32mas\u001B[0m \u001B[0me\u001B[0m\u001B[1;33m:\u001B[0m\u001B[1;33m\u001B[0m\u001B[1;33m\u001B[0m\u001B[0m\n",
      "\u001B[1;31mKeyboardInterrupt\u001B[0m: "
     ]
    }
   ],
   "source": [
    "def train():\n",
    "    epochs = 2000\n",
    "    batch_size = 32\n",
    "    test_img = cv2.cvtColor(cv2.resize(cv2.imread('../data/training_set/dogs/dog.1.jpg', cv2.IMREAD_COLOR), (32, 32), cv2.INTER_LINEAR), cv2.COLOR_BGR2RGB)\n",
    "    test_img = img_to_one(test_img)\n",
    "    test_img = np.expand_dims(test_img, axis=0)\n",
    "    for epoch in range(1, epochs + 1):\n",
    "        for hr_data, lr_data, info in data_loader('../data/training_set/cats', batch_size):\n",
    "            d_loss, g_loss = train_step(hr_data, lr_data)\n",
    "            print(f'\\r{epoch=}--{info}--d_loss={d_loss.numpy()}',\n",
    "                  end='', flush=True)\n",
    "        print()\n",
    "\n",
    "        gen_pic = gen(test_img)\n",
    "        show_pic(test_img, gen_pic)\n",
    "\n",
    "train()"
   ],
   "metadata": {
    "collapsed": false,
    "pycharm": {
     "name": "#%%\n"
    }
   }
  },
  {
   "cell_type": "code",
   "execution_count": null,
   "outputs": [],
   "source": [],
   "metadata": {
    "collapsed": false,
    "pycharm": {
     "name": "#%%\n"
    }
   }
  }
 ],
 "metadata": {
  "kernelspec": {
   "display_name": "Python 3",
   "language": "python",
   "name": "python3"
  },
  "language_info": {
   "codemirror_mode": {
    "name": "ipython",
    "version": 2
   },
   "file_extension": ".py",
   "mimetype": "text/x-python",
   "name": "python",
   "nbconvert_exporter": "python",
   "pygments_lexer": "ipython2",
   "version": "2.7.6"
  }
 },
 "nbformat": 4,
 "nbformat_minor": 0
}